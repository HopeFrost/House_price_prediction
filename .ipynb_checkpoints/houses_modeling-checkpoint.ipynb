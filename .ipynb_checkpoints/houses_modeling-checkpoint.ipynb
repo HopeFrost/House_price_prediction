{
 "cells": [
  {
   "cell_type": "code",
   "execution_count": 1,
   "id": "fcb0bdf3",
   "metadata": {},
   "outputs": [],
   "source": [
    "import pandas as pd\n",
    "import numpy as np\n",
    "import seaborn as sns\n",
    "import matplotlib.pyplot as plt\n",
    "from sklearn.linear_model import LinearRegression\n",
    "from sklearn.model_selection import train_test_split, cross_val_score\n",
    "from sklearn.metrics import mean_squared_error, mean_absolute_error, r2_score"
   ]
  },
  {
   "cell_type": "code",
   "execution_count": 2,
   "id": "4898e14e",
   "metadata": {},
   "outputs": [],
   "source": [
    "# import data from previous wrangle and EDA notebooks\n",
    "df_houses = pd.read_csv('houses.csv')\n",
    "test = pd.read_csv('houses_test.csv')"
   ]
  },
  {
   "cell_type": "code",
   "execution_count": 3,
   "id": "5b3eaed6",
   "metadata": {
    "scrolled": true
   },
   "outputs": [
    {
     "data": {
      "text/html": [
       "<div>\n",
       "<style scoped>\n",
       "    .dataframe tbody tr th:only-of-type {\n",
       "        vertical-align: middle;\n",
       "    }\n",
       "\n",
       "    .dataframe tbody tr th {\n",
       "        vertical-align: top;\n",
       "    }\n",
       "\n",
       "    .dataframe thead th {\n",
       "        text-align: right;\n",
       "    }\n",
       "</style>\n",
       "<table border=\"1\" class=\"dataframe\">\n",
       "  <thead>\n",
       "    <tr style=\"text-align: right;\">\n",
       "      <th></th>\n",
       "      <th>Unnamed: 0</th>\n",
       "      <th>Id</th>\n",
       "      <th>MSSubClass</th>\n",
       "      <th>MSZoning</th>\n",
       "      <th>LotFrontage</th>\n",
       "      <th>LotArea</th>\n",
       "      <th>Street</th>\n",
       "      <th>Alley</th>\n",
       "      <th>LotShape</th>\n",
       "      <th>LandContour</th>\n",
       "      <th>...</th>\n",
       "      <th>PoolArea</th>\n",
       "      <th>PoolQC</th>\n",
       "      <th>Fence</th>\n",
       "      <th>MiscFeature</th>\n",
       "      <th>MiscVal</th>\n",
       "      <th>MoSold</th>\n",
       "      <th>YrSold</th>\n",
       "      <th>SaleType</th>\n",
       "      <th>SaleCondition</th>\n",
       "      <th>SalePrice</th>\n",
       "    </tr>\n",
       "  </thead>\n",
       "  <tbody>\n",
       "    <tr>\n",
       "      <th>0</th>\n",
       "      <td>0</td>\n",
       "      <td>1</td>\n",
       "      <td>60</td>\n",
       "      <td>RL</td>\n",
       "      <td>65.0</td>\n",
       "      <td>8450</td>\n",
       "      <td>Pave</td>\n",
       "      <td>NaN</td>\n",
       "      <td>Reg</td>\n",
       "      <td>Lvl</td>\n",
       "      <td>...</td>\n",
       "      <td>0</td>\n",
       "      <td>0</td>\n",
       "      <td>0</td>\n",
       "      <td>NaN</td>\n",
       "      <td>0</td>\n",
       "      <td>2</td>\n",
       "      <td>2008</td>\n",
       "      <td>WD</td>\n",
       "      <td>Normal</td>\n",
       "      <td>208500</td>\n",
       "    </tr>\n",
       "    <tr>\n",
       "      <th>1</th>\n",
       "      <td>1</td>\n",
       "      <td>2</td>\n",
       "      <td>20</td>\n",
       "      <td>RL</td>\n",
       "      <td>80.0</td>\n",
       "      <td>9600</td>\n",
       "      <td>Pave</td>\n",
       "      <td>NaN</td>\n",
       "      <td>Reg</td>\n",
       "      <td>Lvl</td>\n",
       "      <td>...</td>\n",
       "      <td>0</td>\n",
       "      <td>0</td>\n",
       "      <td>0</td>\n",
       "      <td>NaN</td>\n",
       "      <td>0</td>\n",
       "      <td>5</td>\n",
       "      <td>2007</td>\n",
       "      <td>WD</td>\n",
       "      <td>Normal</td>\n",
       "      <td>181500</td>\n",
       "    </tr>\n",
       "    <tr>\n",
       "      <th>2</th>\n",
       "      <td>2</td>\n",
       "      <td>3</td>\n",
       "      <td>60</td>\n",
       "      <td>RL</td>\n",
       "      <td>68.0</td>\n",
       "      <td>11250</td>\n",
       "      <td>Pave</td>\n",
       "      <td>NaN</td>\n",
       "      <td>IR1</td>\n",
       "      <td>Lvl</td>\n",
       "      <td>...</td>\n",
       "      <td>0</td>\n",
       "      <td>0</td>\n",
       "      <td>0</td>\n",
       "      <td>NaN</td>\n",
       "      <td>0</td>\n",
       "      <td>9</td>\n",
       "      <td>2008</td>\n",
       "      <td>WD</td>\n",
       "      <td>Normal</td>\n",
       "      <td>223500</td>\n",
       "    </tr>\n",
       "    <tr>\n",
       "      <th>3</th>\n",
       "      <td>3</td>\n",
       "      <td>4</td>\n",
       "      <td>70</td>\n",
       "      <td>RL</td>\n",
       "      <td>60.0</td>\n",
       "      <td>9550</td>\n",
       "      <td>Pave</td>\n",
       "      <td>NaN</td>\n",
       "      <td>IR1</td>\n",
       "      <td>Lvl</td>\n",
       "      <td>...</td>\n",
       "      <td>0</td>\n",
       "      <td>0</td>\n",
       "      <td>0</td>\n",
       "      <td>NaN</td>\n",
       "      <td>0</td>\n",
       "      <td>2</td>\n",
       "      <td>2006</td>\n",
       "      <td>WD</td>\n",
       "      <td>Abnorml</td>\n",
       "      <td>140000</td>\n",
       "    </tr>\n",
       "    <tr>\n",
       "      <th>4</th>\n",
       "      <td>4</td>\n",
       "      <td>5</td>\n",
       "      <td>60</td>\n",
       "      <td>RL</td>\n",
       "      <td>84.0</td>\n",
       "      <td>14260</td>\n",
       "      <td>Pave</td>\n",
       "      <td>NaN</td>\n",
       "      <td>IR1</td>\n",
       "      <td>Lvl</td>\n",
       "      <td>...</td>\n",
       "      <td>0</td>\n",
       "      <td>0</td>\n",
       "      <td>0</td>\n",
       "      <td>NaN</td>\n",
       "      <td>0</td>\n",
       "      <td>12</td>\n",
       "      <td>2008</td>\n",
       "      <td>WD</td>\n",
       "      <td>Normal</td>\n",
       "      <td>250000</td>\n",
       "    </tr>\n",
       "    <tr>\n",
       "      <th>...</th>\n",
       "      <td>...</td>\n",
       "      <td>...</td>\n",
       "      <td>...</td>\n",
       "      <td>...</td>\n",
       "      <td>...</td>\n",
       "      <td>...</td>\n",
       "      <td>...</td>\n",
       "      <td>...</td>\n",
       "      <td>...</td>\n",
       "      <td>...</td>\n",
       "      <td>...</td>\n",
       "      <td>...</td>\n",
       "      <td>...</td>\n",
       "      <td>...</td>\n",
       "      <td>...</td>\n",
       "      <td>...</td>\n",
       "      <td>...</td>\n",
       "      <td>...</td>\n",
       "      <td>...</td>\n",
       "      <td>...</td>\n",
       "      <td>...</td>\n",
       "    </tr>\n",
       "    <tr>\n",
       "      <th>1454</th>\n",
       "      <td>1455</td>\n",
       "      <td>1456</td>\n",
       "      <td>60</td>\n",
       "      <td>RL</td>\n",
       "      <td>62.0</td>\n",
       "      <td>7917</td>\n",
       "      <td>Pave</td>\n",
       "      <td>NaN</td>\n",
       "      <td>Reg</td>\n",
       "      <td>Lvl</td>\n",
       "      <td>...</td>\n",
       "      <td>0</td>\n",
       "      <td>0</td>\n",
       "      <td>0</td>\n",
       "      <td>NaN</td>\n",
       "      <td>0</td>\n",
       "      <td>8</td>\n",
       "      <td>2007</td>\n",
       "      <td>WD</td>\n",
       "      <td>Normal</td>\n",
       "      <td>175000</td>\n",
       "    </tr>\n",
       "    <tr>\n",
       "      <th>1455</th>\n",
       "      <td>1456</td>\n",
       "      <td>1457</td>\n",
       "      <td>20</td>\n",
       "      <td>RL</td>\n",
       "      <td>85.0</td>\n",
       "      <td>13175</td>\n",
       "      <td>Pave</td>\n",
       "      <td>NaN</td>\n",
       "      <td>Reg</td>\n",
       "      <td>Lvl</td>\n",
       "      <td>...</td>\n",
       "      <td>0</td>\n",
       "      <td>0</td>\n",
       "      <td>4</td>\n",
       "      <td>NaN</td>\n",
       "      <td>0</td>\n",
       "      <td>2</td>\n",
       "      <td>2010</td>\n",
       "      <td>WD</td>\n",
       "      <td>Normal</td>\n",
       "      <td>210000</td>\n",
       "    </tr>\n",
       "    <tr>\n",
       "      <th>1456</th>\n",
       "      <td>1457</td>\n",
       "      <td>1458</td>\n",
       "      <td>70</td>\n",
       "      <td>RL</td>\n",
       "      <td>66.0</td>\n",
       "      <td>9042</td>\n",
       "      <td>Pave</td>\n",
       "      <td>NaN</td>\n",
       "      <td>Reg</td>\n",
       "      <td>Lvl</td>\n",
       "      <td>...</td>\n",
       "      <td>0</td>\n",
       "      <td>0</td>\n",
       "      <td>5</td>\n",
       "      <td>Shed</td>\n",
       "      <td>2500</td>\n",
       "      <td>5</td>\n",
       "      <td>2010</td>\n",
       "      <td>WD</td>\n",
       "      <td>Normal</td>\n",
       "      <td>266500</td>\n",
       "    </tr>\n",
       "    <tr>\n",
       "      <th>1457</th>\n",
       "      <td>1458</td>\n",
       "      <td>1459</td>\n",
       "      <td>20</td>\n",
       "      <td>RL</td>\n",
       "      <td>68.0</td>\n",
       "      <td>9717</td>\n",
       "      <td>Pave</td>\n",
       "      <td>NaN</td>\n",
       "      <td>Reg</td>\n",
       "      <td>Lvl</td>\n",
       "      <td>...</td>\n",
       "      <td>0</td>\n",
       "      <td>0</td>\n",
       "      <td>0</td>\n",
       "      <td>NaN</td>\n",
       "      <td>0</td>\n",
       "      <td>4</td>\n",
       "      <td>2010</td>\n",
       "      <td>WD</td>\n",
       "      <td>Normal</td>\n",
       "      <td>142125</td>\n",
       "    </tr>\n",
       "    <tr>\n",
       "      <th>1458</th>\n",
       "      <td>1459</td>\n",
       "      <td>1460</td>\n",
       "      <td>20</td>\n",
       "      <td>RL</td>\n",
       "      <td>75.0</td>\n",
       "      <td>9937</td>\n",
       "      <td>Pave</td>\n",
       "      <td>NaN</td>\n",
       "      <td>Reg</td>\n",
       "      <td>Lvl</td>\n",
       "      <td>...</td>\n",
       "      <td>0</td>\n",
       "      <td>0</td>\n",
       "      <td>0</td>\n",
       "      <td>NaN</td>\n",
       "      <td>0</td>\n",
       "      <td>6</td>\n",
       "      <td>2008</td>\n",
       "      <td>WD</td>\n",
       "      <td>Normal</td>\n",
       "      <td>147500</td>\n",
       "    </tr>\n",
       "  </tbody>\n",
       "</table>\n",
       "<p>1459 rows × 82 columns</p>\n",
       "</div>"
      ],
      "text/plain": [
       "      Unnamed: 0    Id  MSSubClass MSZoning  LotFrontage  LotArea Street  \\\n",
       "0              0     1          60       RL         65.0     8450   Pave   \n",
       "1              1     2          20       RL         80.0     9600   Pave   \n",
       "2              2     3          60       RL         68.0    11250   Pave   \n",
       "3              3     4          70       RL         60.0     9550   Pave   \n",
       "4              4     5          60       RL         84.0    14260   Pave   \n",
       "...          ...   ...         ...      ...          ...      ...    ...   \n",
       "1454        1455  1456          60       RL         62.0     7917   Pave   \n",
       "1455        1456  1457          20       RL         85.0    13175   Pave   \n",
       "1456        1457  1458          70       RL         66.0     9042   Pave   \n",
       "1457        1458  1459          20       RL         68.0     9717   Pave   \n",
       "1458        1459  1460          20       RL         75.0     9937   Pave   \n",
       "\n",
       "     Alley LotShape LandContour  ... PoolArea PoolQC Fence MiscFeature  \\\n",
       "0      NaN      Reg         Lvl  ...        0      0     0         NaN   \n",
       "1      NaN      Reg         Lvl  ...        0      0     0         NaN   \n",
       "2      NaN      IR1         Lvl  ...        0      0     0         NaN   \n",
       "3      NaN      IR1         Lvl  ...        0      0     0         NaN   \n",
       "4      NaN      IR1         Lvl  ...        0      0     0         NaN   \n",
       "...    ...      ...         ...  ...      ...    ...   ...         ...   \n",
       "1454   NaN      Reg         Lvl  ...        0      0     0         NaN   \n",
       "1455   NaN      Reg         Lvl  ...        0      0     4         NaN   \n",
       "1456   NaN      Reg         Lvl  ...        0      0     5        Shed   \n",
       "1457   NaN      Reg         Lvl  ...        0      0     0         NaN   \n",
       "1458   NaN      Reg         Lvl  ...        0      0     0         NaN   \n",
       "\n",
       "     MiscVal MoSold YrSold SaleType  SaleCondition  SalePrice  \n",
       "0          0      2   2008       WD         Normal     208500  \n",
       "1          0      5   2007       WD         Normal     181500  \n",
       "2          0      9   2008       WD         Normal     223500  \n",
       "3          0      2   2006       WD        Abnorml     140000  \n",
       "4          0     12   2008       WD         Normal     250000  \n",
       "...      ...    ...    ...      ...            ...        ...  \n",
       "1454       0      8   2007       WD         Normal     175000  \n",
       "1455       0      2   2010       WD         Normal     210000  \n",
       "1456    2500      5   2010       WD         Normal     266500  \n",
       "1457       0      4   2010       WD         Normal     142125  \n",
       "1458       0      6   2008       WD         Normal     147500  \n",
       "\n",
       "[1459 rows x 82 columns]"
      ]
     },
     "execution_count": 3,
     "metadata": {},
     "output_type": "execute_result"
    }
   ],
   "source": [
    "df_houses"
   ]
  },
  {
   "cell_type": "code",
   "execution_count": 4,
   "id": "13e54d6e",
   "metadata": {},
   "outputs": [],
   "source": [
    "df_houses.drop(columns =['Unnamed: 0','Id'], inplace=True)\n",
    "Id = test['Id']\n",
    "test.drop(columns =['Unnamed: 0', 'Id'], inplace=True)"
   ]
  },
  {
   "cell_type": "code",
   "execution_count": 5,
   "id": "48654145",
   "metadata": {},
   "outputs": [],
   "source": [
    "#split numeric features\n",
    "df_houses_numeric = df_houses.select_dtypes([np.number])\n",
    "df_test_numeric = test.select_dtypes([np.number])\n",
    "df_houses_numeric = df_houses_numeric.drop(columns=['SalePrice'])\n",
    "houses_num_col = df_houses_numeric.columns"
   ]
  },
  {
   "cell_type": "code",
   "execution_count": 6,
   "id": "31d1d5e9",
   "metadata": {},
   "outputs": [
    {
     "data": {
      "text/plain": [
       "(1459, 51)"
      ]
     },
     "execution_count": 6,
     "metadata": {},
     "output_type": "execute_result"
    }
   ],
   "source": [
    "df_houses_numeric.shape"
   ]
  },
  {
   "cell_type": "code",
   "execution_count": 7,
   "id": "5df7057d",
   "metadata": {
    "scrolled": true
   },
   "outputs": [
    {
     "data": {
      "text/plain": [
       "MSSubClass       0\n",
       "LotFrontage      0\n",
       "LotArea          0\n",
       "OverallQual      0\n",
       "OverallCond      0\n",
       "YearBuilt        0\n",
       "YearRemodAdd     0\n",
       "MasVnrArea       0\n",
       "ExterQual        0\n",
       "ExterCond        0\n",
       "BsmtQual         0\n",
       "BsmtCond         0\n",
       "BsmtExposure     0\n",
       "BsmtFinType1     0\n",
       "BsmtFinSF1       0\n",
       "BsmtFinType2     0\n",
       "BsmtFinSF2       0\n",
       "BsmtUnfSF        0\n",
       "TotalBsmtSF      0\n",
       "HeatingQC        0\n",
       "1stFlrSF         0\n",
       "2ndFlrSF         0\n",
       "LowQualFinSF     0\n",
       "GrLivArea        0\n",
       "BsmtFullBath     0\n",
       "BsmtHalfBath     0\n",
       "FullBath         0\n",
       "HalfBath         0\n",
       "BedroomAbvGr     0\n",
       "KitchenAbvGr     0\n",
       "KitchenQual      0\n",
       "TotRmsAbvGrd     0\n",
       "Fireplaces       0\n",
       "FireplaceQu      0\n",
       "GarageYrBlt      0\n",
       "GarageFinish     0\n",
       "GarageCars       0\n",
       "GarageArea       0\n",
       "GarageQual       0\n",
       "GarageCond       0\n",
       "WoodDeckSF       0\n",
       "OpenPorchSF      0\n",
       "EnclosedPorch    0\n",
       "3SsnPorch        0\n",
       "ScreenPorch      0\n",
       "PoolArea         0\n",
       "PoolQC           0\n",
       "Fence            0\n",
       "MiscVal          0\n",
       "MoSold           0\n",
       "YrSold           0\n",
       "dtype: int64"
      ]
     },
     "execution_count": 7,
     "metadata": {},
     "output_type": "execute_result"
    }
   ],
   "source": [
    "df_houses_numeric.isna().sum()"
   ]
  },
  {
   "cell_type": "code",
   "execution_count": 8,
   "id": "9833ef5e",
   "metadata": {},
   "outputs": [],
   "source": [
    "# examin outliers\n",
    "\n",
    "q5, q95 = df_houses_numeric.quantile(.005, axis=0), df_houses_numeric.quantile(.995, axis=0)\n",
    "iqr = q95 - q5\n"
   ]
  },
  {
   "cell_type": "code",
   "execution_count": 9,
   "id": "190f6919",
   "metadata": {
    "scrolled": true
   },
   "outputs": [
    {
     "data": {
      "text/plain": [
       "(12, 51)"
      ]
     },
     "execution_count": 9,
     "metadata": {},
     "output_type": "execute_result"
    }
   ],
   "source": [
    "# save outliers to be removed later\n",
    "drop_out = df_houses_numeric[(df_houses_numeric > (q95 + iqr * 1.5)).any(axis=1)]\n",
    "\n",
    "drop_out.shape\n"
   ]
  },
  {
   "cell_type": "code",
   "execution_count": 10,
   "id": "e663e13a",
   "metadata": {},
   "outputs": [],
   "source": [
    "# scale numeric features\n",
    "\n",
    "from sklearn.preprocessing import RobustScaler  \n",
    "scaler = RobustScaler ()\n",
    "\n",
    "df_houses_numeric = scaler.fit_transform(df_houses_numeric)\n",
    "\n",
    "# test is transform only\n",
    "df_test_numeric = scaler.transform(df_test_numeric)"
   ]
  },
  {
   "cell_type": "code",
   "execution_count": 11,
   "id": "a79939ce",
   "metadata": {},
   "outputs": [],
   "source": [
    "#replacing numeric features with scaled versions\n",
    "\n",
    "df_houses_numeric = pd.DataFrame(df_houses_numeric, columns=houses_num_col)\n",
    "df_houses[houses_num_col] = df_houses_numeric"
   ]
  },
  {
   "cell_type": "code",
   "execution_count": 12,
   "id": "81a36d6e",
   "metadata": {},
   "outputs": [],
   "source": [
    "#drop outliers from train only\n",
    "\n",
    "df_houses.drop(drop_out.index, inplace=True)"
   ]
  },
  {
   "cell_type": "code",
   "execution_count": 13,
   "id": "566bbca5",
   "metadata": {},
   "outputs": [],
   "source": [
    "#replacing numeric features in test with scaled versions\n",
    "\n",
    "df_test_numeric = pd.DataFrame(df_test_numeric, columns=houses_num_col)\n",
    "test[houses_num_col] = df_test_numeric"
   ]
  },
  {
   "cell_type": "code",
   "execution_count": 14,
   "id": "214e77a9",
   "metadata": {},
   "outputs": [],
   "source": [
    "# make dummies for catagorical features\n",
    "df_train = pd.get_dummies(df_houses)\n",
    "df_test = pd.get_dummies(test)"
   ]
  },
  {
   "cell_type": "code",
   "execution_count": 15,
   "id": "d0aae3e3",
   "metadata": {
    "scrolled": true
   },
   "outputs": [],
   "source": [
    "\n",
    "dif_test = df_train.columns.difference(df_test.columns).values\n",
    "\n",
    "# not all dummie features in both sets. We'll fill with 0s to match shapes\n",
    "df_test[dif_test] = 0"
   ]
  },
  {
   "cell_type": "code",
   "execution_count": 16,
   "id": "53b75189",
   "metadata": {},
   "outputs": [],
   "source": [
    "dif_train = df_test.columns.difference(df_train.columns).values\n",
    "df_train[dif_train] = 0"
   ]
  },
  {
   "cell_type": "code",
   "execution_count": 17,
   "id": "10c72778",
   "metadata": {},
   "outputs": [],
   "source": [
    "#remove sales price column from test it got added on with the numeric values\n",
    "df_test= df_test.drop(columns=['SalePrice'])"
   ]
  },
  {
   "cell_type": "code",
   "execution_count": 18,
   "id": "925d5ee6",
   "metadata": {
    "scrolled": true
   },
   "outputs": [
    {
     "data": {
      "text/plain": [
       "MSSubClass       0\n",
       "MSZoning         0\n",
       "LotFrontage      0\n",
       "LotArea          0\n",
       "Street           0\n",
       "                ..\n",
       "MoSold           0\n",
       "YrSold           0\n",
       "SaleType         0\n",
       "SaleCondition    0\n",
       "SalePrice        0\n",
       "Length: 80, dtype: int64"
      ]
     },
     "execution_count": 18,
     "metadata": {},
     "output_type": "execute_result"
    }
   ],
   "source": [
    "#double check the dataframe\n",
    "df_houses.isna().sum()"
   ]
  },
  {
   "cell_type": "code",
   "execution_count": 19,
   "id": "5c84d12b",
   "metadata": {
    "scrolled": true
   },
   "outputs": [
    {
     "data": {
      "text/plain": [
       "(1447, 234)"
      ]
     },
     "execution_count": 19,
     "metadata": {},
     "output_type": "execute_result"
    }
   ],
   "source": [
    "df_train.shape"
   ]
  },
  {
   "cell_type": "code",
   "execution_count": 20,
   "id": "92cfcc94",
   "metadata": {},
   "outputs": [
    {
     "data": {
      "text/html": [
       "<div>\n",
       "<style scoped>\n",
       "    .dataframe tbody tr th:only-of-type {\n",
       "        vertical-align: middle;\n",
       "    }\n",
       "\n",
       "    .dataframe tbody tr th {\n",
       "        vertical-align: top;\n",
       "    }\n",
       "\n",
       "    .dataframe thead th {\n",
       "        text-align: right;\n",
       "    }\n",
       "</style>\n",
       "<table border=\"1\" class=\"dataframe\">\n",
       "  <thead>\n",
       "    <tr style=\"text-align: right;\">\n",
       "      <th></th>\n",
       "      <th>MSSubClass</th>\n",
       "      <th>LotFrontage</th>\n",
       "      <th>LotArea</th>\n",
       "      <th>OverallQual</th>\n",
       "      <th>OverallCond</th>\n",
       "      <th>YearBuilt</th>\n",
       "      <th>YearRemodAdd</th>\n",
       "      <th>MasVnrArea</th>\n",
       "      <th>ExterQual</th>\n",
       "      <th>ExterCond</th>\n",
       "      <th>...</th>\n",
       "      <th>SaleType_New</th>\n",
       "      <th>SaleType_Oth</th>\n",
       "      <th>SaleType_WD</th>\n",
       "      <th>SaleCondition_Abnorml</th>\n",
       "      <th>SaleCondition_AdjLand</th>\n",
       "      <th>SaleCondition_Alloca</th>\n",
       "      <th>SaleCondition_Family</th>\n",
       "      <th>SaleCondition_Normal</th>\n",
       "      <th>SaleCondition_Partial</th>\n",
       "      <th>MiscFeature_Gar2</th>\n",
       "    </tr>\n",
       "  </thead>\n",
       "  <tbody>\n",
       "    <tr>\n",
       "      <th>count</th>\n",
       "      <td>1447.000000</td>\n",
       "      <td>1447.000000</td>\n",
       "      <td>1447.000000</td>\n",
       "      <td>1447.000000</td>\n",
       "      <td>1447.000000</td>\n",
       "      <td>1447.000000</td>\n",
       "      <td>1447.000000</td>\n",
       "      <td>1447.000000</td>\n",
       "      <td>1447.000000</td>\n",
       "      <td>1447.000000</td>\n",
       "      <td>...</td>\n",
       "      <td>1447.000000</td>\n",
       "      <td>1447.000000</td>\n",
       "      <td>1447.000000</td>\n",
       "      <td>1447.000000</td>\n",
       "      <td>1447.000000</td>\n",
       "      <td>1447.000000</td>\n",
       "      <td>1447.000000</td>\n",
       "      <td>1447.000000</td>\n",
       "      <td>1447.000000</td>\n",
       "      <td>1447.0</td>\n",
       "    </tr>\n",
       "    <tr>\n",
       "      <th>mean</th>\n",
       "      <td>0.135936</td>\n",
       "      <td>0.258429</td>\n",
       "      <td>0.153375</td>\n",
       "      <td>0.046994</td>\n",
       "      <td>0.574292</td>\n",
       "      <td>-0.037980</td>\n",
       "      <td>-0.247408</td>\n",
       "      <td>0.625963</td>\n",
       "      <td>0.395301</td>\n",
       "      <td>0.082239</td>\n",
       "      <td>...</td>\n",
       "      <td>0.083621</td>\n",
       "      <td>0.002073</td>\n",
       "      <td>0.867312</td>\n",
       "      <td>0.068417</td>\n",
       "      <td>0.002764</td>\n",
       "      <td>0.007602</td>\n",
       "      <td>0.013822</td>\n",
       "      <td>0.821700</td>\n",
       "      <td>0.085695</td>\n",
       "      <td>0.0</td>\n",
       "    </tr>\n",
       "    <tr>\n",
       "      <th>std</th>\n",
       "      <td>0.845741</td>\n",
       "      <td>1.109175</td>\n",
       "      <td>1.508585</td>\n",
       "      <td>0.689681</td>\n",
       "      <td>1.113156</td>\n",
       "      <td>0.657909</td>\n",
       "      <td>0.558992</td>\n",
       "      <td>1.095251</td>\n",
       "      <td>0.573678</td>\n",
       "      <td>0.350078</td>\n",
       "      <td>...</td>\n",
       "      <td>0.276915</td>\n",
       "      <td>0.045502</td>\n",
       "      <td>0.339355</td>\n",
       "      <td>0.252548</td>\n",
       "      <td>0.052522</td>\n",
       "      <td>0.086887</td>\n",
       "      <td>0.116791</td>\n",
       "      <td>0.382897</td>\n",
       "      <td>0.280009</td>\n",
       "      <td>0.0</td>\n",
       "    </tr>\n",
       "    <tr>\n",
       "      <th>min</th>\n",
       "      <td>-0.600000</td>\n",
       "      <td>-2.210526</td>\n",
       "      <td>-2.017020</td>\n",
       "      <td>-2.500000</td>\n",
       "      <td>-4.000000</td>\n",
       "      <td>-2.195652</td>\n",
       "      <td>-1.189189</td>\n",
       "      <td>0.000000</td>\n",
       "      <td>-1.000000</td>\n",
       "      <td>-2.000000</td>\n",
       "      <td>...</td>\n",
       "      <td>0.000000</td>\n",
       "      <td>0.000000</td>\n",
       "      <td>0.000000</td>\n",
       "      <td>0.000000</td>\n",
       "      <td>0.000000</td>\n",
       "      <td>0.000000</td>\n",
       "      <td>0.000000</td>\n",
       "      <td>0.000000</td>\n",
       "      <td>0.000000</td>\n",
       "      <td>0.0</td>\n",
       "    </tr>\n",
       "    <tr>\n",
       "      <th>25%</th>\n",
       "      <td>-0.600000</td>\n",
       "      <td>-0.157895</td>\n",
       "      <td>-0.487667</td>\n",
       "      <td>-0.500000</td>\n",
       "      <td>0.000000</td>\n",
       "      <td>-0.413043</td>\n",
       "      <td>-0.729730</td>\n",
       "      <td>0.000000</td>\n",
       "      <td>0.000000</td>\n",
       "      <td>0.000000</td>\n",
       "      <td>...</td>\n",
       "      <td>0.000000</td>\n",
       "      <td>0.000000</td>\n",
       "      <td>1.000000</td>\n",
       "      <td>0.000000</td>\n",
       "      <td>0.000000</td>\n",
       "      <td>0.000000</td>\n",
       "      <td>0.000000</td>\n",
       "      <td>1.000000</td>\n",
       "      <td>0.000000</td>\n",
       "      <td>0.0</td>\n",
       "    </tr>\n",
       "    <tr>\n",
       "      <th>50%</th>\n",
       "      <td>0.000000</td>\n",
       "      <td>0.000000</td>\n",
       "      <td>-0.009373</td>\n",
       "      <td>0.000000</td>\n",
       "      <td>0.000000</td>\n",
       "      <td>0.000000</td>\n",
       "      <td>0.000000</td>\n",
       "      <td>0.000000</td>\n",
       "      <td>0.000000</td>\n",
       "      <td>0.000000</td>\n",
       "      <td>...</td>\n",
       "      <td>0.000000</td>\n",
       "      <td>0.000000</td>\n",
       "      <td>1.000000</td>\n",
       "      <td>0.000000</td>\n",
       "      <td>0.000000</td>\n",
       "      <td>0.000000</td>\n",
       "      <td>0.000000</td>\n",
       "      <td>1.000000</td>\n",
       "      <td>0.000000</td>\n",
       "      <td>0.0</td>\n",
       "    </tr>\n",
       "    <tr>\n",
       "      <th>75%</th>\n",
       "      <td>0.400000</td>\n",
       "      <td>0.842105</td>\n",
       "      <td>0.500493</td>\n",
       "      <td>0.500000</td>\n",
       "      <td>1.000000</td>\n",
       "      <td>0.597826</td>\n",
       "      <td>0.270270</td>\n",
       "      <td>1.000000</td>\n",
       "      <td>1.000000</td>\n",
       "      <td>0.000000</td>\n",
       "      <td>...</td>\n",
       "      <td>0.000000</td>\n",
       "      <td>0.000000</td>\n",
       "      <td>1.000000</td>\n",
       "      <td>0.000000</td>\n",
       "      <td>0.000000</td>\n",
       "      <td>0.000000</td>\n",
       "      <td>0.000000</td>\n",
       "      <td>1.000000</td>\n",
       "      <td>0.000000</td>\n",
       "      <td>0.0</td>\n",
       "    </tr>\n",
       "    <tr>\n",
       "      <th>max</th>\n",
       "      <td>2.800000</td>\n",
       "      <td>13.157895</td>\n",
       "      <td>26.066108</td>\n",
       "      <td>2.000000</td>\n",
       "      <td>4.000000</td>\n",
       "      <td>0.804348</td>\n",
       "      <td>0.432432</td>\n",
       "      <td>9.726444</td>\n",
       "      <td>2.000000</td>\n",
       "      <td>2.000000</td>\n",
       "      <td>...</td>\n",
       "      <td>1.000000</td>\n",
       "      <td>1.000000</td>\n",
       "      <td>1.000000</td>\n",
       "      <td>1.000000</td>\n",
       "      <td>1.000000</td>\n",
       "      <td>1.000000</td>\n",
       "      <td>1.000000</td>\n",
       "      <td>1.000000</td>\n",
       "      <td>1.000000</td>\n",
       "      <td>0.0</td>\n",
       "    </tr>\n",
       "  </tbody>\n",
       "</table>\n",
       "<p>8 rows × 234 columns</p>\n",
       "</div>"
      ],
      "text/plain": [
       "        MSSubClass  LotFrontage      LotArea  OverallQual  OverallCond  \\\n",
       "count  1447.000000  1447.000000  1447.000000  1447.000000  1447.000000   \n",
       "mean      0.135936     0.258429     0.153375     0.046994     0.574292   \n",
       "std       0.845741     1.109175     1.508585     0.689681     1.113156   \n",
       "min      -0.600000    -2.210526    -2.017020    -2.500000    -4.000000   \n",
       "25%      -0.600000    -0.157895    -0.487667    -0.500000     0.000000   \n",
       "50%       0.000000     0.000000    -0.009373     0.000000     0.000000   \n",
       "75%       0.400000     0.842105     0.500493     0.500000     1.000000   \n",
       "max       2.800000    13.157895    26.066108     2.000000     4.000000   \n",
       "\n",
       "         YearBuilt  YearRemodAdd   MasVnrArea    ExterQual    ExterCond  ...  \\\n",
       "count  1447.000000   1447.000000  1447.000000  1447.000000  1447.000000  ...   \n",
       "mean     -0.037980     -0.247408     0.625963     0.395301     0.082239  ...   \n",
       "std       0.657909      0.558992     1.095251     0.573678     0.350078  ...   \n",
       "min      -2.195652     -1.189189     0.000000    -1.000000    -2.000000  ...   \n",
       "25%      -0.413043     -0.729730     0.000000     0.000000     0.000000  ...   \n",
       "50%       0.000000      0.000000     0.000000     0.000000     0.000000  ...   \n",
       "75%       0.597826      0.270270     1.000000     1.000000     0.000000  ...   \n",
       "max       0.804348      0.432432     9.726444     2.000000     2.000000  ...   \n",
       "\n",
       "       SaleType_New  SaleType_Oth  SaleType_WD  SaleCondition_Abnorml  \\\n",
       "count   1447.000000   1447.000000  1447.000000            1447.000000   \n",
       "mean       0.083621      0.002073     0.867312               0.068417   \n",
       "std        0.276915      0.045502     0.339355               0.252548   \n",
       "min        0.000000      0.000000     0.000000               0.000000   \n",
       "25%        0.000000      0.000000     1.000000               0.000000   \n",
       "50%        0.000000      0.000000     1.000000               0.000000   \n",
       "75%        0.000000      0.000000     1.000000               0.000000   \n",
       "max        1.000000      1.000000     1.000000               1.000000   \n",
       "\n",
       "       SaleCondition_AdjLand  SaleCondition_Alloca  SaleCondition_Family  \\\n",
       "count            1447.000000           1447.000000           1447.000000   \n",
       "mean                0.002764              0.007602              0.013822   \n",
       "std                 0.052522              0.086887              0.116791   \n",
       "min                 0.000000              0.000000              0.000000   \n",
       "25%                 0.000000              0.000000              0.000000   \n",
       "50%                 0.000000              0.000000              0.000000   \n",
       "75%                 0.000000              0.000000              0.000000   \n",
       "max                 1.000000              1.000000              1.000000   \n",
       "\n",
       "       SaleCondition_Normal  SaleCondition_Partial  MiscFeature_Gar2  \n",
       "count           1447.000000            1447.000000            1447.0  \n",
       "mean               0.821700               0.085695               0.0  \n",
       "std                0.382897               0.280009               0.0  \n",
       "min                0.000000               0.000000               0.0  \n",
       "25%                1.000000               0.000000               0.0  \n",
       "50%                1.000000               0.000000               0.0  \n",
       "75%                1.000000               0.000000               0.0  \n",
       "max                1.000000               1.000000               0.0  \n",
       "\n",
       "[8 rows x 234 columns]"
      ]
     },
     "execution_count": 20,
     "metadata": {},
     "output_type": "execute_result"
    }
   ],
   "source": [
    "df_train.describe()"
   ]
  },
  {
   "cell_type": "code",
   "execution_count": 21,
   "id": "5173347b",
   "metadata": {},
   "outputs": [
    {
     "data": {
      "text/plain": [
       "(1459, 233)"
      ]
     },
     "execution_count": 21,
     "metadata": {},
     "output_type": "execute_result"
    }
   ],
   "source": [
    "df_test.shape"
   ]
  },
  {
   "cell_type": "code",
   "execution_count": 22,
   "id": "816e3c9b",
   "metadata": {},
   "outputs": [],
   "source": [
    "# split into train and test\n",
    "X = df_train.drop(\"SalePrice\", axis = 1)\n",
    "y = df_train['SalePrice']\n",
    "X_train, X_test, y_train, y_test = train_test_split(X, y, test_size=.25, random_state=35)"
   ]
  },
  {
   "cell_type": "code",
   "execution_count": 23,
   "id": "bcbb6509",
   "metadata": {},
   "outputs": [
    {
     "name": "stdout",
     "output_type": "stream",
     "text": [
      "cv_score -93442591222705.25\n",
      "MAE: 711037022004.5\n",
      "MSE: 3.6117180762143703e+25\n",
      "RMSE: 6009757130046.413\n",
      "R2 score: -6341191022129969.0\n"
     ]
    }
   ],
   "source": [
    "#start with a basic regression\n",
    "\n",
    "\n",
    "model1 = LinearRegression()\n",
    "\n",
    "model1.fit(X_train, y_train)\n",
    "\n",
    "print('cv_score', np.mean(cross_val_score(model1, X_train, y_train, cv=5)))\n",
    "\n",
    "y_pred = model1.predict(X_test)\n",
    "print('MAE:', mean_absolute_error(y_test, y_pred))\n",
    "print('MSE:', mean_squared_error(y_test, y_pred))\n",
    "print('RMSE:', mean_squared_error(y_test, y_pred, squared=False))\n",
    "print('R2 score:', r2_score(y_test, y_pred))"
   ]
  },
  {
   "cell_type": "code",
   "execution_count": 24,
   "id": "4493b5dd",
   "metadata": {
    "scrolled": false
   },
   "outputs": [
    {
     "data": {
      "text/plain": [
       "<matplotlib.collections.PathCollection at 0x7faa08d59e50>"
      ]
     },
     "execution_count": 24,
     "metadata": {},
     "output_type": "execute_result"
    },
    {
     "data": {
      "image/png": "[encoded data removed]",
      "text/plain": [
       "<Figure size 432x288 with 1 Axes>"
      ]
     },
     "metadata": {
      "needs_background": "light"
     },
     "output_type": "display_data"
    }
   ],
   "source": [
    "#check out the odd results\n",
    "plt.scatter(y_test, y_pred)"
   ]
  },
  {
   "cell_type": "markdown",
   "id": "66965862",
   "metadata": {},
   "source": [
    "The regular model is predicting a negative price throwing the whole model off. We'll try a veriety of other models."
   ]
  },
  {
   "cell_type": "code",
   "execution_count": 25,
   "id": "5e006c47",
   "metadata": {},
   "outputs": [
    {
     "data": {
      "text/plain": [
       "264     6.190393e+13\n",
       "39      6.190393e+13\n",
       "246     6.190393e+13\n",
       "956     2.695657e+13\n",
       "599     2.695657e+13\n",
       "595     1.000702e+13\n",
       "548     3.462014e+12\n",
       "29      3.462014e+12\n",
       "271     8.394180e+11\n",
       "1046    1.526308e+05\n",
       "Name: SalePrice, dtype: float64"
      ]
     },
     "execution_count": 25,
     "metadata": {},
     "output_type": "execute_result"
    }
   ],
   "source": [
    "y_dif = np.abs(y_test-y_pred )\n",
    "y_dif.sort_values(ascending=False)[0:10]"
   ]
  },
  {
   "cell_type": "code",
   "execution_count": 26,
   "id": "84e392ae",
   "metadata": {},
   "outputs": [],
   "source": [
    "#import models we'd like to try\n",
    "\n",
    "from sklearn.linear_model import Ridge, Lasso, ElasticNet\n",
    "from sklearn.ensemble import RandomForestRegressor, GradientBoostingRegressor\n",
    "from sklearn.tree import DecisionTreeRegressor\n",
    "from sklearn.svm import SVR\n",
    "\n",
    "\n",
    "import warnings\n",
    "#warnings.filterwarnings(\"ignore\", category=[ConvergenceWarning, RuntimeWarning])\n",
    "warnings.filterwarnings(\"ignore\")\n",
    "\n",
    "from sklearn.exceptions import ConvergenceWarning"
   ]
  },
  {
   "cell_type": "code",
   "execution_count": 27,
   "id": "7f532158",
   "metadata": {},
   "outputs": [],
   "source": [
    "#define a function to use random search to find best paramiters\n",
    "\n",
    "from sklearn.model_selection import RandomizedSearchCV\n",
    "\n",
    "def find_best_param(model, param_grid):\n",
    "        model_cv = RandomizedSearchCV(model, param_grid, cv=5, random_state=35)\n",
    "        model_cv.fit(X_train, y_train)\n",
    "        return model_cv.best_estimator_\n",
    "\n"
   ]
  },
  {
   "cell_type": "code",
   "execution_count": 28,
   "id": "887a5771",
   "metadata": {},
   "outputs": [],
   "source": [
    "\n",
    "\n",
    "\n",
    "#define empty dicts for what we might want to access later\n",
    "\n",
    "model_scores ={}\n",
    "y_preds = {}\n",
    "params_used ={}\n",
    "\n",
    "# define funtion that calls our find_best_params function to initiate new model \n",
    "# and save our model_scores, y_preds, and params_used for each model that we try\n",
    "\n",
    "#@ignore_warnings(category=[ConvergenceWarning, RuntimeWarning])\n",
    "def scoring(model_name, model, param_grid):\n",
    "    \n",
    "    \n",
    "    \n",
    "    new_model = find_best_param(model, param_grid)\n",
    "    new_model.fit(X_train, y_train)\n",
    "\n",
    "    y_pred = new_model.predict(X_test)\n",
    "    \n",
    "   \n",
    "    params_used[model_name] = new_model\n",
    "    y_preds[model_name] = y_pred\n",
    "    \n",
    "    model_scores[model_name] = {'model used': model,\n",
    "                                'cv_score': np.round(np.mean(cross_val_score(new_model, X_train, y_train, cv=5)), 2),\n",
    "                                'MAE': np.round(mean_absolute_error(y_test, y_pred), 2),\n",
    "                                'MSE': np.round(mean_squared_error(y_test, y_pred), 2),\n",
    "                                'RMSE': np.round(mean_squared_error(y_test, y_pred, squared=False), 2),\n",
    "                                'R2 score': np.round(r2_score(y_test, y_pred), 2)\n",
    "                               }\n",
    "    model_scores, y_preds, params_used"
   ]
  },
  {
   "cell_type": "code",
   "execution_count": 29,
   "id": "64a5aa41",
   "metadata": {
    "scrolled": true
   },
   "outputs": [
    {
     "data": {
      "text/plain": [
       "Ridge(alpha=25.000999999999998)"
      ]
     },
     "execution_count": 29,
     "metadata": {},
     "output_type": "execute_result"
    }
   ],
   "source": [
    "#test the find_best_params function\n",
    "\n",
    "find_best_param(Ridge(), {'alpha': np.arange(0.001, 300)})"
   ]
  },
  {
   "cell_type": "code",
   "execution_count": 38,
   "id": "e6006d15",
   "metadata": {
    "scrolled": false
   },
   "outputs": [],
   "source": [
    "#define params and run Ridge model\n",
    "\n",
    "alpha_params = {'alpha': np.arange(0.001, 200)}\n",
    "\n",
    "scoring('model2', Ridge(random_state=35), alpha_params)"
   ]
  },
  {
   "cell_type": "code",
   "execution_count": 39,
   "id": "568368fd",
   "metadata": {
    "scrolled": true
   },
   "outputs": [],
   "source": [
    "# useing same params run Lasso\n",
    "\n",
    "scoring('model3', Lasso(random_state=35), alpha_params);"
   ]
  },
  {
   "cell_type": "code",
   "execution_count": 40,
   "id": "2890870f",
   "metadata": {},
   "outputs": [],
   "source": [
    "# useing same params run ElasticNet\n",
    "\n",
    "scoring('model4', ElasticNet(random_state=35), alpha_params)"
   ]
  },
  {
   "cell_type": "code",
   "execution_count": 41,
   "id": "a31f6c48",
   "metadata": {},
   "outputs": [],
   "source": [
    "RFR_params = {'n_estimators': [300, 500, 800, 1000],\n",
    "              'max_features': ['auto', 'log2'],\n",
    "              'max_depth': [10, 20, 30, 40, 50, None],\n",
    "              'min_samples_split': [2, 5, 10, 15, 20],\n",
    "              'min_samples_leaf': [1, 2, 5, 10, 15]\n",
    "             }\n",
    "\n",
    "scoring('model5', RandomForestRegressor(random_state=35), RFR_params)"
   ]
  },
  {
   "cell_type": "code",
   "execution_count": 42,
   "id": "fcc81125",
   "metadata": {},
   "outputs": [],
   "source": [
    "# define params and run DecisionTree\n",
    "\n",
    "DTR_params = {'max_depth': np.arange(1, 20),\n",
    "              'min_samples_split': range(10, 60)}\n",
    "\n",
    "\n",
    "scoring('model6', DecisionTreeRegressor(random_state=35), DTR_params)"
   ]
  },
  {
   "cell_type": "code",
   "execution_count": 43,
   "id": "76c685a5",
   "metadata": {
    "scrolled": true
   },
   "outputs": [],
   "source": [
    "# define params and run GradientBoost\n",
    "\n",
    "GBR_params = {'learning_rate': [0.01, 0.05, 0.1, 0.5, 1, 5, 10, 100],\n",
    "              'n_estimators': [ 50, 250, 500, 750, 1000],\n",
    "              'max_features': ['auto', 'log2'],\n",
    "              'max_depth': [1, 3, 5, 7, 10, 25, 50],\n",
    "              'min_samples_split': [2, 5, 10, 15, 20, 25, 30],\n",
    "              'min_samples_leaf': [1, 2, 5, 10, 15, 20, 25]\n",
    "             }\n",
    "\n",
    "\n",
    "scoring('model7', GradientBoostingRegressor(random_state=35), GBR_params);"
   ]
  },
  {
   "cell_type": "code",
   "execution_count": 45,
   "id": "5d5ff99b",
   "metadata": {},
   "outputs": [],
   "source": [
    "# define params and run SVR\n",
    "\n",
    "SVR_params = {'C': [0.1, 1, 10, 100, 1000], \n",
    "              'gamma': [1, 0.1, 0.01, 0.001, 0.0001],\n",
    "              }\n",
    "\n",
    "scoring('model8', SVR(), SVR_params)"
   ]
  },
  {
   "cell_type": "code",
   "execution_count": 46,
   "id": "8742e42b",
   "metadata": {
    "scrolled": false
   },
   "outputs": [
    {
     "data": {
      "text/html": [
       "<div>\n",
       "<style scoped>\n",
       "    .dataframe tbody tr th:only-of-type {\n",
       "        vertical-align: middle;\n",
       "    }\n",
       "\n",
       "    .dataframe tbody tr th {\n",
       "        vertical-align: top;\n",
       "    }\n",
       "\n",
       "    .dataframe thead th {\n",
       "        text-align: right;\n",
       "    }\n",
       "</style>\n",
       "<table border=\"1\" class=\"dataframe\">\n",
       "  <thead>\n",
       "    <tr style=\"text-align: right;\">\n",
       "      <th></th>\n",
       "      <th>model used</th>\n",
       "      <th>cv_score</th>\n",
       "      <th>MAE</th>\n",
       "      <th>MSE</th>\n",
       "      <th>RMSE</th>\n",
       "      <th>R2 score</th>\n",
       "    </tr>\n",
       "  </thead>\n",
       "  <tbody>\n",
       "    <tr>\n",
       "      <th>model2</th>\n",
       "      <td>Ridge(random_state=35)</td>\n",
       "      <td>0.87</td>\n",
       "      <td>15977.86</td>\n",
       "      <td>635679079.8</td>\n",
       "      <td>25212.68</td>\n",
       "      <td>0.89</td>\n",
       "    </tr>\n",
       "    <tr>\n",
       "      <th>model3</th>\n",
       "      <td>Lasso(random_state=35)</td>\n",
       "      <td>0.87</td>\n",
       "      <td>15818.3</td>\n",
       "      <td>618776609.76</td>\n",
       "      <td>24875.22</td>\n",
       "      <td>0.89</td>\n",
       "    </tr>\n",
       "    <tr>\n",
       "      <th>model4</th>\n",
       "      <td>ElasticNet(random_state=35)</td>\n",
       "      <td>0.79</td>\n",
       "      <td>21073.15</td>\n",
       "      <td>1138918104.11</td>\n",
       "      <td>33747.86</td>\n",
       "      <td>0.8</td>\n",
       "    </tr>\n",
       "    <tr>\n",
       "      <th>model5</th>\n",
       "      <td>RandomForestRegressor(random_state=35)</td>\n",
       "      <td>0.87</td>\n",
       "      <td>16859.34</td>\n",
       "      <td>761721157.24</td>\n",
       "      <td>27599.3</td>\n",
       "      <td>0.87</td>\n",
       "    </tr>\n",
       "    <tr>\n",
       "      <th>model6</th>\n",
       "      <td>DecisionTreeRegressor(random_state=35)</td>\n",
       "      <td>0.77</td>\n",
       "      <td>24708.59</td>\n",
       "      <td>1404953239.64</td>\n",
       "      <td>37482.71</td>\n",
       "      <td>0.75</td>\n",
       "    </tr>\n",
       "    <tr>\n",
       "      <th>model7</th>\n",
       "      <td>GradientBoostingRegressor(random_state=35)</td>\n",
       "      <td>0.88</td>\n",
       "      <td>14562.78</td>\n",
       "      <td>561938004.0</td>\n",
       "      <td>23705.23</td>\n",
       "      <td>0.9</td>\n",
       "    </tr>\n",
       "    <tr>\n",
       "      <th>model8</th>\n",
       "      <td>SVR()</td>\n",
       "      <td>-0.01</td>\n",
       "      <td>50672.04</td>\n",
       "      <td>5657007539.36</td>\n",
       "      <td>75213.08</td>\n",
       "      <td>0.01</td>\n",
       "    </tr>\n",
       "  </tbody>\n",
       "</table>\n",
       "</div>"
      ],
      "text/plain": [
       "                                        model used cv_score       MAE  \\\n",
       "model2                      Ridge(random_state=35)     0.87  15977.86   \n",
       "model3                      Lasso(random_state=35)     0.87   15818.3   \n",
       "model4                 ElasticNet(random_state=35)     0.79  21073.15   \n",
       "model5      RandomForestRegressor(random_state=35)     0.87  16859.34   \n",
       "model6      DecisionTreeRegressor(random_state=35)     0.77  24708.59   \n",
       "model7  GradientBoostingRegressor(random_state=35)     0.88  14562.78   \n",
       "model8                                       SVR()    -0.01  50672.04   \n",
       "\n",
       "                  MSE      RMSE R2 score  \n",
       "model2    635679079.8  25212.68     0.89  \n",
       "model3   618776609.76  24875.22     0.89  \n",
       "model4  1138918104.11  33747.86      0.8  \n",
       "model5   761721157.24   27599.3     0.87  \n",
       "model6  1404953239.64  37482.71     0.75  \n",
       "model7    561938004.0  23705.23      0.9  \n",
       "model8  5657007539.36  75213.08     0.01  "
      ]
     },
     "execution_count": 46,
     "metadata": {},
     "output_type": "execute_result"
    }
   ],
   "source": [
    "# time to check out some scores\n",
    "\n",
    "scores = pd.DataFrame(model_scores).T\n",
    "#scores.round(decimals=2)\n",
    "np.round(scores, 2)"
   ]
  },
  {
   "cell_type": "markdown",
   "id": "2f5914d1",
   "metadata": {},
   "source": [
    "Model 7 GradientBoost is slightly better then Lasso. Lets see if we can explore what is going on"
   ]
  },
  {
   "cell_type": "code",
   "execution_count": 47,
   "id": "1b516faf",
   "metadata": {
    "scrolled": false
   },
   "outputs": [],
   "source": [
    "#what values paramiters did we end up with?\n",
    "#params_used"
   ]
  },
  {
   "cell_type": "markdown",
   "id": "9ba9e7ed",
   "metadata": {},
   "source": [
    "The GradientBoost is not predicting the extreams of the test set. The STD is off by about 7500 and our mean is off by almost 1500"
   ]
  },
  {
   "cell_type": "code",
   "execution_count": 48,
   "id": "dcf363dd",
   "metadata": {},
   "outputs": [
    {
     "data": {
      "text/plain": [
       "<matplotlib.collections.PathCollection at 0x7faa1cac6d00>"
      ]
     },
     "execution_count": 48,
     "metadata": {},
     "output_type": "execute_result"
    },
    {
     "data": {
      "image/png": "[encoded data removed]",
      "text/plain": [
       "<Figure size 432x288 with 1 Axes>"
      ]
     },
     "metadata": {
      "needs_background": "light"
     },
     "output_type": "display_data"
    }
   ],
   "source": [
    "# a quick visual\n",
    "plt.scatter(y_test, y_preds['model7'])"
   ]
  },
  {
   "cell_type": "code",
   "execution_count": 49,
   "id": "4e5253fc",
   "metadata": {
    "scrolled": true
   },
   "outputs": [
    {
     "data": {
      "text/plain": [
       "1046    166037.576920\n",
       "581     149414.179389\n",
       "1169    137038.775239\n",
       "1181    114441.190449\n",
       "588      95637.510978\n",
       "496      94533.015245\n",
       "714      60066.526148\n",
       "4        59677.133563\n",
       "473      58816.057267\n",
       "261      54871.444836\n",
       "Name: SalePrice, dtype: float64"
      ]
     },
     "execution_count": 49,
     "metadata": {},
     "output_type": "execute_result"
    }
   ],
   "source": [
    "#check highest residuals\n",
    "y_dif = np.abs(y_test-y_preds['model7'] )\n",
    "y_dif.sort_values(ascending=False)[:10]"
   ]
  },
  {
   "cell_type": "code",
   "execution_count": 50,
   "id": "194be920",
   "metadata": {
    "scrolled": true
   },
   "outputs": [
    {
     "data": {
      "text/plain": [
       "count       362.000000\n",
       "mean      14562.782576\n",
       "std       18730.523704\n",
       "min           4.291110\n",
       "25%        4510.918048\n",
       "50%       10087.744762\n",
       "75%       17225.256352\n",
       "max      166037.576920\n",
       "Name: SalePrice, dtype: float64"
      ]
     },
     "execution_count": 50,
     "metadata": {},
     "output_type": "execute_result"
    }
   ],
   "source": [
    "y_dif.describe()"
   ]
  },
  {
   "cell_type": "markdown",
   "id": "e7a3b2f2",
   "metadata": {},
   "source": [
    "Clearly some high redisuals for the higher priced houses. The mean residual is almost 1,500 and std is close to 19,000 Lets see the model on the train scores."
   ]
  },
  {
   "cell_type": "code",
   "execution_count": 51,
   "id": "f446be3f",
   "metadata": {
    "scrolled": true
   },
   "outputs": [
    {
     "name": "stdout",
     "output_type": "stream",
     "text": [
      "cv_score: 0.8835426185154119 MAE: 4871.983125756179 MSE: 65781938.84018551 RMSE: 8110.606564258034 R2 score: 0.9894413669820544\n"
     ]
    }
   ],
   "source": [
    "model7_train = params_used['model7']\n",
    "\n",
    "model7_train.fit(X_train, y_train)\n",
    "y_pred_train = model7_train.predict(X_train)\n",
    "\n",
    "print('cv_score:', np.mean(cross_val_score(model7_train, X_train, y_train, cv=5)),\n",
    "      'MAE:', mean_absolute_error(y_train, y_pred_train),\n",
    "      'MSE:', mean_squared_error(y_train, y_pred_train),\n",
    "      'RMSE:', mean_squared_error(y_train, y_pred_train, squared=False),\n",
    "      'R2 score:', r2_score(y_train, y_pred_train))"
   ]
  },
  {
   "cell_type": "markdown",
   "id": "6c311371",
   "metadata": {},
   "source": [
    "The Gradient booster model is a little over fit on the train set. \n",
    "Lets see if we can fine tune the paramiters further and also try more gradient boosting options."
   ]
  },
  {
   "cell_type": "code",
   "execution_count": 52,
   "id": "d47b1cc3",
   "metadata": {
    "scrolled": true
   },
   "outputs": [],
   "source": [
    "from sklearn.model_selection import GridSearchCV\n",
    "import xgboost as XGB\n",
    "from catboost import CatBoostRegressor\n",
    "import lightgbm as LGB"
   ]
  },
  {
   "cell_type": "code",
   "execution_count": 53,
   "id": "4411e51d",
   "metadata": {
    "scrolled": true
   },
   "outputs": [
    {
     "data": {
      "text/plain": [
       "GradientBoostingRegressor(learning_rate=0.05, max_depth=10, max_features='log2',\n",
       "                          min_samples_leaf=20, min_samples_split=20,\n",
       "                          n_estimators=750, random_state=35)"
      ]
     },
     "execution_count": 53,
     "metadata": {},
     "output_type": "execute_result"
    }
   ],
   "source": [
    "params_used['model7']"
   ]
  },
  {
   "cell_type": "code",
   "execution_count": 55,
   "id": "a1af948b",
   "metadata": {},
   "outputs": [
    {
     "ename": "KeyboardInterrupt",
     "evalue": "",
     "output_type": "error",
     "traceback": [
      "\u001b[0;31m------------------------------------------------------------\u001b[0m",
      "\u001b[0;31mKeyboardInterrupt\u001b[0m          Traceback (most recent call last)",
      "\u001b[0;32m<ipython-input-55-20449902f581>\u001b[0m in \u001b[0;36m<module>\u001b[0;34m\u001b[0m\n\u001b[1;32m      9\u001b[0m \u001b[0mmodel7_gs\u001b[0m \u001b[0;34m=\u001b[0m \u001b[0mGradientBoostingRegressor\u001b[0m\u001b[0;34m(\u001b[0m\u001b[0mrandom_state\u001b[0m\u001b[0;34m=\u001b[0m\u001b[0;36m35\u001b[0m\u001b[0;34m)\u001b[0m\u001b[0;34m\u001b[0m\u001b[0;34m\u001b[0m\u001b[0m\n\u001b[1;32m     10\u001b[0m \u001b[0mmodel7_gscv\u001b[0m \u001b[0;34m=\u001b[0m \u001b[0mGridSearchCV\u001b[0m\u001b[0;34m(\u001b[0m\u001b[0mmodel7_gs\u001b[0m\u001b[0;34m,\u001b[0m \u001b[0mparam_grid\u001b[0m\u001b[0;34m,\u001b[0m \u001b[0mcv\u001b[0m\u001b[0;34m=\u001b[0m\u001b[0;36m5\u001b[0m\u001b[0;34m)\u001b[0m\u001b[0;34m\u001b[0m\u001b[0;34m\u001b[0m\u001b[0m\n\u001b[0;32m---> 11\u001b[0;31m \u001b[0mmodel7_gscv\u001b[0m\u001b[0;34m.\u001b[0m\u001b[0mfit\u001b[0m\u001b[0;34m(\u001b[0m\u001b[0mX_train\u001b[0m\u001b[0;34m,\u001b[0m \u001b[0my_train\u001b[0m\u001b[0;34m)\u001b[0m\u001b[0;34m\u001b[0m\u001b[0;34m\u001b[0m\u001b[0m\n\u001b[0m\u001b[1;32m     12\u001b[0m \u001b[0;34m\u001b[0m\u001b[0m\n\u001b[1;32m     13\u001b[0m \u001b[0mmodel7_gscv\u001b[0m\u001b[0;34m.\u001b[0m\u001b[0mbest_estimator_\u001b[0m\u001b[0;34m\u001b[0m\u001b[0;34m\u001b[0m\u001b[0m\n",
      "\u001b[0;32m/opt/anaconda3/lib/python3.8/site-packages/sklearn/utils/validation.py\u001b[0m in \u001b[0;36minner_f\u001b[0;34m(*args, **kwargs)\u001b[0m\n\u001b[1;32m     61\u001b[0m             \u001b[0mextra_args\u001b[0m \u001b[0;34m=\u001b[0m \u001b[0mlen\u001b[0m\u001b[0;34m(\u001b[0m\u001b[0margs\u001b[0m\u001b[0;34m)\u001b[0m \u001b[0;34m-\u001b[0m \u001b[0mlen\u001b[0m\u001b[0;34m(\u001b[0m\u001b[0mall_args\u001b[0m\u001b[0;34m)\u001b[0m\u001b[0;34m\u001b[0m\u001b[0;34m\u001b[0m\u001b[0m\n\u001b[1;32m     62\u001b[0m             \u001b[0;32mif\u001b[0m \u001b[0mextra_args\u001b[0m \u001b[0;34m<=\u001b[0m \u001b[0;36m0\u001b[0m\u001b[0;34m:\u001b[0m\u001b[0;34m\u001b[0m\u001b[0;34m\u001b[0m\u001b[0m\n\u001b[0;32m---> 63\u001b[0;31m                 \u001b[0;32mreturn\u001b[0m \u001b[0mf\u001b[0m\u001b[0;34m(\u001b[0m\u001b[0;34m*\u001b[0m\u001b[0margs\u001b[0m\u001b[0;34m,\u001b[0m \u001b[0;34m**\u001b[0m\u001b[0mkwargs\u001b[0m\u001b[0;34m)\u001b[0m\u001b[0;34m\u001b[0m\u001b[0;34m\u001b[0m\u001b[0m\n\u001b[0m\u001b[1;32m     64\u001b[0m \u001b[0;34m\u001b[0m\u001b[0m\n\u001b[1;32m     65\u001b[0m             \u001b[0;31m# extra_args > 0\u001b[0m\u001b[0;34m\u001b[0m\u001b[0;34m\u001b[0m\u001b[0;34m\u001b[0m\u001b[0m\n",
      "\u001b[0;32m/opt/anaconda3/lib/python3.8/site-packages/sklearn/model_selection/_search.py\u001b[0m in \u001b[0;36mfit\u001b[0;34m(self, X, y, groups, **fit_params)\u001b[0m\n\u001b[1;32m    839\u001b[0m                 \u001b[0;32mreturn\u001b[0m \u001b[0mresults\u001b[0m\u001b[0;34m\u001b[0m\u001b[0;34m\u001b[0m\u001b[0m\n\u001b[1;32m    840\u001b[0m \u001b[0;34m\u001b[0m\u001b[0m\n\u001b[0;32m--> 841\u001b[0;31m             \u001b[0mself\u001b[0m\u001b[0;34m.\u001b[0m\u001b[0m_run_search\u001b[0m\u001b[0;34m(\u001b[0m\u001b[0mevaluate_candidates\u001b[0m\u001b[0;34m)\u001b[0m\u001b[0;34m\u001b[0m\u001b[0;34m\u001b[0m\u001b[0m\n\u001b[0m\u001b[1;32m    842\u001b[0m \u001b[0;34m\u001b[0m\u001b[0m\n\u001b[1;32m    843\u001b[0m             \u001b[0;31m# multimetric is determined here because in the case of a callable\u001b[0m\u001b[0;34m\u001b[0m\u001b[0;34m\u001b[0m\u001b[0;34m\u001b[0m\u001b[0m\n",
      "\u001b[0;32m/opt/anaconda3/lib/python3.8/site-packages/sklearn/model_selection/_search.py\u001b[0m in \u001b[0;36m_run_search\u001b[0;34m(self, evaluate_candidates)\u001b[0m\n\u001b[1;32m   1286\u001b[0m     \u001b[0;32mdef\u001b[0m \u001b[0m_run_search\u001b[0m\u001b[0;34m(\u001b[0m\u001b[0mself\u001b[0m\u001b[0;34m,\u001b[0m \u001b[0mevaluate_candidates\u001b[0m\u001b[0;34m)\u001b[0m\u001b[0;34m:\u001b[0m\u001b[0;34m\u001b[0m\u001b[0;34m\u001b[0m\u001b[0m\n\u001b[1;32m   1287\u001b[0m         \u001b[0;34m\"\"\"Search all candidates in param_grid\"\"\"\u001b[0m\u001b[0;34m\u001b[0m\u001b[0;34m\u001b[0m\u001b[0m\n\u001b[0;32m-> 1288\u001b[0;31m         \u001b[0mevaluate_candidates\u001b[0m\u001b[0;34m(\u001b[0m\u001b[0mParameterGrid\u001b[0m\u001b[0;34m(\u001b[0m\u001b[0mself\u001b[0m\u001b[0;34m.\u001b[0m\u001b[0mparam_grid\u001b[0m\u001b[0;34m)\u001b[0m\u001b[0;34m)\u001b[0m\u001b[0;34m\u001b[0m\u001b[0;34m\u001b[0m\u001b[0m\n\u001b[0m\u001b[1;32m   1289\u001b[0m \u001b[0;34m\u001b[0m\u001b[0m\n\u001b[1;32m   1290\u001b[0m \u001b[0;34m\u001b[0m\u001b[0m\n",
      "\u001b[0;32m/opt/anaconda3/lib/python3.8/site-packages/sklearn/model_selection/_search.py\u001b[0m in \u001b[0;36mevaluate_candidates\u001b[0;34m(candidate_params, cv, more_results)\u001b[0m\n\u001b[1;32m    793\u001b[0m                               n_splits, n_candidates, n_candidates * n_splits))\n\u001b[1;32m    794\u001b[0m \u001b[0;34m\u001b[0m\u001b[0m\n\u001b[0;32m--> 795\u001b[0;31m                 out = parallel(delayed(_fit_and_score)(clone(base_estimator),\n\u001b[0m\u001b[1;32m    796\u001b[0m                                                        \u001b[0mX\u001b[0m\u001b[0;34m,\u001b[0m \u001b[0my\u001b[0m\u001b[0;34m,\u001b[0m\u001b[0;34m\u001b[0m\u001b[0;34m\u001b[0m\u001b[0m\n\u001b[1;32m    797\u001b[0m                                                        \u001b[0mtrain\u001b[0m\u001b[0;34m=\u001b[0m\u001b[0mtrain\u001b[0m\u001b[0;34m,\u001b[0m \u001b[0mtest\u001b[0m\u001b[0;34m=\u001b[0m\u001b[0mtest\u001b[0m\u001b[0;34m,\u001b[0m\u001b[0;34m\u001b[0m\u001b[0;34m\u001b[0m\u001b[0m\n",
      "\u001b[0;32m/opt/anaconda3/lib/python3.8/site-packages/joblib/parallel.py\u001b[0m in \u001b[0;36m__call__\u001b[0;34m(self, iterable)\u001b[0m\n\u001b[1;32m   1042\u001b[0m                 \u001b[0mself\u001b[0m\u001b[0;34m.\u001b[0m\u001b[0m_iterating\u001b[0m \u001b[0;34m=\u001b[0m \u001b[0mself\u001b[0m\u001b[0;34m.\u001b[0m\u001b[0m_original_iterator\u001b[0m \u001b[0;32mis\u001b[0m \u001b[0;32mnot\u001b[0m \u001b[0;32mNone\u001b[0m\u001b[0;34m\u001b[0m\u001b[0;34m\u001b[0m\u001b[0m\n\u001b[1;32m   1043\u001b[0m \u001b[0;34m\u001b[0m\u001b[0m\n\u001b[0;32m-> 1044\u001b[0;31m             \u001b[0;32mwhile\u001b[0m \u001b[0mself\u001b[0m\u001b[0;34m.\u001b[0m\u001b[0mdispatch_one_batch\u001b[0m\u001b[0;34m(\u001b[0m\u001b[0miterator\u001b[0m\u001b[0;34m)\u001b[0m\u001b[0;34m:\u001b[0m\u001b[0;34m\u001b[0m\u001b[0;34m\u001b[0m\u001b[0m\n\u001b[0m\u001b[1;32m   1045\u001b[0m                 \u001b[0;32mpass\u001b[0m\u001b[0;34m\u001b[0m\u001b[0;34m\u001b[0m\u001b[0m\n\u001b[1;32m   1046\u001b[0m \u001b[0;34m\u001b[0m\u001b[0m\n",
      "\u001b[0;32m/opt/anaconda3/lib/python3.8/site-packages/joblib/parallel.py\u001b[0m in \u001b[0;36mdispatch_one_batch\u001b[0;34m(self, iterator)\u001b[0m\n\u001b[1;32m    857\u001b[0m                 \u001b[0;32mreturn\u001b[0m \u001b[0;32mFalse\u001b[0m\u001b[0;34m\u001b[0m\u001b[0;34m\u001b[0m\u001b[0m\n\u001b[1;32m    858\u001b[0m             \u001b[0;32melse\u001b[0m\u001b[0;34m:\u001b[0m\u001b[0;34m\u001b[0m\u001b[0;34m\u001b[0m\u001b[0m\n\u001b[0;32m--> 859\u001b[0;31m                 \u001b[0mself\u001b[0m\u001b[0;34m.\u001b[0m\u001b[0m_dispatch\u001b[0m\u001b[0;34m(\u001b[0m\u001b[0mtasks\u001b[0m\u001b[0;34m)\u001b[0m\u001b[0;34m\u001b[0m\u001b[0;34m\u001b[0m\u001b[0m\n\u001b[0m\u001b[1;32m    860\u001b[0m                 \u001b[0;32mreturn\u001b[0m \u001b[0;32mTrue\u001b[0m\u001b[0;34m\u001b[0m\u001b[0;34m\u001b[0m\u001b[0m\n\u001b[1;32m    861\u001b[0m \u001b[0;34m\u001b[0m\u001b[0m\n",
      "\u001b[0;32m/opt/anaconda3/lib/python3.8/site-packages/joblib/parallel.py\u001b[0m in \u001b[0;36m_dispatch\u001b[0;34m(self, batch)\u001b[0m\n\u001b[1;32m    775\u001b[0m         \u001b[0;32mwith\u001b[0m \u001b[0mself\u001b[0m\u001b[0;34m.\u001b[0m\u001b[0m_lock\u001b[0m\u001b[0;34m:\u001b[0m\u001b[0;34m\u001b[0m\u001b[0;34m\u001b[0m\u001b[0m\n\u001b[1;32m    776\u001b[0m             \u001b[0mjob_idx\u001b[0m \u001b[0;34m=\u001b[0m \u001b[0mlen\u001b[0m\u001b[0;34m(\u001b[0m\u001b[0mself\u001b[0m\u001b[0;34m.\u001b[0m\u001b[0m_jobs\u001b[0m\u001b[0;34m)\u001b[0m\u001b[0;34m\u001b[0m\u001b[0;34m\u001b[0m\u001b[0m\n\u001b[0;32m--> 777\u001b[0;31m             \u001b[0mjob\u001b[0m \u001b[0;34m=\u001b[0m \u001b[0mself\u001b[0m\u001b[0;34m.\u001b[0m\u001b[0m_backend\u001b[0m\u001b[0;34m.\u001b[0m\u001b[0mapply_async\u001b[0m\u001b[0;34m(\u001b[0m\u001b[0mbatch\u001b[0m\u001b[0;34m,\u001b[0m \u001b[0mcallback\u001b[0m\u001b[0;34m=\u001b[0m\u001b[0mcb\u001b[0m\u001b[0;34m)\u001b[0m\u001b[0;34m\u001b[0m\u001b[0;34m\u001b[0m\u001b[0m\n\u001b[0m\u001b[1;32m    778\u001b[0m             \u001b[0;31m# A job can complete so quickly than its callback is\u001b[0m\u001b[0;34m\u001b[0m\u001b[0;34m\u001b[0m\u001b[0;34m\u001b[0m\u001b[0m\n\u001b[1;32m    779\u001b[0m             \u001b[0;31m# called before we get here, causing self._jobs to\u001b[0m\u001b[0;34m\u001b[0m\u001b[0;34m\u001b[0m\u001b[0;34m\u001b[0m\u001b[0m\n",
      "\u001b[0;32m/opt/anaconda3/lib/python3.8/site-packages/joblib/_parallel_backends.py\u001b[0m in \u001b[0;36mapply_async\u001b[0;34m(self, func, callback)\u001b[0m\n\u001b[1;32m    206\u001b[0m     \u001b[0;32mdef\u001b[0m \u001b[0mapply_async\u001b[0m\u001b[0;34m(\u001b[0m\u001b[0mself\u001b[0m\u001b[0;34m,\u001b[0m \u001b[0mfunc\u001b[0m\u001b[0;34m,\u001b[0m \u001b[0mcallback\u001b[0m\u001b[0;34m=\u001b[0m\u001b[0;32mNone\u001b[0m\u001b[0;34m)\u001b[0m\u001b[0;34m:\u001b[0m\u001b[0;34m\u001b[0m\u001b[0;34m\u001b[0m\u001b[0m\n\u001b[1;32m    207\u001b[0m         \u001b[0;34m\"\"\"Schedule a func to be run\"\"\"\u001b[0m\u001b[0;34m\u001b[0m\u001b[0;34m\u001b[0m\u001b[0m\n\u001b[0;32m--> 208\u001b[0;31m         \u001b[0mresult\u001b[0m \u001b[0;34m=\u001b[0m \u001b[0mImmediateResult\u001b[0m\u001b[0;34m(\u001b[0m\u001b[0mfunc\u001b[0m\u001b[0;34m)\u001b[0m\u001b[0;34m\u001b[0m\u001b[0;34m\u001b[0m\u001b[0m\n\u001b[0m\u001b[1;32m    209\u001b[0m         \u001b[0;32mif\u001b[0m \u001b[0mcallback\u001b[0m\u001b[0;34m:\u001b[0m\u001b[0;34m\u001b[0m\u001b[0;34m\u001b[0m\u001b[0m\n\u001b[1;32m    210\u001b[0m             \u001b[0mcallback\u001b[0m\u001b[0;34m(\u001b[0m\u001b[0mresult\u001b[0m\u001b[0;34m)\u001b[0m\u001b[0;34m\u001b[0m\u001b[0;34m\u001b[0m\u001b[0m\n",
      "\u001b[0;32m/opt/anaconda3/lib/python3.8/site-packages/joblib/_parallel_backends.py\u001b[0m in \u001b[0;36m__init__\u001b[0;34m(self, batch)\u001b[0m\n\u001b[1;32m    570\u001b[0m         \u001b[0;31m# Don't delay the application, to avoid keeping the input\u001b[0m\u001b[0;34m\u001b[0m\u001b[0;34m\u001b[0m\u001b[0;34m\u001b[0m\u001b[0m\n\u001b[1;32m    571\u001b[0m         \u001b[0;31m# arguments in memory\u001b[0m\u001b[0;34m\u001b[0m\u001b[0;34m\u001b[0m\u001b[0;34m\u001b[0m\u001b[0m\n\u001b[0;32m--> 572\u001b[0;31m         \u001b[0mself\u001b[0m\u001b[0;34m.\u001b[0m\u001b[0mresults\u001b[0m \u001b[0;34m=\u001b[0m \u001b[0mbatch\u001b[0m\u001b[0;34m(\u001b[0m\u001b[0;34m)\u001b[0m\u001b[0;34m\u001b[0m\u001b[0;34m\u001b[0m\u001b[0m\n\u001b[0m\u001b[1;32m    573\u001b[0m \u001b[0;34m\u001b[0m\u001b[0m\n\u001b[1;32m    574\u001b[0m     \u001b[0;32mdef\u001b[0m \u001b[0mget\u001b[0m\u001b[0;34m(\u001b[0m\u001b[0mself\u001b[0m\u001b[0;34m)\u001b[0m\u001b[0;34m:\u001b[0m\u001b[0;34m\u001b[0m\u001b[0;34m\u001b[0m\u001b[0m\n",
      "\u001b[0;32m/opt/anaconda3/lib/python3.8/site-packages/joblib/parallel.py\u001b[0m in \u001b[0;36m__call__\u001b[0;34m(self)\u001b[0m\n\u001b[1;32m    260\u001b[0m         \u001b[0;31m# change the default number of processes to -1\u001b[0m\u001b[0;34m\u001b[0m\u001b[0;34m\u001b[0m\u001b[0;34m\u001b[0m\u001b[0m\n\u001b[1;32m    261\u001b[0m         \u001b[0;32mwith\u001b[0m \u001b[0mparallel_backend\u001b[0m\u001b[0;34m(\u001b[0m\u001b[0mself\u001b[0m\u001b[0;34m.\u001b[0m\u001b[0m_backend\u001b[0m\u001b[0;34m,\u001b[0m \u001b[0mn_jobs\u001b[0m\u001b[0;34m=\u001b[0m\u001b[0mself\u001b[0m\u001b[0;34m.\u001b[0m\u001b[0m_n_jobs\u001b[0m\u001b[0;34m)\u001b[0m\u001b[0;34m:\u001b[0m\u001b[0;34m\u001b[0m\u001b[0;34m\u001b[0m\u001b[0m\n\u001b[0;32m--> 262\u001b[0;31m             return [func(*args, **kwargs)\n\u001b[0m\u001b[1;32m    263\u001b[0m                     for func, args, kwargs in self.items]\n\u001b[1;32m    264\u001b[0m \u001b[0;34m\u001b[0m\u001b[0m\n",
      "\u001b[0;32m/opt/anaconda3/lib/python3.8/site-packages/joblib/parallel.py\u001b[0m in \u001b[0;36m<listcomp>\u001b[0;34m(.0)\u001b[0m\n\u001b[1;32m    260\u001b[0m         \u001b[0;31m# change the default number of processes to -1\u001b[0m\u001b[0;34m\u001b[0m\u001b[0;34m\u001b[0m\u001b[0;34m\u001b[0m\u001b[0m\n\u001b[1;32m    261\u001b[0m         \u001b[0;32mwith\u001b[0m \u001b[0mparallel_backend\u001b[0m\u001b[0;34m(\u001b[0m\u001b[0mself\u001b[0m\u001b[0;34m.\u001b[0m\u001b[0m_backend\u001b[0m\u001b[0;34m,\u001b[0m \u001b[0mn_jobs\u001b[0m\u001b[0;34m=\u001b[0m\u001b[0mself\u001b[0m\u001b[0;34m.\u001b[0m\u001b[0m_n_jobs\u001b[0m\u001b[0;34m)\u001b[0m\u001b[0;34m:\u001b[0m\u001b[0;34m\u001b[0m\u001b[0;34m\u001b[0m\u001b[0m\n\u001b[0;32m--> 262\u001b[0;31m             return [func(*args, **kwargs)\n\u001b[0m\u001b[1;32m    263\u001b[0m                     for func, args, kwargs in self.items]\n\u001b[1;32m    264\u001b[0m \u001b[0;34m\u001b[0m\u001b[0m\n",
      "\u001b[0;32m/opt/anaconda3/lib/python3.8/site-packages/sklearn/utils/fixes.py\u001b[0m in \u001b[0;36m__call__\u001b[0;34m(self, *args, **kwargs)\u001b[0m\n\u001b[1;32m    220\u001b[0m     \u001b[0;32mdef\u001b[0m \u001b[0m__call__\u001b[0m\u001b[0;34m(\u001b[0m\u001b[0mself\u001b[0m\u001b[0;34m,\u001b[0m \u001b[0;34m*\u001b[0m\u001b[0margs\u001b[0m\u001b[0;34m,\u001b[0m \u001b[0;34m**\u001b[0m\u001b[0mkwargs\u001b[0m\u001b[0;34m)\u001b[0m\u001b[0;34m:\u001b[0m\u001b[0;34m\u001b[0m\u001b[0;34m\u001b[0m\u001b[0m\n\u001b[1;32m    221\u001b[0m         \u001b[0;32mwith\u001b[0m \u001b[0mconfig_context\u001b[0m\u001b[0;34m(\u001b[0m\u001b[0;34m**\u001b[0m\u001b[0mself\u001b[0m\u001b[0;34m.\u001b[0m\u001b[0mconfig\u001b[0m\u001b[0;34m)\u001b[0m\u001b[0;34m:\u001b[0m\u001b[0;34m\u001b[0m\u001b[0;34m\u001b[0m\u001b[0m\n\u001b[0;32m--> 222\u001b[0;31m             \u001b[0;32mreturn\u001b[0m \u001b[0mself\u001b[0m\u001b[0;34m.\u001b[0m\u001b[0mfunction\u001b[0m\u001b[0;34m(\u001b[0m\u001b[0;34m*\u001b[0m\u001b[0margs\u001b[0m\u001b[0;34m,\u001b[0m \u001b[0;34m**\u001b[0m\u001b[0mkwargs\u001b[0m\u001b[0;34m)\u001b[0m\u001b[0;34m\u001b[0m\u001b[0;34m\u001b[0m\u001b[0m\n\u001b[0m",
      "\u001b[0;32m/opt/anaconda3/lib/python3.8/site-packages/sklearn/model_selection/_validation.py\u001b[0m in \u001b[0;36m_fit_and_score\u001b[0;34m(estimator, X, y, scorer, train, test, verbose, parameters, fit_params, return_train_score, return_parameters, return_n_test_samples, return_times, return_estimator, split_progress, candidate_progress, error_score)\u001b[0m\n\u001b[1;32m    591\u001b[0m             \u001b[0mestimator\u001b[0m\u001b[0;34m.\u001b[0m\u001b[0mfit\u001b[0m\u001b[0;34m(\u001b[0m\u001b[0mX_train\u001b[0m\u001b[0;34m,\u001b[0m \u001b[0;34m**\u001b[0m\u001b[0mfit_params\u001b[0m\u001b[0;34m)\u001b[0m\u001b[0;34m\u001b[0m\u001b[0;34m\u001b[0m\u001b[0m\n\u001b[1;32m    592\u001b[0m         \u001b[0;32melse\u001b[0m\u001b[0;34m:\u001b[0m\u001b[0;34m\u001b[0m\u001b[0;34m\u001b[0m\u001b[0m\n\u001b[0;32m--> 593\u001b[0;31m             \u001b[0mestimator\u001b[0m\u001b[0;34m.\u001b[0m\u001b[0mfit\u001b[0m\u001b[0;34m(\u001b[0m\u001b[0mX_train\u001b[0m\u001b[0;34m,\u001b[0m \u001b[0my_train\u001b[0m\u001b[0;34m,\u001b[0m \u001b[0;34m**\u001b[0m\u001b[0mfit_params\u001b[0m\u001b[0;34m)\u001b[0m\u001b[0;34m\u001b[0m\u001b[0;34m\u001b[0m\u001b[0m\n\u001b[0m\u001b[1;32m    594\u001b[0m \u001b[0;34m\u001b[0m\u001b[0m\n\u001b[1;32m    595\u001b[0m     \u001b[0;32mexcept\u001b[0m \u001b[0mException\u001b[0m \u001b[0;32mas\u001b[0m \u001b[0me\u001b[0m\u001b[0;34m:\u001b[0m\u001b[0;34m\u001b[0m\u001b[0;34m\u001b[0m\u001b[0m\n",
      "\u001b[0;32m/opt/anaconda3/lib/python3.8/site-packages/sklearn/ensemble/_gb.py\u001b[0m in \u001b[0;36mfit\u001b[0;34m(self, X, y, sample_weight, monitor)\u001b[0m\n\u001b[1;32m    502\u001b[0m \u001b[0;34m\u001b[0m\u001b[0m\n\u001b[1;32m    503\u001b[0m         \u001b[0;31m# fit the boosting stages\u001b[0m\u001b[0;34m\u001b[0m\u001b[0;34m\u001b[0m\u001b[0;34m\u001b[0m\u001b[0m\n\u001b[0;32m--> 504\u001b[0;31m         n_stages = self._fit_stages(\n\u001b[0m\u001b[1;32m    505\u001b[0m             \u001b[0mX\u001b[0m\u001b[0;34m,\u001b[0m \u001b[0my\u001b[0m\u001b[0;34m,\u001b[0m \u001b[0mraw_predictions\u001b[0m\u001b[0;34m,\u001b[0m \u001b[0msample_weight\u001b[0m\u001b[0;34m,\u001b[0m \u001b[0mself\u001b[0m\u001b[0;34m.\u001b[0m\u001b[0m_rng\u001b[0m\u001b[0;34m,\u001b[0m \u001b[0mX_val\u001b[0m\u001b[0;34m,\u001b[0m \u001b[0my_val\u001b[0m\u001b[0;34m,\u001b[0m\u001b[0;34m\u001b[0m\u001b[0;34m\u001b[0m\u001b[0m\n\u001b[1;32m    506\u001b[0m             sample_weight_val, begin_at_stage, monitor)\n",
      "\u001b[0;32m/opt/anaconda3/lib/python3.8/site-packages/sklearn/ensemble/_gb.py\u001b[0m in \u001b[0;36m_fit_stages\u001b[0;34m(self, X, y, raw_predictions, sample_weight, random_state, X_val, y_val, sample_weight_val, begin_at_stage, monitor)\u001b[0m\n\u001b[1;32m    559\u001b[0m \u001b[0;34m\u001b[0m\u001b[0m\n\u001b[1;32m    560\u001b[0m             \u001b[0;31m# fit next stage of trees\u001b[0m\u001b[0;34m\u001b[0m\u001b[0;34m\u001b[0m\u001b[0;34m\u001b[0m\u001b[0m\n\u001b[0;32m--> 561\u001b[0;31m             raw_predictions = self._fit_stage(\n\u001b[0m\u001b[1;32m    562\u001b[0m                 \u001b[0mi\u001b[0m\u001b[0;34m,\u001b[0m \u001b[0mX\u001b[0m\u001b[0;34m,\u001b[0m \u001b[0my\u001b[0m\u001b[0;34m,\u001b[0m \u001b[0mraw_predictions\u001b[0m\u001b[0;34m,\u001b[0m \u001b[0msample_weight\u001b[0m\u001b[0;34m,\u001b[0m \u001b[0msample_mask\u001b[0m\u001b[0;34m,\u001b[0m\u001b[0;34m\u001b[0m\u001b[0;34m\u001b[0m\u001b[0m\n\u001b[1;32m    563\u001b[0m                 random_state, X_csc, X_csr)\n",
      "\u001b[0;32m/opt/anaconda3/lib/python3.8/site-packages/sklearn/ensemble/_gb.py\u001b[0m in \u001b[0;36m_fit_stage\u001b[0;34m(self, i, X, y, raw_predictions, sample_weight, sample_mask, random_state, X_csc, X_csr)\u001b[0m\n\u001b[1;32m    212\u001b[0m \u001b[0;34m\u001b[0m\u001b[0m\n\u001b[1;32m    213\u001b[0m             \u001b[0mX\u001b[0m \u001b[0;34m=\u001b[0m \u001b[0mX_csr\u001b[0m \u001b[0;32mif\u001b[0m \u001b[0mX_csr\u001b[0m \u001b[0;32mis\u001b[0m \u001b[0;32mnot\u001b[0m \u001b[0;32mNone\u001b[0m \u001b[0;32melse\u001b[0m \u001b[0mX\u001b[0m\u001b[0;34m\u001b[0m\u001b[0;34m\u001b[0m\u001b[0m\n\u001b[0;32m--> 214\u001b[0;31m             tree.fit(X, residual, sample_weight=sample_weight,\n\u001b[0m\u001b[1;32m    215\u001b[0m                      check_input=False)\n\u001b[1;32m    216\u001b[0m \u001b[0;34m\u001b[0m\u001b[0m\n",
      "\u001b[0;32m/opt/anaconda3/lib/python3.8/site-packages/sklearn/tree/_classes.py\u001b[0m in \u001b[0;36mfit\u001b[0;34m(self, X, y, sample_weight, check_input, X_idx_sorted)\u001b[0m\n\u001b[1;32m   1245\u001b[0m         \"\"\"\n\u001b[1;32m   1246\u001b[0m \u001b[0;34m\u001b[0m\u001b[0m\n\u001b[0;32m-> 1247\u001b[0;31m         super().fit(\n\u001b[0m\u001b[1;32m   1248\u001b[0m             \u001b[0mX\u001b[0m\u001b[0;34m,\u001b[0m \u001b[0my\u001b[0m\u001b[0;34m,\u001b[0m\u001b[0;34m\u001b[0m\u001b[0;34m\u001b[0m\u001b[0m\n\u001b[1;32m   1249\u001b[0m             \u001b[0msample_weight\u001b[0m\u001b[0;34m=\u001b[0m\u001b[0msample_weight\u001b[0m\u001b[0;34m,\u001b[0m\u001b[0;34m\u001b[0m\u001b[0;34m\u001b[0m\u001b[0m\n",
      "\u001b[0;32m/opt/anaconda3/lib/python3.8/site-packages/sklearn/tree/_classes.py\u001b[0m in \u001b[0;36mfit\u001b[0;34m(self, X, y, sample_weight, check_input, X_idx_sorted)\u001b[0m\n\u001b[1;32m    387\u001b[0m                                            min_impurity_split)\n\u001b[1;32m    388\u001b[0m \u001b[0;34m\u001b[0m\u001b[0m\n\u001b[0;32m--> 389\u001b[0;31m         \u001b[0mbuilder\u001b[0m\u001b[0;34m.\u001b[0m\u001b[0mbuild\u001b[0m\u001b[0;34m(\u001b[0m\u001b[0mself\u001b[0m\u001b[0;34m.\u001b[0m\u001b[0mtree_\u001b[0m\u001b[0;34m,\u001b[0m \u001b[0mX\u001b[0m\u001b[0;34m,\u001b[0m \u001b[0my\u001b[0m\u001b[0;34m,\u001b[0m \u001b[0msample_weight\u001b[0m\u001b[0;34m)\u001b[0m\u001b[0;34m\u001b[0m\u001b[0;34m\u001b[0m\u001b[0m\n\u001b[0m\u001b[1;32m    390\u001b[0m \u001b[0;34m\u001b[0m\u001b[0m\n\u001b[1;32m    391\u001b[0m         \u001b[0;32mif\u001b[0m \u001b[0mself\u001b[0m\u001b[0;34m.\u001b[0m\u001b[0mn_outputs_\u001b[0m \u001b[0;34m==\u001b[0m \u001b[0;36m1\u001b[0m \u001b[0;32mand\u001b[0m \u001b[0mis_classifier\u001b[0m\u001b[0;34m(\u001b[0m\u001b[0mself\u001b[0m\u001b[0;34m)\u001b[0m\u001b[0;34m:\u001b[0m\u001b[0;34m\u001b[0m\u001b[0;34m\u001b[0m\u001b[0m\n",
      "\u001b[0;31mKeyboardInterrupt\u001b[0m: "
     ]
    }
   ],
   "source": [
    "#gridsearch area picked by randomsearch\n",
    "param_grid = {'learning_rate': [0.03, 0.04, 0.05, 0.06, 0.07],\n",
    "              'max_depth': np.arange(7, 13),\n",
    "              'max_features': ['log2'],\n",
    "              'min_samples_leaf': np.arange(17, 23),\n",
    "              'min_samples_split':np.arange(17, 23),\n",
    "              'n_estimators': [ 650, 700, 750, 800, 850]}\n",
    "\n",
    "model7_gs = GradientBoostingRegressor(random_state=35)\n",
    "model7_gscv = GridSearchCV(model7_gs, param_grid, cv=5)\n",
    "model7_gscv.fit(X_train, y_train)\n",
    "\n",
    "model7_gscv.best_estimator_"
   ]
  },
  {
   "cell_type": "code",
   "execution_count": null,
   "id": "24094234",
   "metadata": {},
   "outputs": [],
   "source": [
    "model9 = model7_gscv.best_estimator_\n",
    "model9.fit(X_train, y_train)\n",
    "\n",
    "y_pred = model9.predict(X_test)\n",
    "\n",
    "y_preds[model9] = y_pred\n",
    "    \n",
    "model_scores[model9] = {'model used': GradientBoostingRegressor(),\n",
    "                            'cv_score': np.mean(cross_val_score(model9, X_train, y_train, cv=5)),\n",
    "                            'MAE': mean_absolute_error(y_test, y_pred),\n",
    "                            'MSE': mean_squared_error(y_test, y_pred),\n",
    "                            'RMSE': mean_squared_error(y_test, y_pred, squared=False),\n",
    "                            'R2 score': r2_score(y_test, y_pred)\n",
    "                            }\n",
    "model_scores[model9]"
   ]
  },
  {
   "cell_type": "code",
   "execution_count": null,
   "id": "2f82ca17",
   "metadata": {
    "scrolled": false
   },
   "outputs": [],
   "source": [
    "model9_pred = model9.predict(df_test)\n",
    "\n",
    "pred = pd.DataFrame(model9_pred)\n",
    "submission1 = pd.concat([Id, pred], axis=1)\n",
    "submission1.columns = ['Id','SalePrice']\n",
    "submission1"
   ]
  },
  {
   "cell_type": "code",
   "execution_count": null,
   "id": "e052ab46",
   "metadata": {},
   "outputs": [],
   "source": [
    "#submission1.to_csv('submission1.csv', index =False)\n",
    "# kaggle competition recieves a score of 0.16373\n",
    "# number 9133 on the leaderboard at time of submition"
   ]
  },
  {
   "cell_type": "code",
   "execution_count": null,
   "id": "6ac2ea03",
   "metadata": {},
   "outputs": [],
   "source": [
    "model10 = XGB.XGBRegressor(random_state=35)\n",
    "model10.fit(X_train, y_train)"
   ]
  },
  {
   "cell_type": "code",
   "execution_count": null,
   "id": "49f61e6a",
   "metadata": {
    "scrolled": false
   },
   "outputs": [],
   "source": [
    "# define params and test xgboost\n",
    "\n",
    "#XG_params = {\n",
    "#    'max_depth': range(3,15),\n",
    "#    'min_child_weight': range(1,12),\n",
    "#    'learning_rate': [0.01, 0.05, 0.1, 0.3],\n",
    "#    'subsample': range(1,15),\n",
    "#    'colsample_bytree': range(1,15),\n",
    "#    'objective':['reg:linear'],\n",
    "#    }\n",
    "\n",
    "from scipy.stats import uniform, randint\n",
    "XB_params = {\n",
    "    \"colsample_bytree\": uniform(0.3, 0.7),\n",
    "    \"gamma\": uniform(0, 0.5),\n",
    "    \"learning_rate\": uniform(0.03, 0.3), # default 0.1 \n",
    "    \"max_depth\": randint(2, 6), # default 3\n",
    "    \"subsample\": uniform(0.4, 0.6)\n",
    "}\n",
    "\n",
    "#scoring('model10', XGB.XGBRegressor(), XG_params)\n",
    "\n",
    "model10 = XGB.XGBRegressor(random_state=35)\n",
    "model10_gscv = RandomizedSearchCV(model10, XG_params, n_iter=100, n_jobs=1, cv=3)\n",
    "#model10_gscv.fit(X_train, y_train)\n",
    "#y_pred = model11.predict(X_test)\n",
    "#mean_squared_error(y_test, y_pred, squared=False)"
   ]
  },
  {
   "cell_type": "code",
   "execution_count": null,
   "id": "2020dfd1",
   "metadata": {
    "scrolled": true
   },
   "outputs": [],
   "source": [
    "model11_lbg = LGB.LGBMRegressor(random_state=35)\n",
    "model11_lbg.fit(X_train, y_train)\n",
    "y_pred = model11_lbg.predict(X_test)\n",
    "mean_squared_error(y_test, y_pred, squared=False)"
   ]
  },
  {
   "cell_type": "code",
   "execution_count": null,
   "id": "2f1fb238",
   "metadata": {},
   "outputs": [],
   "source": [
    "model11_lbg"
   ]
  },
  {
   "cell_type": "code",
   "execution_count": null,
   "id": "aa93c639",
   "metadata": {},
   "outputs": [],
   "source": [
    "# try LGBM\n",
    "\n",
    "\n",
    "LBG_params = {\n",
    "    'num_leaves': [5, 10, 25, 40, 55, 70, 85],\n",
    "    'min_child_samples': [50, 75, 100, 125],\n",
    "    'min_split_gain': [0.0, 0.001, 0.01],\n",
    "    'num_iterations': [50, 75, 100],\n",
    "    'learning_rate': [0.01, 0.05, 0.1, 0.5, 1]\n",
    "}\n",
    "\n",
    "#model11_gs = LGB.LGBMRegressor()\n",
    "#model11_gscv = RandomizedSearchCV(model11_gs, LBG_params, cv=3)\n",
    "#model11_gscv.fit(X_train, y_train)\n",
    "\n",
    "scoring('model11', LGB.LGBMRegressor(random_state=35), LBG_params)"
   ]
  },
  {
   "cell_type": "code",
   "execution_count": null,
   "id": "7ab7f88a",
   "metadata": {},
   "outputs": [],
   "source": [
    "model_scores['model11']"
   ]
  },
  {
   "cell_type": "code",
   "execution_count": null,
   "id": "a454f09e",
   "metadata": {
    "scrolled": false
   },
   "outputs": [],
   "source": [
    " # try CatBoostRegressor\n",
    "cat_params = {'iterations': [10, 25, 50],\n",
    "              'learning_rate': [0.01, 0.1, 0.5, 1],\n",
    "              'depth':[ 10, 20, 30]}\n",
    "    \n",
    "scoring('model12', CatBoostRegressor(random_state=35), cat_params)"
   ]
  },
  {
   "cell_type": "code",
   "execution_count": null,
   "id": "95a3d5c1",
   "metadata": {},
   "outputs": [],
   "source": [
    "model_scores['model12']"
   ]
  },
  {
   "cell_type": "code",
   "execution_count": null,
   "id": "99785405",
   "metadata": {},
   "outputs": [],
   "source": [
    "scores = pd.DataFrame(model_scores).T\n",
    "scores.round(decimals=2)"
   ]
  },
  {
   "cell_type": "code",
   "execution_count": null,
   "id": "3fc05f34",
   "metadata": {},
   "outputs": [],
   "source": []
  },
  {
   "cell_type": "code",
   "execution_count": null,
   "id": "84b3cc14",
   "metadata": {},
   "outputs": [],
   "source": [
    "model-_pred = model-.predict(df_test)\n",
    "\n",
    "pred = pd.DataFrame(model-_pred)\n",
    "submission = pd.concat([Id, pred], axis=1)\n",
    "submission.columns = ['Id','SalePrice']\n",
    "submission"
   ]
  }
 ],
 "metadata": {
  "kernelspec": {
   "display_name": "Python 3",
   "language": "python",
   "name": "python3"
  }
 },
 "nbformat": 4,
 "nbformat_minor": 5
}
