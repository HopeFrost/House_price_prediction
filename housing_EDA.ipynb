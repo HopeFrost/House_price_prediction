{
 "cells": [
  {
   "cell_type": "markdown",
   "metadata": {},
   "source": [
    "# Wrangling Missing Data"
   ]
  },
  {
   "cell_type": "code",
   "execution_count": 1,
   "metadata": {},
   "outputs": [],
   "source": [
    "#import basics\n",
    "import pandas as pd\n",
    "import numpy as np\n"
   ]
  },
  {
   "cell_type": "code",
   "execution_count": 2,
   "metadata": {},
   "outputs": [],
   "source": [
    "#import data\n",
    "houses = pd.read_csv('train.csv')\n",
    "test = pd.read_csv('test.csv')"
   ]
  },
  {
   "cell_type": "code",
   "execution_count": 3,
   "metadata": {},
   "outputs": [
    {
     "name": "stdout",
     "output_type": "stream",
     "text": [
      "Index(['Id', 'MSSubClass', 'MSZoning', 'LotFrontage', 'LotArea', 'Street',\n",
      "       'Alley', 'LotShape', 'LandContour', 'Utilities', 'LotConfig',\n",
      "       'LandSlope', 'Neighborhood', 'Condition1', 'Condition2', 'BldgType',\n",
      "       'HouseStyle', 'OverallQual', 'OverallCond', 'YearBuilt', 'YearRemodAdd',\n",
      "       'RoofStyle', 'RoofMatl', 'Exterior1st', 'Exterior2nd', 'MasVnrType',\n",
      "       'MasVnrArea', 'ExterQual', 'ExterCond', 'Foundation', 'BsmtQual',\n",
      "       'BsmtCond', 'BsmtExposure', 'BsmtFinType1', 'BsmtFinSF1',\n",
      "       'BsmtFinType2', 'BsmtFinSF2', 'BsmtUnfSF', 'TotalBsmtSF', 'Heating',\n",
      "       'HeatingQC', 'CentralAir', 'Electrical', '1stFlrSF', '2ndFlrSF',\n",
      "       'LowQualFinSF', 'GrLivArea', 'BsmtFullBath', 'BsmtHalfBath', 'FullBath',\n",
      "       'HalfBath', 'BedroomAbvGr', 'KitchenAbvGr', 'KitchenQual',\n",
      "       'TotRmsAbvGrd', 'Functional', 'Fireplaces', 'FireplaceQu', 'GarageType',\n",
      "       'GarageYrBlt', 'GarageFinish', 'GarageCars', 'GarageArea', 'GarageQual',\n",
      "       'GarageCond', 'PavedDrive', 'WoodDeckSF', 'OpenPorchSF',\n",
      "       'EnclosedPorch', '3SsnPorch', 'ScreenPorch', 'PoolArea', 'PoolQC',\n",
      "       'Fence', 'MiscFeature', 'MiscVal', 'MoSold', 'YrSold', 'SaleType',\n",
      "       'SaleCondition', 'SalePrice'],\n",
      "      dtype='object')\n",
      "Index(['Id', 'MSSubClass', 'MSZoning', 'LotFrontage', 'LotArea', 'Street',\n",
      "       'Alley', 'LotShape', 'LandContour', 'Utilities', 'LotConfig',\n",
      "       'LandSlope', 'Neighborhood', 'Condition1', 'Condition2', 'BldgType',\n",
      "       'HouseStyle', 'OverallQual', 'OverallCond', 'YearBuilt', 'YearRemodAdd',\n",
      "       'RoofStyle', 'RoofMatl', 'Exterior1st', 'Exterior2nd', 'MasVnrType',\n",
      "       'MasVnrArea', 'ExterQual', 'ExterCond', 'Foundation', 'BsmtQual',\n",
      "       'BsmtCond', 'BsmtExposure', 'BsmtFinType1', 'BsmtFinSF1',\n",
      "       'BsmtFinType2', 'BsmtFinSF2', 'BsmtUnfSF', 'TotalBsmtSF', 'Heating',\n",
      "       'HeatingQC', 'CentralAir', 'Electrical', '1stFlrSF', '2ndFlrSF',\n",
      "       'LowQualFinSF', 'GrLivArea', 'BsmtFullBath', 'BsmtHalfBath', 'FullBath',\n",
      "       'HalfBath', 'BedroomAbvGr', 'KitchenAbvGr', 'KitchenQual',\n",
      "       'TotRmsAbvGrd', 'Functional', 'Fireplaces', 'FireplaceQu', 'GarageType',\n",
      "       'GarageYrBlt', 'GarageFinish', 'GarageCars', 'GarageArea', 'GarageQual',\n",
      "       'GarageCond', 'PavedDrive', 'WoodDeckSF', 'OpenPorchSF',\n",
      "       'EnclosedPorch', '3SsnPorch', 'ScreenPorch', 'PoolArea', 'PoolQC',\n",
      "       'Fence', 'MiscFeature', 'MiscVal', 'MoSold', 'YrSold', 'SaleType',\n",
      "       'SaleCondition'],\n",
      "      dtype='object')\n"
     ]
    }
   ],
   "source": [
    "print(houses.columns)\n",
    "print(test.columns)"
   ]
  },
  {
   "cell_type": "code",
   "execution_count": 4,
   "metadata": {
    "scrolled": true
   },
   "outputs": [],
   "source": [
    "#map and change qualities and conditions\n",
    "scale2_5 = {'Fa': 2, 'TA': 3, 'Gd': 4, 'Ex': 5}\n",
    "scale5na = {np.nan: 0, 'Po': 1, 'Fa': 2, 'TA': 3, 'Gd': 4, 'Ex': 5}\n",
    "scale2_5na = {np.nan: 0, 'Fa': 2, 'TA': 3, 'Gd': 4, 'Ex': 5}\n",
    "scale0245 = {np.nan: 0, 'Fa': 2, 'Gd': 4, 'Ex': 5}\n",
    "#houses['FireplaceQu'].replace(scale5na, inplace=True)\n",
    "houses['ExterQual'] = [scale2_5[item] for item in houses['ExterQual']]\n",
    "houses['BsmtQual'] = [scale2_5na[item] for item in houses['BsmtQual']]\n",
    "houses['KitchenQual'] = [scale2_5na[item] for item in houses['KitchenQual']]\n",
    "houses['FireplaceQu'] = [scale5na[item] for item in houses['FireplaceQu']]\n",
    "houses['ExterCond'] = [scale5na[item] for item in houses['ExterCond']]\n",
    "houses['BsmtCond'] = [scale5na[item] for item in houses['BsmtCond']]\n",
    "houses['GarageQual'] = [scale5na[item] for item in houses['GarageQual']]\n",
    "houses['GarageCond'] = [scale5na[item] for item in houses['GarageCond']]\n",
    "houses['PoolQC'] = [scale0245[item] for item in houses['PoolQC']]"
   ]
  },
  {
   "cell_type": "code",
   "execution_count": 5,
   "metadata": {},
   "outputs": [],
   "source": [
    "#repeat on test set\n",
    "test['ExterQual'] = [scale2_5[item] for item in test['ExterQual']]\n",
    "test['BsmtQual'] = [scale2_5na[item] for item in test['BsmtQual']]\n",
    "test['KitchenQual'] = [scale2_5na[item] for item in test['KitchenQual']]\n",
    "test['FireplaceQu'] = [scale5na[item] for item in test['FireplaceQu']]\n",
    "test['ExterCond'] = [scale5na[item] for item in test['ExterCond']]\n",
    "test['BsmtCond'] = [scale5na[item] for item in test['BsmtCond']]\n",
    "test['GarageQual'] = [scale5na[item] for item in test['GarageQual']]\n",
    "test['GarageCond'] = [scale5na[item] for item in test['GarageCond']]\n",
    "test['PoolQC'] = [scale0245[item] for item in test['PoolQC']]"
   ]
  },
  {
   "cell_type": "code",
   "execution_count": 6,
   "metadata": {},
   "outputs": [
    {
     "data": {
      "text/plain": [
       "0        80\n",
       "1        81\n",
       "2        74\n",
       "3        78\n",
       "4        43\n",
       "       ... \n",
       "1454     21\n",
       "1455     21\n",
       "1456    160\n",
       "1457     62\n",
       "1458     74\n",
       "Name: LotFrontage, Length: 1459, dtype: int64"
      ]
     },
     "execution_count": 6,
     "metadata": {},
     "output_type": "execute_result"
    }
   ],
   "source": [
    "houses.LotFrontage.fillna(houses.LotFrontage.mode()[0], inplace=True)\n",
    "houses.LotFrontage.astype(int)\n",
    "#repeat on test\n",
    "test.LotFrontage.fillna(houses.LotFrontage.mode()[0], inplace=True)\n",
    "test.LotFrontage.astype(int)"
   ]
  },
  {
   "cell_type": "code",
   "execution_count": 7,
   "metadata": {
    "scrolled": true
   },
   "outputs": [],
   "source": [
    "houses.MasVnrType.fillna(houses.MasVnrType.mode()[0], inplace=True)\n",
    "\n",
    "#repeat on test\n",
    "test.MasVnrType.fillna(houses.MasVnrType.mode()[0], inplace=True)"
   ]
  },
  {
   "cell_type": "code",
   "execution_count": 8,
   "metadata": {},
   "outputs": [],
   "source": [
    "houses.MasVnrArea.fillna(0, inplace=True)\n",
    "#repeat on test\n",
    "test.MasVnrArea.fillna(0, inplace=True)\n"
   ]
  },
  {
   "cell_type": "code",
   "execution_count": 9,
   "metadata": {},
   "outputs": [],
   "source": [
    "# from data descripion: Gd-Good Exposure, Av-Average Exposure (split levels or foyers typically score average or above), \n",
    "#Mn-Mimimum Exposure, No-No Exposure, NA-No Basement\n",
    "scale_BE = {np.nan: 0, 'No': 1, 'Mn': 2, 'Av': 3, 'Gd': 4}\n",
    "houses['BsmtExposure'] = [scale_BE[item] for item in houses['BsmtExposure']]\n",
    "\n",
    "#repeat on test\n",
    "test['BsmtExposure'] = [scale_BE[item] for item in test['BsmtExposure']]"
   ]
  },
  {
   "cell_type": "code",
   "execution_count": 10,
   "metadata": {},
   "outputs": [],
   "source": [
    "scale_BT = {np.nan: 0, 'Unf': 1, 'LwQ': 2, 'Rec': 3, 'BLQ': 4, 'ALQ': 5, 'GLQ': 6}\n",
    "houses['BsmtFinType1'] = [scale_BT[item] for item in houses['BsmtFinType1']]\n",
    "\n",
    "#repeat on test\n",
    "test['BsmtFinType1'] = [scale_BT[item] for item in test['BsmtFinType1']]"
   ]
  },
  {
   "cell_type": "code",
   "execution_count": 11,
   "metadata": {},
   "outputs": [],
   "source": [
    "houses['BsmtFinType2'] = [scale_BT[item] for item in houses['BsmtFinType2']]\n",
    "\n",
    "#repeat on test\n",
    "test['BsmtFinType2'] = [scale_BT[item] for item in test['BsmtFinType2']]"
   ]
  },
  {
   "cell_type": "code",
   "execution_count": 12,
   "metadata": {},
   "outputs": [],
   "source": [
    "houses.dropna(subset= ['Electrical'], inplace=True)\n",
    "\n",
    "#repeat on test\n",
    "test.dropna(subset= ['Electrical'], inplace=True)"
   ]
  },
  {
   "cell_type": "code",
   "execution_count": 13,
   "metadata": {},
   "outputs": [],
   "source": [
    "scaleGF ={np.nan: 0, 'Unf': 1, 'RFn': 2, 'Fin': 3}\n",
    "houses.GarageFinish = [scaleGF[item] for item in houses.GarageFinish]\n",
    "\n",
    "#repeat on test\n",
    "test.GarageFinish = [scaleGF[item] for item in test.GarageFinish]"
   ]
  },
  {
   "cell_type": "code",
   "execution_count": 14,
   "metadata": {},
   "outputs": [
    {
     "data": {
      "text/plain": [
       "0       1961\n",
       "1       1958\n",
       "2       1997\n",
       "3       1998\n",
       "4       1992\n",
       "        ... \n",
       "1454    1970\n",
       "1455    1970\n",
       "1456    1960\n",
       "1457    1992\n",
       "1458    1993\n",
       "Name: GarageYrBlt, Length: 1459, dtype: int16"
      ]
     },
     "execution_count": 14,
     "metadata": {},
     "output_type": "execute_result"
    }
   ],
   "source": [
    "#chose to fill in years with the year the house was built. This is when the decition to not build a garage was made.\n",
    "houses.loc[houses['GarageYrBlt'].isnull(), 'GarageYrBlt'] = houses['YearBuilt'].loc[houses['GarageYrBlt'].isnull()]\n",
    "pd.to_numeric(houses['GarageYrBlt'], downcast='integer', errors='coerce')\n",
    "\n",
    "#repeat on test\n",
    "test.loc[test['GarageYrBlt'].isnull(), 'GarageYrBlt'] = test['YearBuilt'].loc[test['GarageYrBlt'].isnull()]\n",
    "pd.to_numeric(test['GarageYrBlt'], downcast='integer', errors='coerce')"
   ]
  },
  {
   "cell_type": "code",
   "execution_count": 15,
   "metadata": {},
   "outputs": [
    {
     "data": {
      "text/plain": [
       "[None, None, None, None, None, None, None, None]"
      ]
     },
     "execution_count": 15,
     "metadata": {},
     "output_type": "execute_result"
    }
   ],
   "source": [
    "#missing int in test that arn't missing in train set\n",
    "int0 = ['BsmtFinSF1', 'BsmtFinSF2', 'BsmtUnfSF', 'TotalBsmtSF', 'BsmtFullBath', 'BsmtHalfBath', 'GarageCars', 'GarageArea']\n",
    "\n",
    "[test[column].fillna(0, inplace=True) for column in int0]\n"
   ]
  },
  {
   "cell_type": "code",
   "execution_count": 16,
   "metadata": {
    "scrolled": true
   },
   "outputs": [
    {
     "name": "stdout",
     "output_type": "stream",
     "text": [
      "<class 'pandas.core.frame.DataFrame'>\n",
      "Int64Index: 1459 entries, 0 to 1459\n",
      "Data columns (total 51 columns):\n",
      " #   Column         Non-Null Count  Dtype  \n",
      "---  ------         --------------  -----  \n",
      " 0   Id             1459 non-null   int64  \n",
      " 1   MSSubClass     1459 non-null   int64  \n",
      " 2   LotFrontage    1459 non-null   float64\n",
      " 3   LotArea        1459 non-null   int64  \n",
      " 4   OverallQual    1459 non-null   int64  \n",
      " 5   OverallCond    1459 non-null   int64  \n",
      " 6   YearBuilt      1459 non-null   int64  \n",
      " 7   YearRemodAdd   1459 non-null   int64  \n",
      " 8   MasVnrArea     1459 non-null   float64\n",
      " 9   ExterQual      1459 non-null   int64  \n",
      " 10  ExterCond      1459 non-null   int64  \n",
      " 11  BsmtQual       1459 non-null   int64  \n",
      " 12  BsmtCond       1459 non-null   int64  \n",
      " 13  BsmtExposure   1459 non-null   int64  \n",
      " 14  BsmtFinType1   1459 non-null   int64  \n",
      " 15  BsmtFinSF1     1459 non-null   int64  \n",
      " 16  BsmtFinType2   1459 non-null   int64  \n",
      " 17  BsmtFinSF2     1459 non-null   int64  \n",
      " 18  BsmtUnfSF      1459 non-null   int64  \n",
      " 19  TotalBsmtSF    1459 non-null   int64  \n",
      " 20  1stFlrSF       1459 non-null   int64  \n",
      " 21  2ndFlrSF       1459 non-null   int64  \n",
      " 22  LowQualFinSF   1459 non-null   int64  \n",
      " 23  GrLivArea      1459 non-null   int64  \n",
      " 24  BsmtFullBath   1459 non-null   int64  \n",
      " 25  BsmtHalfBath   1459 non-null   int64  \n",
      " 26  FullBath       1459 non-null   int64  \n",
      " 27  HalfBath       1459 non-null   int64  \n",
      " 28  BedroomAbvGr   1459 non-null   int64  \n",
      " 29  KitchenAbvGr   1459 non-null   int64  \n",
      " 30  KitchenQual    1459 non-null   int64  \n",
      " 31  TotRmsAbvGrd   1459 non-null   int64  \n",
      " 32  Fireplaces     1459 non-null   int64  \n",
      " 33  FireplaceQu    1459 non-null   int64  \n",
      " 34  GarageYrBlt    1459 non-null   float64\n",
      " 35  GarageFinish   1459 non-null   int64  \n",
      " 36  GarageCars     1459 non-null   int64  \n",
      " 37  GarageArea     1459 non-null   int64  \n",
      " 38  GarageQual     1459 non-null   int64  \n",
      " 39  GarageCond     1459 non-null   int64  \n",
      " 40  WoodDeckSF     1459 non-null   int64  \n",
      " 41  OpenPorchSF    1459 non-null   int64  \n",
      " 42  EnclosedPorch  1459 non-null   int64  \n",
      " 43  3SsnPorch      1459 non-null   int64  \n",
      " 44  ScreenPorch    1459 non-null   int64  \n",
      " 45  PoolArea       1459 non-null   int64  \n",
      " 46  PoolQC         1459 non-null   int64  \n",
      " 47  MiscVal        1459 non-null   int64  \n",
      " 48  MoSold         1459 non-null   int64  \n",
      " 49  YrSold         1459 non-null   int64  \n",
      " 50  SalePrice      1459 non-null   int64  \n",
      "dtypes: float64(3), int64(48)\n",
      "memory usage: 592.7 KB\n"
     ]
    }
   ],
   "source": [
    "houses.select_dtypes([np.number]).info()\n"
   ]
  },
  {
   "cell_type": "code",
   "execution_count": 17,
   "metadata": {},
   "outputs": [
    {
     "name": "stdout",
     "output_type": "stream",
     "text": [
      "<class 'pandas.core.frame.DataFrame'>\n",
      "Int64Index: 1459 entries, 0 to 1459\n",
      "Data columns (total 30 columns):\n",
      " #   Column         Non-Null Count  Dtype \n",
      "---  ------         --------------  ----- \n",
      " 0   MSZoning       1459 non-null   object\n",
      " 1   Street         1459 non-null   object\n",
      " 2   Alley          91 non-null     object\n",
      " 3   LotShape       1459 non-null   object\n",
      " 4   LandContour    1459 non-null   object\n",
      " 5   Utilities      1459 non-null   object\n",
      " 6   LotConfig      1459 non-null   object\n",
      " 7   LandSlope      1459 non-null   object\n",
      " 8   Neighborhood   1459 non-null   object\n",
      " 9   Condition1     1459 non-null   object\n",
      " 10  Condition2     1459 non-null   object\n",
      " 11  BldgType       1459 non-null   object\n",
      " 12  HouseStyle     1459 non-null   object\n",
      " 13  RoofStyle      1459 non-null   object\n",
      " 14  RoofMatl       1459 non-null   object\n",
      " 15  Exterior1st    1459 non-null   object\n",
      " 16  Exterior2nd    1459 non-null   object\n",
      " 17  MasVnrType     1459 non-null   object\n",
      " 18  Foundation     1459 non-null   object\n",
      " 19  Heating        1459 non-null   object\n",
      " 20  HeatingQC      1459 non-null   object\n",
      " 21  CentralAir     1459 non-null   object\n",
      " 22  Electrical     1459 non-null   object\n",
      " 23  Functional     1459 non-null   object\n",
      " 24  GarageType     1378 non-null   object\n",
      " 25  PavedDrive     1459 non-null   object\n",
      " 26  Fence          281 non-null    object\n",
      " 27  MiscFeature    54 non-null     object\n",
      " 28  SaleType       1459 non-null   object\n",
      " 29  SaleCondition  1459 non-null   object\n",
      "dtypes: object(30)\n",
      "memory usage: 353.4+ KB\n"
     ]
    }
   ],
   "source": [
    "houses.select_dtypes(exclude=[np.number]).info()"
   ]
  },
  {
   "cell_type": "code",
   "execution_count": 18,
   "metadata": {
    "scrolled": false
   },
   "outputs": [
    {
     "name": "stdout",
     "output_type": "stream",
     "text": [
      "<class 'pandas.core.frame.DataFrame'>\n",
      "Int64Index: 1459 entries, 0 to 1458\n",
      "Data columns (total 50 columns):\n",
      " #   Column         Non-Null Count  Dtype  \n",
      "---  ------         --------------  -----  \n",
      " 0   Id             1459 non-null   int64  \n",
      " 1   MSSubClass     1459 non-null   int64  \n",
      " 2   LotFrontage    1459 non-null   float64\n",
      " 3   LotArea        1459 non-null   int64  \n",
      " 4   OverallQual    1459 non-null   int64  \n",
      " 5   OverallCond    1459 non-null   int64  \n",
      " 6   YearBuilt      1459 non-null   int64  \n",
      " 7   YearRemodAdd   1459 non-null   int64  \n",
      " 8   MasVnrArea     1459 non-null   float64\n",
      " 9   ExterQual      1459 non-null   int64  \n",
      " 10  ExterCond      1459 non-null   int64  \n",
      " 11  BsmtQual       1459 non-null   int64  \n",
      " 12  BsmtCond       1459 non-null   int64  \n",
      " 13  BsmtExposure   1459 non-null   int64  \n",
      " 14  BsmtFinType1   1459 non-null   int64  \n",
      " 15  BsmtFinSF1     1459 non-null   float64\n",
      " 16  BsmtFinType2   1459 non-null   int64  \n",
      " 17  BsmtFinSF2     1459 non-null   float64\n",
      " 18  BsmtUnfSF      1459 non-null   float64\n",
      " 19  TotalBsmtSF    1459 non-null   float64\n",
      " 20  1stFlrSF       1459 non-null   int64  \n",
      " 21  2ndFlrSF       1459 non-null   int64  \n",
      " 22  LowQualFinSF   1459 non-null   int64  \n",
      " 23  GrLivArea      1459 non-null   int64  \n",
      " 24  BsmtFullBath   1459 non-null   float64\n",
      " 25  BsmtHalfBath   1459 non-null   float64\n",
      " 26  FullBath       1459 non-null   int64  \n",
      " 27  HalfBath       1459 non-null   int64  \n",
      " 28  BedroomAbvGr   1459 non-null   int64  \n",
      " 29  KitchenAbvGr   1459 non-null   int64  \n",
      " 30  KitchenQual    1459 non-null   int64  \n",
      " 31  TotRmsAbvGrd   1459 non-null   int64  \n",
      " 32  Fireplaces     1459 non-null   int64  \n",
      " 33  FireplaceQu    1459 non-null   int64  \n",
      " 34  GarageYrBlt    1459 non-null   float64\n",
      " 35  GarageFinish   1459 non-null   int64  \n",
      " 36  GarageCars     1459 non-null   float64\n",
      " 37  GarageArea     1459 non-null   float64\n",
      " 38  GarageQual     1459 non-null   int64  \n",
      " 39  GarageCond     1459 non-null   int64  \n",
      " 40  WoodDeckSF     1459 non-null   int64  \n",
      " 41  OpenPorchSF    1459 non-null   int64  \n",
      " 42  EnclosedPorch  1459 non-null   int64  \n",
      " 43  3SsnPorch      1459 non-null   int64  \n",
      " 44  ScreenPorch    1459 non-null   int64  \n",
      " 45  PoolArea       1459 non-null   int64  \n",
      " 46  PoolQC         1459 non-null   int64  \n",
      " 47  MiscVal        1459 non-null   int64  \n",
      " 48  MoSold         1459 non-null   int64  \n",
      " 49  YrSold         1459 non-null   int64  \n",
      "dtypes: float64(11), int64(39)\n",
      "memory usage: 581.3 KB\n"
     ]
    }
   ],
   "source": [
    "test.select_dtypes([np.number]).info()"
   ]
  },
  {
   "cell_type": "code",
   "execution_count": 22,
   "metadata": {},
   "outputs": [
    {
     "name": "stdout",
     "output_type": "stream",
     "text": [
      "<class 'pandas.core.frame.DataFrame'>\n",
      "Int64Index: 1459 entries, 0 to 1458\n",
      "Data columns (total 30 columns):\n",
      " #   Column         Non-Null Count  Dtype \n",
      "---  ------         --------------  ----- \n",
      " 0   MSZoning       1455 non-null   object\n",
      " 1   Street         1459 non-null   object\n",
      " 2   Alley          107 non-null    object\n",
      " 3   LotShape       1459 non-null   object\n",
      " 4   LandContour    1459 non-null   object\n",
      " 5   Utilities      1457 non-null   object\n",
      " 6   LotConfig      1459 non-null   object\n",
      " 7   LandSlope      1459 non-null   object\n",
      " 8   Neighborhood   1459 non-null   object\n",
      " 9   Condition1     1459 non-null   object\n",
      " 10  Condition2     1459 non-null   object\n",
      " 11  BldgType       1459 non-null   object\n",
      " 12  HouseStyle     1459 non-null   object\n",
      " 13  RoofStyle      1459 non-null   object\n",
      " 14  RoofMatl       1459 non-null   object\n",
      " 15  Exterior1st    1458 non-null   object\n",
      " 16  Exterior2nd    1458 non-null   object\n",
      " 17  MasVnrType     1459 non-null   object\n",
      " 18  Foundation     1459 non-null   object\n",
      " 19  Heating        1459 non-null   object\n",
      " 20  HeatingQC      1459 non-null   object\n",
      " 21  CentralAir     1459 non-null   object\n",
      " 22  Electrical     1459 non-null   object\n",
      " 23  Functional     1457 non-null   object\n",
      " 24  GarageType     1383 non-null   object\n",
      " 25  PavedDrive     1459 non-null   object\n",
      " 26  Fence          290 non-null    object\n",
      " 27  MiscFeature    51 non-null     object\n",
      " 28  SaleType       1458 non-null   object\n",
      " 29  SaleCondition  1459 non-null   object\n",
      "dtypes: object(30)\n",
      "memory usage: 353.4+ KB\n"
     ]
    }
   ],
   "source": [
    "test.select_dtypes(exclude=[np.number]).info()"
   ]
  },
  {
   "cell_type": "markdown",
   "metadata": {},
   "source": [
    "List of catagorical columns with missing values that will become 0s when we make dumies:\n",
    "    \n",
    "Alley, GarageType, Fence, MiscFeature, "
   ]
  },
  {
   "cell_type": "code",
   "execution_count": null,
   "metadata": {},
   "outputs": [],
   "source": []
  }
 ],
 "metadata": {
  "kernelspec": {
   "display_name": "Python 3",
   "language": "python",
   "name": "python3"
  },
  "language_info": {
   "codemirror_mode": {
    "name": "ipython",
    "version": 3
   },
   "file_extension": ".py",
   "mimetype": "text/x-python",
   "name": "python",
   "nbconvert_exporter": "python",
   "pygments_lexer": "ipython3",
   "version": "3.8.5"
  }
 },
 "nbformat": 4,
 "nbformat_minor": 4
}
