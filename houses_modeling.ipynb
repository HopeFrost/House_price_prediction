{
 "cells": [
  {
   "cell_type": "code",
   "execution_count": 1,
   "id": "fcb0bdf3",
   "metadata": {},
   "outputs": [],
   "source": [
    "import pandas as pd\n",
    "import numpy as np\n",
    "import seaborn as sns\n",
    "import matplotlib.pyplot as plt\n",
    "from sklearn.linear_model import LinearRegression\n",
    "from sklearn.model_selection import train_test_split, cross_val_score\n",
    "from sklearn.metrics import mean_squared_error, mean_absolute_error, r2_score"
   ]
  },
  {
   "cell_type": "code",
   "execution_count": 2,
   "id": "4898e14e",
   "metadata": {},
   "outputs": [],
   "source": [
    "# import data from previous wrangle and EDA notebooks\n",
    "df_houses = pd.read_csv('houses.csv')\n",
    "test = pd.read_csv('houses_test.csv')"
   ]
  },
  {
   "cell_type": "code",
   "execution_count": 3,
   "id": "5b3eaed6",
   "metadata": {
    "scrolled": true
   },
   "outputs": [
    {
     "data": {
      "text/html": [
       "<div>\n",
       "<style scoped>\n",
       "    .dataframe tbody tr th:only-of-type {\n",
       "        vertical-align: middle;\n",
       "    }\n",
       "\n",
       "    .dataframe tbody tr th {\n",
       "        vertical-align: top;\n",
       "    }\n",
       "\n",
       "    .dataframe thead th {\n",
       "        text-align: right;\n",
       "    }\n",
       "</style>\n",
       "<table border=\"1\" class=\"dataframe\">\n",
       "  <thead>\n",
       "    <tr style=\"text-align: right;\">\n",
       "      <th></th>\n",
       "      <th>Unnamed: 0</th>\n",
       "      <th>Id</th>\n",
       "      <th>MSSubClass</th>\n",
       "      <th>MSZoning</th>\n",
       "      <th>LotFrontage</th>\n",
       "      <th>LotArea</th>\n",
       "      <th>Street</th>\n",
       "      <th>Alley</th>\n",
       "      <th>LotShape</th>\n",
       "      <th>LandContour</th>\n",
       "      <th>...</th>\n",
       "      <th>PoolArea</th>\n",
       "      <th>PoolQC</th>\n",
       "      <th>Fence</th>\n",
       "      <th>MiscFeature</th>\n",
       "      <th>MiscVal</th>\n",
       "      <th>MoSold</th>\n",
       "      <th>YrSold</th>\n",
       "      <th>SaleType</th>\n",
       "      <th>SaleCondition</th>\n",
       "      <th>SalePrice</th>\n",
       "    </tr>\n",
       "  </thead>\n",
       "  <tbody>\n",
       "    <tr>\n",
       "      <th>0</th>\n",
       "      <td>0</td>\n",
       "      <td>1</td>\n",
       "      <td>60</td>\n",
       "      <td>RL</td>\n",
       "      <td>65.0</td>\n",
       "      <td>8450</td>\n",
       "      <td>Pave</td>\n",
       "      <td>NaN</td>\n",
       "      <td>Reg</td>\n",
       "      <td>Lvl</td>\n",
       "      <td>...</td>\n",
       "      <td>0</td>\n",
       "      <td>0</td>\n",
       "      <td>0</td>\n",
       "      <td>NaN</td>\n",
       "      <td>0</td>\n",
       "      <td>2</td>\n",
       "      <td>2008</td>\n",
       "      <td>WD</td>\n",
       "      <td>Normal</td>\n",
       "      <td>208500</td>\n",
       "    </tr>\n",
       "    <tr>\n",
       "      <th>1</th>\n",
       "      <td>1</td>\n",
       "      <td>2</td>\n",
       "      <td>20</td>\n",
       "      <td>RL</td>\n",
       "      <td>80.0</td>\n",
       "      <td>9600</td>\n",
       "      <td>Pave</td>\n",
       "      <td>NaN</td>\n",
       "      <td>Reg</td>\n",
       "      <td>Lvl</td>\n",
       "      <td>...</td>\n",
       "      <td>0</td>\n",
       "      <td>0</td>\n",
       "      <td>0</td>\n",
       "      <td>NaN</td>\n",
       "      <td>0</td>\n",
       "      <td>5</td>\n",
       "      <td>2007</td>\n",
       "      <td>WD</td>\n",
       "      <td>Normal</td>\n",
       "      <td>181500</td>\n",
       "    </tr>\n",
       "    <tr>\n",
       "      <th>2</th>\n",
       "      <td>2</td>\n",
       "      <td>3</td>\n",
       "      <td>60</td>\n",
       "      <td>RL</td>\n",
       "      <td>68.0</td>\n",
       "      <td>11250</td>\n",
       "      <td>Pave</td>\n",
       "      <td>NaN</td>\n",
       "      <td>IR1</td>\n",
       "      <td>Lvl</td>\n",
       "      <td>...</td>\n",
       "      <td>0</td>\n",
       "      <td>0</td>\n",
       "      <td>0</td>\n",
       "      <td>NaN</td>\n",
       "      <td>0</td>\n",
       "      <td>9</td>\n",
       "      <td>2008</td>\n",
       "      <td>WD</td>\n",
       "      <td>Normal</td>\n",
       "      <td>223500</td>\n",
       "    </tr>\n",
       "    <tr>\n",
       "      <th>3</th>\n",
       "      <td>3</td>\n",
       "      <td>4</td>\n",
       "      <td>70</td>\n",
       "      <td>RL</td>\n",
       "      <td>60.0</td>\n",
       "      <td>9550</td>\n",
       "      <td>Pave</td>\n",
       "      <td>NaN</td>\n",
       "      <td>IR1</td>\n",
       "      <td>Lvl</td>\n",
       "      <td>...</td>\n",
       "      <td>0</td>\n",
       "      <td>0</td>\n",
       "      <td>0</td>\n",
       "      <td>NaN</td>\n",
       "      <td>0</td>\n",
       "      <td>2</td>\n",
       "      <td>2006</td>\n",
       "      <td>WD</td>\n",
       "      <td>Abnorml</td>\n",
       "      <td>140000</td>\n",
       "    </tr>\n",
       "    <tr>\n",
       "      <th>4</th>\n",
       "      <td>4</td>\n",
       "      <td>5</td>\n",
       "      <td>60</td>\n",
       "      <td>RL</td>\n",
       "      <td>84.0</td>\n",
       "      <td>14260</td>\n",
       "      <td>Pave</td>\n",
       "      <td>NaN</td>\n",
       "      <td>IR1</td>\n",
       "      <td>Lvl</td>\n",
       "      <td>...</td>\n",
       "      <td>0</td>\n",
       "      <td>0</td>\n",
       "      <td>0</td>\n",
       "      <td>NaN</td>\n",
       "      <td>0</td>\n",
       "      <td>12</td>\n",
       "      <td>2008</td>\n",
       "      <td>WD</td>\n",
       "      <td>Normal</td>\n",
       "      <td>250000</td>\n",
       "    </tr>\n",
       "    <tr>\n",
       "      <th>...</th>\n",
       "      <td>...</td>\n",
       "      <td>...</td>\n",
       "      <td>...</td>\n",
       "      <td>...</td>\n",
       "      <td>...</td>\n",
       "      <td>...</td>\n",
       "      <td>...</td>\n",
       "      <td>...</td>\n",
       "      <td>...</td>\n",
       "      <td>...</td>\n",
       "      <td>...</td>\n",
       "      <td>...</td>\n",
       "      <td>...</td>\n",
       "      <td>...</td>\n",
       "      <td>...</td>\n",
       "      <td>...</td>\n",
       "      <td>...</td>\n",
       "      <td>...</td>\n",
       "      <td>...</td>\n",
       "      <td>...</td>\n",
       "      <td>...</td>\n",
       "    </tr>\n",
       "    <tr>\n",
       "      <th>1454</th>\n",
       "      <td>1455</td>\n",
       "      <td>1456</td>\n",
       "      <td>60</td>\n",
       "      <td>RL</td>\n",
       "      <td>62.0</td>\n",
       "      <td>7917</td>\n",
       "      <td>Pave</td>\n",
       "      <td>NaN</td>\n",
       "      <td>Reg</td>\n",
       "      <td>Lvl</td>\n",
       "      <td>...</td>\n",
       "      <td>0</td>\n",
       "      <td>0</td>\n",
       "      <td>0</td>\n",
       "      <td>NaN</td>\n",
       "      <td>0</td>\n",
       "      <td>8</td>\n",
       "      <td>2007</td>\n",
       "      <td>WD</td>\n",
       "      <td>Normal</td>\n",
       "      <td>175000</td>\n",
       "    </tr>\n",
       "    <tr>\n",
       "      <th>1455</th>\n",
       "      <td>1456</td>\n",
       "      <td>1457</td>\n",
       "      <td>20</td>\n",
       "      <td>RL</td>\n",
       "      <td>85.0</td>\n",
       "      <td>13175</td>\n",
       "      <td>Pave</td>\n",
       "      <td>NaN</td>\n",
       "      <td>Reg</td>\n",
       "      <td>Lvl</td>\n",
       "      <td>...</td>\n",
       "      <td>0</td>\n",
       "      <td>0</td>\n",
       "      <td>4</td>\n",
       "      <td>NaN</td>\n",
       "      <td>0</td>\n",
       "      <td>2</td>\n",
       "      <td>2010</td>\n",
       "      <td>WD</td>\n",
       "      <td>Normal</td>\n",
       "      <td>210000</td>\n",
       "    </tr>\n",
       "    <tr>\n",
       "      <th>1456</th>\n",
       "      <td>1457</td>\n",
       "      <td>1458</td>\n",
       "      <td>70</td>\n",
       "      <td>RL</td>\n",
       "      <td>66.0</td>\n",
       "      <td>9042</td>\n",
       "      <td>Pave</td>\n",
       "      <td>NaN</td>\n",
       "      <td>Reg</td>\n",
       "      <td>Lvl</td>\n",
       "      <td>...</td>\n",
       "      <td>0</td>\n",
       "      <td>0</td>\n",
       "      <td>5</td>\n",
       "      <td>Shed</td>\n",
       "      <td>2500</td>\n",
       "      <td>5</td>\n",
       "      <td>2010</td>\n",
       "      <td>WD</td>\n",
       "      <td>Normal</td>\n",
       "      <td>266500</td>\n",
       "    </tr>\n",
       "    <tr>\n",
       "      <th>1457</th>\n",
       "      <td>1458</td>\n",
       "      <td>1459</td>\n",
       "      <td>20</td>\n",
       "      <td>RL</td>\n",
       "      <td>68.0</td>\n",
       "      <td>9717</td>\n",
       "      <td>Pave</td>\n",
       "      <td>NaN</td>\n",
       "      <td>Reg</td>\n",
       "      <td>Lvl</td>\n",
       "      <td>...</td>\n",
       "      <td>0</td>\n",
       "      <td>0</td>\n",
       "      <td>0</td>\n",
       "      <td>NaN</td>\n",
       "      <td>0</td>\n",
       "      <td>4</td>\n",
       "      <td>2010</td>\n",
       "      <td>WD</td>\n",
       "      <td>Normal</td>\n",
       "      <td>142125</td>\n",
       "    </tr>\n",
       "    <tr>\n",
       "      <th>1458</th>\n",
       "      <td>1459</td>\n",
       "      <td>1460</td>\n",
       "      <td>20</td>\n",
       "      <td>RL</td>\n",
       "      <td>75.0</td>\n",
       "      <td>9937</td>\n",
       "      <td>Pave</td>\n",
       "      <td>NaN</td>\n",
       "      <td>Reg</td>\n",
       "      <td>Lvl</td>\n",
       "      <td>...</td>\n",
       "      <td>0</td>\n",
       "      <td>0</td>\n",
       "      <td>0</td>\n",
       "      <td>NaN</td>\n",
       "      <td>0</td>\n",
       "      <td>6</td>\n",
       "      <td>2008</td>\n",
       "      <td>WD</td>\n",
       "      <td>Normal</td>\n",
       "      <td>147500</td>\n",
       "    </tr>\n",
       "  </tbody>\n",
       "</table>\n",
       "<p>1459 rows × 82 columns</p>\n",
       "</div>"
      ],
      "text/plain": [
       "      Unnamed: 0    Id  MSSubClass MSZoning  LotFrontage  LotArea Street  \\\n",
       "0              0     1          60       RL         65.0     8450   Pave   \n",
       "1              1     2          20       RL         80.0     9600   Pave   \n",
       "2              2     3          60       RL         68.0    11250   Pave   \n",
       "3              3     4          70       RL         60.0     9550   Pave   \n",
       "4              4     5          60       RL         84.0    14260   Pave   \n",
       "...          ...   ...         ...      ...          ...      ...    ...   \n",
       "1454        1455  1456          60       RL         62.0     7917   Pave   \n",
       "1455        1456  1457          20       RL         85.0    13175   Pave   \n",
       "1456        1457  1458          70       RL         66.0     9042   Pave   \n",
       "1457        1458  1459          20       RL         68.0     9717   Pave   \n",
       "1458        1459  1460          20       RL         75.0     9937   Pave   \n",
       "\n",
       "     Alley LotShape LandContour  ... PoolArea PoolQC Fence MiscFeature  \\\n",
       "0      NaN      Reg         Lvl  ...        0      0     0         NaN   \n",
       "1      NaN      Reg         Lvl  ...        0      0     0         NaN   \n",
       "2      NaN      IR1         Lvl  ...        0      0     0         NaN   \n",
       "3      NaN      IR1         Lvl  ...        0      0     0         NaN   \n",
       "4      NaN      IR1         Lvl  ...        0      0     0         NaN   \n",
       "...    ...      ...         ...  ...      ...    ...   ...         ...   \n",
       "1454   NaN      Reg         Lvl  ...        0      0     0         NaN   \n",
       "1455   NaN      Reg         Lvl  ...        0      0     4         NaN   \n",
       "1456   NaN      Reg         Lvl  ...        0      0     5        Shed   \n",
       "1457   NaN      Reg         Lvl  ...        0      0     0         NaN   \n",
       "1458   NaN      Reg         Lvl  ...        0      0     0         NaN   \n",
       "\n",
       "     MiscVal MoSold YrSold SaleType  SaleCondition  SalePrice  \n",
       "0          0      2   2008       WD         Normal     208500  \n",
       "1          0      5   2007       WD         Normal     181500  \n",
       "2          0      9   2008       WD         Normal     223500  \n",
       "3          0      2   2006       WD        Abnorml     140000  \n",
       "4          0     12   2008       WD         Normal     250000  \n",
       "...      ...    ...    ...      ...            ...        ...  \n",
       "1454       0      8   2007       WD         Normal     175000  \n",
       "1455       0      2   2010       WD         Normal     210000  \n",
       "1456    2500      5   2010       WD         Normal     266500  \n",
       "1457       0      4   2010       WD         Normal     142125  \n",
       "1458       0      6   2008       WD         Normal     147500  \n",
       "\n",
       "[1459 rows x 82 columns]"
      ]
     },
     "execution_count": 3,
     "metadata": {},
     "output_type": "execute_result"
    }
   ],
   "source": [
    "df_houses"
   ]
  },
  {
   "cell_type": "code",
   "execution_count": 4,
   "id": "13e54d6e",
   "metadata": {},
   "outputs": [],
   "source": [
    "df_houses.drop(columns =['Unnamed: 0','Id'], inplace=True)\n",
    "Id = test['Id']\n",
    "test.drop(columns =['Unnamed: 0', 'Id'], inplace=True)"
   ]
  },
  {
   "cell_type": "code",
   "execution_count": 5,
   "id": "48654145",
   "metadata": {},
   "outputs": [],
   "source": [
    "#split numeric features\n",
    "df_houses_numeric = df_houses.select_dtypes([np.number])\n",
    "df_test_numeric = test.select_dtypes([np.number])\n",
    "df_houses_numeric = df_houses_numeric.drop(columns=['SalePrice'])\n",
    "houses_num_col = df_houses_numeric.columns"
   ]
  },
  {
   "cell_type": "code",
   "execution_count": 6,
   "id": "31d1d5e9",
   "metadata": {},
   "outputs": [
    {
     "data": {
      "text/plain": [
       "(1459, 51)"
      ]
     },
     "execution_count": 6,
     "metadata": {},
     "output_type": "execute_result"
    }
   ],
   "source": [
    "df_houses_numeric.shape"
   ]
  },
  {
   "cell_type": "code",
   "execution_count": 7,
   "id": "5df7057d",
   "metadata": {
    "scrolled": true
   },
   "outputs": [
    {
     "data": {
      "text/plain": [
       "MSSubClass       0\n",
       "LotFrontage      0\n",
       "LotArea          0\n",
       "OverallQual      0\n",
       "OverallCond      0\n",
       "YearBuilt        0\n",
       "YearRemodAdd     0\n",
       "MasVnrArea       0\n",
       "ExterQual        0\n",
       "ExterCond        0\n",
       "BsmtQual         0\n",
       "BsmtCond         0\n",
       "BsmtExposure     0\n",
       "BsmtFinType1     0\n",
       "BsmtFinSF1       0\n",
       "BsmtFinType2     0\n",
       "BsmtFinSF2       0\n",
       "BsmtUnfSF        0\n",
       "TotalBsmtSF      0\n",
       "HeatingQC        0\n",
       "1stFlrSF         0\n",
       "2ndFlrSF         0\n",
       "LowQualFinSF     0\n",
       "GrLivArea        0\n",
       "BsmtFullBath     0\n",
       "BsmtHalfBath     0\n",
       "FullBath         0\n",
       "HalfBath         0\n",
       "BedroomAbvGr     0\n",
       "KitchenAbvGr     0\n",
       "KitchenQual      0\n",
       "TotRmsAbvGrd     0\n",
       "Fireplaces       0\n",
       "FireplaceQu      0\n",
       "GarageYrBlt      0\n",
       "GarageFinish     0\n",
       "GarageCars       0\n",
       "GarageArea       0\n",
       "GarageQual       0\n",
       "GarageCond       0\n",
       "WoodDeckSF       0\n",
       "OpenPorchSF      0\n",
       "EnclosedPorch    0\n",
       "3SsnPorch        0\n",
       "ScreenPorch      0\n",
       "PoolArea         0\n",
       "PoolQC           0\n",
       "Fence            0\n",
       "MiscVal          0\n",
       "MoSold           0\n",
       "YrSold           0\n",
       "dtype: int64"
      ]
     },
     "execution_count": 7,
     "metadata": {},
     "output_type": "execute_result"
    }
   ],
   "source": [
    "df_houses_numeric.isna().sum()"
   ]
  },
  {
   "cell_type": "code",
   "execution_count": 8,
   "id": "9833ef5e",
   "metadata": {},
   "outputs": [],
   "source": [
    "# examin outliers\n",
    "\n",
    "q5, q95 = df_houses_numeric.quantile(.005, axis=0), df_houses_numeric.quantile(.995, axis=0)\n",
    "iqr = q95 - q5\n"
   ]
  },
  {
   "cell_type": "code",
   "execution_count": 10,
   "id": "190f6919",
   "metadata": {
    "scrolled": true
   },
   "outputs": [
    {
     "data": {
      "text/plain": [
       "(12, 51)"
      ]
     },
     "execution_count": 10,
     "metadata": {},
     "output_type": "execute_result"
    }
   ],
   "source": [
    "# save outliers to be removed later\n",
    "drop_out = df_houses_numeric[(df_houses_numeric > (q95 + iqr * 1.5)).any(axis=1)]\n",
    "\n",
    "drop_out.shape\n"
   ]
  },
  {
   "cell_type": "code",
   "execution_count": 11,
   "id": "e663e13a",
   "metadata": {},
   "outputs": [],
   "source": [
    "# scale numeric features\n",
    "\n",
    "from sklearn.preprocessing import RobustScaler  \n",
    "scaler = RobustScaler ()\n",
    "\n",
    "df_houses_numeric = scaler.fit_transform(df_houses_numeric)\n",
    "\n",
    "# test is transform only\n",
    "df_test_numeric = scaler.transform(df_test_numeric)"
   ]
  },
  {
   "cell_type": "code",
   "execution_count": 12,
   "id": "a79939ce",
   "metadata": {},
   "outputs": [],
   "source": [
    "#replacing numeric features with scaled versions\n",
    "\n",
    "df_houses_numeric = pd.DataFrame(df_houses_numeric, columns=houses_num_col)\n",
    "df_houses[houses_num_col] = df_houses_numeric"
   ]
  },
  {
   "cell_type": "code",
   "execution_count": 13,
   "id": "81a36d6e",
   "metadata": {},
   "outputs": [],
   "source": [
    "#drop outliers from train only\n",
    "\n",
    "df_houses.drop(drop_out.index, inplace=True)"
   ]
  },
  {
   "cell_type": "code",
   "execution_count": 14,
   "id": "566bbca5",
   "metadata": {},
   "outputs": [],
   "source": [
    "#replacing numeric features in test with scaled versions\n",
    "\n",
    "df_test_numeric = pd.DataFrame(df_test_numeric, columns=houses_num_col)\n",
    "test[houses_num_col] = df_test_numeric"
   ]
  },
  {
   "cell_type": "code",
   "execution_count": 16,
   "id": "214e77a9",
   "metadata": {},
   "outputs": [],
   "source": [
    "# make dummies for catagorical features\n",
    "df_train = pd.get_dummies(df_houses)\n",
    "df_test = pd.get_dummies(test)"
   ]
  },
  {
   "cell_type": "code",
   "execution_count": 17,
   "id": "d0aae3e3",
   "metadata": {
    "scrolled": true
   },
   "outputs": [],
   "source": [
    "\n",
    "dif_test = df_train.columns.difference(df_test.columns).values\n",
    "\n",
    "# not all dummie features in both sets. We'll fill with 0s to match shapes\n",
    "df_test[dif_test] = 0"
   ]
  },
  {
   "cell_type": "code",
   "execution_count": 18,
   "id": "53b75189",
   "metadata": {},
   "outputs": [],
   "source": [
    "dif_train = df_test.columns.difference(df_train.columns).values\n",
    "df_train[dif_train] = 0"
   ]
  },
  {
   "cell_type": "code",
   "execution_count": 19,
   "id": "10c72778",
   "metadata": {},
   "outputs": [],
   "source": [
    "#remove sales price column from test it got added on with the numeric values\n",
    "df_test= df_test.drop(columns=['SalePrice'])"
   ]
  },
  {
   "cell_type": "code",
   "execution_count": 20,
   "id": "925d5ee6",
   "metadata": {
    "scrolled": true
   },
   "outputs": [
    {
     "data": {
      "text/plain": [
       "MSSubClass       0\n",
       "MSZoning         0\n",
       "LotFrontage      0\n",
       "LotArea          0\n",
       "Street           0\n",
       "                ..\n",
       "MoSold           0\n",
       "YrSold           0\n",
       "SaleType         0\n",
       "SaleCondition    0\n",
       "SalePrice        0\n",
       "Length: 80, dtype: int64"
      ]
     },
     "execution_count": 20,
     "metadata": {},
     "output_type": "execute_result"
    }
   ],
   "source": [
    "#double check the dataframe\n",
    "df_houses.isna().sum()"
   ]
  },
  {
   "cell_type": "code",
   "execution_count": 21,
   "id": "5c84d12b",
   "metadata": {
    "scrolled": true
   },
   "outputs": [
    {
     "data": {
      "text/plain": [
       "(1447, 234)"
      ]
     },
     "execution_count": 21,
     "metadata": {},
     "output_type": "execute_result"
    }
   ],
   "source": [
    "df_train.shape"
   ]
  },
  {
   "cell_type": "code",
   "execution_count": 22,
   "id": "92cfcc94",
   "metadata": {},
   "outputs": [
    {
     "data": {
      "text/html": [
       "<div>\n",
       "<style scoped>\n",
       "    .dataframe tbody tr th:only-of-type {\n",
       "        vertical-align: middle;\n",
       "    }\n",
       "\n",
       "    .dataframe tbody tr th {\n",
       "        vertical-align: top;\n",
       "    }\n",
       "\n",
       "    .dataframe thead th {\n",
       "        text-align: right;\n",
       "    }\n",
       "</style>\n",
       "<table border=\"1\" class=\"dataframe\">\n",
       "  <thead>\n",
       "    <tr style=\"text-align: right;\">\n",
       "      <th></th>\n",
       "      <th>MSSubClass</th>\n",
       "      <th>LotFrontage</th>\n",
       "      <th>LotArea</th>\n",
       "      <th>OverallQual</th>\n",
       "      <th>OverallCond</th>\n",
       "      <th>YearBuilt</th>\n",
       "      <th>YearRemodAdd</th>\n",
       "      <th>MasVnrArea</th>\n",
       "      <th>ExterQual</th>\n",
       "      <th>ExterCond</th>\n",
       "      <th>...</th>\n",
       "      <th>SaleType_New</th>\n",
       "      <th>SaleType_Oth</th>\n",
       "      <th>SaleType_WD</th>\n",
       "      <th>SaleCondition_Abnorml</th>\n",
       "      <th>SaleCondition_AdjLand</th>\n",
       "      <th>SaleCondition_Alloca</th>\n",
       "      <th>SaleCondition_Family</th>\n",
       "      <th>SaleCondition_Normal</th>\n",
       "      <th>SaleCondition_Partial</th>\n",
       "      <th>MiscFeature_Gar2</th>\n",
       "    </tr>\n",
       "  </thead>\n",
       "  <tbody>\n",
       "    <tr>\n",
       "      <th>count</th>\n",
       "      <td>1447.000000</td>\n",
       "      <td>1447.000000</td>\n",
       "      <td>1447.000000</td>\n",
       "      <td>1447.000000</td>\n",
       "      <td>1447.000000</td>\n",
       "      <td>1447.000000</td>\n",
       "      <td>1447.000000</td>\n",
       "      <td>1447.000000</td>\n",
       "      <td>1447.000000</td>\n",
       "      <td>1447.000000</td>\n",
       "      <td>...</td>\n",
       "      <td>1447.000000</td>\n",
       "      <td>1447.000000</td>\n",
       "      <td>1447.000000</td>\n",
       "      <td>1447.000000</td>\n",
       "      <td>1447.000000</td>\n",
       "      <td>1447.000000</td>\n",
       "      <td>1447.000000</td>\n",
       "      <td>1447.000000</td>\n",
       "      <td>1447.000000</td>\n",
       "      <td>1447.0</td>\n",
       "    </tr>\n",
       "    <tr>\n",
       "      <th>mean</th>\n",
       "      <td>0.135936</td>\n",
       "      <td>0.258429</td>\n",
       "      <td>0.153375</td>\n",
       "      <td>0.046994</td>\n",
       "      <td>0.574292</td>\n",
       "      <td>-0.037980</td>\n",
       "      <td>-0.247408</td>\n",
       "      <td>0.625963</td>\n",
       "      <td>0.395301</td>\n",
       "      <td>0.082239</td>\n",
       "      <td>...</td>\n",
       "      <td>0.083621</td>\n",
       "      <td>0.002073</td>\n",
       "      <td>0.867312</td>\n",
       "      <td>0.068417</td>\n",
       "      <td>0.002764</td>\n",
       "      <td>0.007602</td>\n",
       "      <td>0.013822</td>\n",
       "      <td>0.821700</td>\n",
       "      <td>0.085695</td>\n",
       "      <td>0.0</td>\n",
       "    </tr>\n",
       "    <tr>\n",
       "      <th>std</th>\n",
       "      <td>0.845741</td>\n",
       "      <td>1.109175</td>\n",
       "      <td>1.508585</td>\n",
       "      <td>0.689681</td>\n",
       "      <td>1.113156</td>\n",
       "      <td>0.657909</td>\n",
       "      <td>0.558992</td>\n",
       "      <td>1.095251</td>\n",
       "      <td>0.573678</td>\n",
       "      <td>0.350078</td>\n",
       "      <td>...</td>\n",
       "      <td>0.276915</td>\n",
       "      <td>0.045502</td>\n",
       "      <td>0.339355</td>\n",
       "      <td>0.252548</td>\n",
       "      <td>0.052522</td>\n",
       "      <td>0.086887</td>\n",
       "      <td>0.116791</td>\n",
       "      <td>0.382897</td>\n",
       "      <td>0.280009</td>\n",
       "      <td>0.0</td>\n",
       "    </tr>\n",
       "    <tr>\n",
       "      <th>min</th>\n",
       "      <td>-0.600000</td>\n",
       "      <td>-2.210526</td>\n",
       "      <td>-2.017020</td>\n",
       "      <td>-2.500000</td>\n",
       "      <td>-4.000000</td>\n",
       "      <td>-2.195652</td>\n",
       "      <td>-1.189189</td>\n",
       "      <td>0.000000</td>\n",
       "      <td>-1.000000</td>\n",
       "      <td>-2.000000</td>\n",
       "      <td>...</td>\n",
       "      <td>0.000000</td>\n",
       "      <td>0.000000</td>\n",
       "      <td>0.000000</td>\n",
       "      <td>0.000000</td>\n",
       "      <td>0.000000</td>\n",
       "      <td>0.000000</td>\n",
       "      <td>0.000000</td>\n",
       "      <td>0.000000</td>\n",
       "      <td>0.000000</td>\n",
       "      <td>0.0</td>\n",
       "    </tr>\n",
       "    <tr>\n",
       "      <th>25%</th>\n",
       "      <td>-0.600000</td>\n",
       "      <td>-0.157895</td>\n",
       "      <td>-0.487667</td>\n",
       "      <td>-0.500000</td>\n",
       "      <td>0.000000</td>\n",
       "      <td>-0.413043</td>\n",
       "      <td>-0.729730</td>\n",
       "      <td>0.000000</td>\n",
       "      <td>0.000000</td>\n",
       "      <td>0.000000</td>\n",
       "      <td>...</td>\n",
       "      <td>0.000000</td>\n",
       "      <td>0.000000</td>\n",
       "      <td>1.000000</td>\n",
       "      <td>0.000000</td>\n",
       "      <td>0.000000</td>\n",
       "      <td>0.000000</td>\n",
       "      <td>0.000000</td>\n",
       "      <td>1.000000</td>\n",
       "      <td>0.000000</td>\n",
       "      <td>0.0</td>\n",
       "    </tr>\n",
       "    <tr>\n",
       "      <th>50%</th>\n",
       "      <td>0.000000</td>\n",
       "      <td>0.000000</td>\n",
       "      <td>-0.009373</td>\n",
       "      <td>0.000000</td>\n",
       "      <td>0.000000</td>\n",
       "      <td>0.000000</td>\n",
       "      <td>0.000000</td>\n",
       "      <td>0.000000</td>\n",
       "      <td>0.000000</td>\n",
       "      <td>0.000000</td>\n",
       "      <td>...</td>\n",
       "      <td>0.000000</td>\n",
       "      <td>0.000000</td>\n",
       "      <td>1.000000</td>\n",
       "      <td>0.000000</td>\n",
       "      <td>0.000000</td>\n",
       "      <td>0.000000</td>\n",
       "      <td>0.000000</td>\n",
       "      <td>1.000000</td>\n",
       "      <td>0.000000</td>\n",
       "      <td>0.0</td>\n",
       "    </tr>\n",
       "    <tr>\n",
       "      <th>75%</th>\n",
       "      <td>0.400000</td>\n",
       "      <td>0.842105</td>\n",
       "      <td>0.500493</td>\n",
       "      <td>0.500000</td>\n",
       "      <td>1.000000</td>\n",
       "      <td>0.597826</td>\n",
       "      <td>0.270270</td>\n",
       "      <td>1.000000</td>\n",
       "      <td>1.000000</td>\n",
       "      <td>0.000000</td>\n",
       "      <td>...</td>\n",
       "      <td>0.000000</td>\n",
       "      <td>0.000000</td>\n",
       "      <td>1.000000</td>\n",
       "      <td>0.000000</td>\n",
       "      <td>0.000000</td>\n",
       "      <td>0.000000</td>\n",
       "      <td>0.000000</td>\n",
       "      <td>1.000000</td>\n",
       "      <td>0.000000</td>\n",
       "      <td>0.0</td>\n",
       "    </tr>\n",
       "    <tr>\n",
       "      <th>max</th>\n",
       "      <td>2.800000</td>\n",
       "      <td>13.157895</td>\n",
       "      <td>26.066108</td>\n",
       "      <td>2.000000</td>\n",
       "      <td>4.000000</td>\n",
       "      <td>0.804348</td>\n",
       "      <td>0.432432</td>\n",
       "      <td>9.726444</td>\n",
       "      <td>2.000000</td>\n",
       "      <td>2.000000</td>\n",
       "      <td>...</td>\n",
       "      <td>1.000000</td>\n",
       "      <td>1.000000</td>\n",
       "      <td>1.000000</td>\n",
       "      <td>1.000000</td>\n",
       "      <td>1.000000</td>\n",
       "      <td>1.000000</td>\n",
       "      <td>1.000000</td>\n",
       "      <td>1.000000</td>\n",
       "      <td>1.000000</td>\n",
       "      <td>0.0</td>\n",
       "    </tr>\n",
       "  </tbody>\n",
       "</table>\n",
       "<p>8 rows × 234 columns</p>\n",
       "</div>"
      ],
      "text/plain": [
       "        MSSubClass  LotFrontage      LotArea  OverallQual  OverallCond  \\\n",
       "count  1447.000000  1447.000000  1447.000000  1447.000000  1447.000000   \n",
       "mean      0.135936     0.258429     0.153375     0.046994     0.574292   \n",
       "std       0.845741     1.109175     1.508585     0.689681     1.113156   \n",
       "min      -0.600000    -2.210526    -2.017020    -2.500000    -4.000000   \n",
       "25%      -0.600000    -0.157895    -0.487667    -0.500000     0.000000   \n",
       "50%       0.000000     0.000000    -0.009373     0.000000     0.000000   \n",
       "75%       0.400000     0.842105     0.500493     0.500000     1.000000   \n",
       "max       2.800000    13.157895    26.066108     2.000000     4.000000   \n",
       "\n",
       "         YearBuilt  YearRemodAdd   MasVnrArea    ExterQual    ExterCond  ...  \\\n",
       "count  1447.000000   1447.000000  1447.000000  1447.000000  1447.000000  ...   \n",
       "mean     -0.037980     -0.247408     0.625963     0.395301     0.082239  ...   \n",
       "std       0.657909      0.558992     1.095251     0.573678     0.350078  ...   \n",
       "min      -2.195652     -1.189189     0.000000    -1.000000    -2.000000  ...   \n",
       "25%      -0.413043     -0.729730     0.000000     0.000000     0.000000  ...   \n",
       "50%       0.000000      0.000000     0.000000     0.000000     0.000000  ...   \n",
       "75%       0.597826      0.270270     1.000000     1.000000     0.000000  ...   \n",
       "max       0.804348      0.432432     9.726444     2.000000     2.000000  ...   \n",
       "\n",
       "       SaleType_New  SaleType_Oth  SaleType_WD  SaleCondition_Abnorml  \\\n",
       "count   1447.000000   1447.000000  1447.000000            1447.000000   \n",
       "mean       0.083621      0.002073     0.867312               0.068417   \n",
       "std        0.276915      0.045502     0.339355               0.252548   \n",
       "min        0.000000      0.000000     0.000000               0.000000   \n",
       "25%        0.000000      0.000000     1.000000               0.000000   \n",
       "50%        0.000000      0.000000     1.000000               0.000000   \n",
       "75%        0.000000      0.000000     1.000000               0.000000   \n",
       "max        1.000000      1.000000     1.000000               1.000000   \n",
       "\n",
       "       SaleCondition_AdjLand  SaleCondition_Alloca  SaleCondition_Family  \\\n",
       "count            1447.000000           1447.000000           1447.000000   \n",
       "mean                0.002764              0.007602              0.013822   \n",
       "std                 0.052522              0.086887              0.116791   \n",
       "min                 0.000000              0.000000              0.000000   \n",
       "25%                 0.000000              0.000000              0.000000   \n",
       "50%                 0.000000              0.000000              0.000000   \n",
       "75%                 0.000000              0.000000              0.000000   \n",
       "max                 1.000000              1.000000              1.000000   \n",
       "\n",
       "       SaleCondition_Normal  SaleCondition_Partial  MiscFeature_Gar2  \n",
       "count           1447.000000            1447.000000            1447.0  \n",
       "mean               0.821700               0.085695               0.0  \n",
       "std                0.382897               0.280009               0.0  \n",
       "min                0.000000               0.000000               0.0  \n",
       "25%                1.000000               0.000000               0.0  \n",
       "50%                1.000000               0.000000               0.0  \n",
       "75%                1.000000               0.000000               0.0  \n",
       "max                1.000000               1.000000               0.0  \n",
       "\n",
       "[8 rows x 234 columns]"
      ]
     },
     "execution_count": 22,
     "metadata": {},
     "output_type": "execute_result"
    }
   ],
   "source": [
    "df_train.describe()"
   ]
  },
  {
   "cell_type": "code",
   "execution_count": 23,
   "id": "5173347b",
   "metadata": {},
   "outputs": [
    {
     "data": {
      "text/plain": [
       "(1459, 233)"
      ]
     },
     "execution_count": 23,
     "metadata": {},
     "output_type": "execute_result"
    }
   ],
   "source": [
    "df_test.shape"
   ]
  },
  {
   "cell_type": "code",
   "execution_count": 24,
   "id": "816e3c9b",
   "metadata": {},
   "outputs": [],
   "source": [
    "# split into train and test\n",
    "X = df_train.drop(\"SalePrice\", axis = 1)\n",
    "y = df_train['SalePrice']\n",
    "X_train, X_test, y_train, y_test = train_test_split(X, y, test_size=.25, random_state=42)"
   ]
  },
  {
   "cell_type": "code",
   "execution_count": 25,
   "id": "bcbb6509",
   "metadata": {},
   "outputs": [
    {
     "name": "stdout",
     "output_type": "stream",
     "text": [
      "cv_score -37159428380478.14\n",
      "MAE: 1415223541.659301\n",
      "MSE: 1.9689891595674337e+20\n",
      "RMSE: 14032067415.62851\n",
      "R2 score: -30034164669.645905\n"
     ]
    }
   ],
   "source": [
    "#start with a basic regression\n",
    "\n",
    "\n",
    "model1 = LinearRegression()\n",
    "\n",
    "model1.fit(X_train, y_train)\n",
    "\n",
    "print('cv_score', np.mean(cross_val_score(model1, X_train, y_train, cv=5)))\n",
    "\n",
    "y_pred = model1.predict(X_test)\n",
    "print('MAE:', mean_absolute_error(y_test, y_pred))\n",
    "print('MSE:', mean_squared_error(y_test, y_pred))\n",
    "print('RMSE:', mean_squared_error(y_test, y_pred, squared=False))\n",
    "print('R2 score:', r2_score(y_test, y_pred))"
   ]
  },
  {
   "cell_type": "code",
   "execution_count": 26,
   "id": "4493b5dd",
   "metadata": {
    "scrolled": false
   },
   "outputs": [
    {
     "data": {
      "text/plain": [
       "<matplotlib.collections.PathCollection at 0x7fb498123b20>"
      ]
     },
     "execution_count": 26,
     "metadata": {},
     "output_type": "execute_result"
    },
    {
     "data": {
      "image/png": "[encoded data removed]",
      "text/plain": [
       "<Figure size 432x288 with 1 Axes>"
      ]
     },
     "metadata": {
      "needs_background": "light"
     },
     "output_type": "display_data"
    }
   ],
   "source": [
    "#check out the odd results\n",
    "plt.scatter(y_test, y_pred)"
   ]
  },
  {
   "cell_type": "markdown",
   "id": "66965862",
   "metadata": {},
   "source": [
    "The regular model is predicting a negative price throwing the whole model off. We'll try a veriety of other models."
   ]
  },
  {
   "cell_type": "code",
   "execution_count": 27,
   "id": "5e006c47",
   "metadata": {},
   "outputs": [
    {
     "data": {
      "text/plain": [
       "595     2.086726e+11\n",
       "1003    1.468297e+11\n",
       "944     4.360621e+10\n",
       "1321    3.874860e+10\n",
       "1024    3.722380e+10\n",
       "1152    3.722377e+10\n",
       "898     1.650503e+05\n",
       "1046    1.479357e+05\n",
       "1169    1.352923e+05\n",
       "440     1.213241e+05\n",
       "Name: SalePrice, dtype: float64"
      ]
     },
     "execution_count": 27,
     "metadata": {},
     "output_type": "execute_result"
    }
   ],
   "source": [
    "y_dif = np.abs(y_test-y_pred )\n",
    "y_dif.sort_values(ascending=False)[0:10]"
   ]
  },
  {
   "cell_type": "code",
   "execution_count": 37,
   "id": "84e392ae",
   "metadata": {},
   "outputs": [],
   "source": [
    "#import models we'd like to try\n",
    "\n",
    "from sklearn.linear_model import Ridge, Lasso, ElasticNet\n",
    "from sklearn.ensemble import RandomForestRegressor, GradientBoostingRegressor\n",
    "from sklearn.tree import DecisionTreeRegressor\n",
    "from sklearn.svm import SVR\n",
    "\n",
    "\n",
    "import warnings\n",
    "#warnings.filterwarnings(\"ignore\", category=[ConvergenceWarning, RuntimeWarning])\n",
    "warnings.filterwarnings(\"ignore\", category=DeprecationWarning)\n",
    "\n",
    "from sklearn.exceptions import ConvergenceWarning"
   ]
  },
  {
   "cell_type": "code",
   "execution_count": 38,
   "id": "7f532158",
   "metadata": {},
   "outputs": [],
   "source": [
    "#define a function to use random search to find best paramiters\n",
    "\n",
    "from sklearn.model_selection import RandomizedSearchCV\n",
    "\n",
    "def find_best_param(model, param_grid):\n",
    "        model_cv = RandomizedSearchCV(model, param_grid, cv=5)\n",
    "        model_cv.fit(X_train, y_train)\n",
    "        return model_cv.best_estimator_\n",
    "\n"
   ]
  },
  {
   "cell_type": "code",
   "execution_count": 44,
   "id": "887a5771",
   "metadata": {},
   "outputs": [],
   "source": [
    "\n",
    "\n",
    "\n",
    "#define empty dicts for what we might want to access later\n",
    "\n",
    "model_scores ={}\n",
    "y_preds = {}\n",
    "params_used ={}\n",
    "\n",
    "# define funtion that calls our find_best_params function to initiate new model \n",
    "# and save our model_scores, y_preds, and params_used for each model that we try\n",
    "\n",
    "def scoring(model_name, model, param_grid):\n",
    "    \n",
    "    \n",
    "    \n",
    "    new_model = find_best_param(model, param_grid)\n",
    "    new_model.fit(X_train, y_train)\n",
    "\n",
    "    y_pred = new_model.predict(X_test)\n",
    "    \n",
    "   \n",
    "    params_used[model_name] = new_model\n",
    "    y_preds[model_name] = y_pred\n",
    "    \n",
    "    model_scores[model_name] = {'model used': model,\n",
    "                                'cv_score': np.mean(cross_val_score(new_model, X_train, y_train, cv=5)),\n",
    "                                'MAE': mean_absolute_error(y_test, y_pred),\n",
    "                                'MSE': mean_squared_error(y_test, y_pred),\n",
    "                                'RMSE': mean_squared_error(y_test, y_pred, squared=False),\n",
    "                                'R2 score': r2_score(y_test, y_pred)\n",
    "                               }\n",
    "    model_scores, y_preds, params_used"
   ]
  },
  {
   "cell_type": "code",
   "execution_count": 45,
   "id": "64a5aa41",
   "metadata": {
    "scrolled": true
   },
   "outputs": [
    {
     "data": {
      "text/plain": [
       "Ridge(alpha=23.000999999999998)"
      ]
     },
     "execution_count": 45,
     "metadata": {},
     "output_type": "execute_result"
    }
   ],
   "source": [
    "#test the find_best_params function\n",
    "\n",
    "find_best_param(Ridge(), {'alpha': np.arange(0.001, 300)})"
   ]
  },
  {
   "cell_type": "code",
   "execution_count": 46,
   "id": "e6006d15",
   "metadata": {
    "scrolled": false
   },
   "outputs": [],
   "source": [
    "#define params and run Ridge model\n",
    "\n",
    "alpha_params = {'alpha': np.arange(0.001, 200)}\n",
    "\n",
    "scoring('model2', Ridge(), alpha_params)"
   ]
  },
  {
   "cell_type": "code",
   "execution_count": 47,
   "id": "568368fd",
   "metadata": {},
   "outputs": [],
   "source": [
    "# useing same params run Lasso\n",
    "\n",
    "scoring('model3', Lasso(), alpha_params);"
   ]
  },
  {
   "cell_type": "code",
   "execution_count": 48,
   "id": "2890870f",
   "metadata": {},
   "outputs": [],
   "source": [
    "# useing same params run ElasticNet\n",
    "\n",
    "scoring('model4', ElasticNet(), alpha_params)"
   ]
  },
  {
   "cell_type": "code",
   "execution_count": null,
   "id": "a31f6c48",
   "metadata": {},
   "outputs": [],
   "source": [
    "RFR_params = {'n_estimators': [300, 500, 800, 1000],\n",
    "              'max_features': ['auto', 'log2'],\n",
    "              'max_depth': [10, 20, 30, 40, 50, None],\n",
    "              'min_samples_split': [2, 5, 10, 15, 20],\n",
    "              'min_samples_leaf': [1, 2, 5, 10, 15]\n",
    "             }\n",
    "\n",
    "scoring('model5', RandomForestRegressor(), RFR_params)"
   ]
  },
  {
   "cell_type": "code",
   "execution_count": null,
   "id": "fcc81125",
   "metadata": {},
   "outputs": [],
   "source": [
    "# define params and run DecisionTree\n",
    "\n",
    "DTR_params = {'max_depth': np.arange(1, 20),\n",
    "              'min_samples_split': range(10, 60)}\n",
    "\n",
    "\n",
    "scoring('model6', DecisionTreeRegressor(), DTR_params)"
   ]
  },
  {
   "cell_type": "code",
   "execution_count": null,
   "id": "76c685a5",
   "metadata": {
    "scrolled": true
   },
   "outputs": [],
   "source": [
    "# define params and run GradientBoost\n",
    "\n",
    "GBR_params = {'learning_rate': [0.01, 0.05, 0.1, 0.5, 1, 5, 10, 100],\n",
    "              'n_estimators': [ 50, 250, 500, 750, 1000],\n",
    "              'max_features': ['auto', 'log2'],\n",
    "              'max_depth': [1, 3, 5, 7, 10, 25, 50],\n",
    "              'min_samples_split': [2, 5, 10, 15, 20, 25, 30],\n",
    "              'min_samples_leaf': [1, 2, 5, 10, 15, 20, 25]\n",
    "             }\n",
    "\n",
    "\n",
    "scoring('model7', GradientBoostingRegressor(), GBR_params);"
   ]
  },
  {
   "cell_type": "code",
   "execution_count": null,
   "id": "5d5ff99b",
   "metadata": {},
   "outputs": [],
   "source": [
    "# define params and run SVR\n",
    "\n",
    "SVR_params = {'C': [0.1, 1, 10, 100, 1000], \n",
    "              'gamma': [1, 0.1, 0.01, 0.001, 0.0001],\n",
    "              }\n",
    "\n",
    "scoring('model8', SVR(), SVR_params)"
   ]
  },
  {
   "cell_type": "code",
   "execution_count": null,
   "id": "8742e42b",
   "metadata": {
    "scrolled": false
   },
   "outputs": [],
   "source": [
    "# time to check out some scores\n",
    "\n",
    "scores = pd.DataFrame(model_scores).T\n",
    "scores.round(decimals=2)"
   ]
  },
  {
   "cell_type": "markdown",
   "id": "2f5914d1",
   "metadata": {},
   "source": [
    "Model 7 GradientBoost is slightly better then Lasso. Lets see if we can explore what is going on"
   ]
  },
  {
   "cell_type": "code",
   "execution_count": null,
   "id": "1b516faf",
   "metadata": {
    "scrolled": false
   },
   "outputs": [],
   "source": [
    "#what values paramiters did we end up with?\n",
    "#params_used"
   ]
  },
  {
   "cell_type": "code",
   "execution_count": null,
   "id": "6599d9b8",
   "metadata": {},
   "outputs": [],
   "source": [
    "# How similar are the actual y and predicted y values?\n",
    "\n",
    "#pd.DataFrame(y_test).describe()"
   ]
  },
  {
   "cell_type": "code",
   "execution_count": null,
   "id": "f322f915",
   "metadata": {},
   "outputs": [],
   "source": [
    "\n",
    "#pd.DataFrame(y_preds['model7']).describe()"
   ]
  },
  {
   "cell_type": "markdown",
   "id": "9ba9e7ed",
   "metadata": {},
   "source": [
    "The GradientBoost is not predicting the extreams of the test set. The STD is off by about 7500 and our mean is off by almost 1500"
   ]
  },
  {
   "cell_type": "code",
   "execution_count": null,
   "id": "dcf363dd",
   "metadata": {},
   "outputs": [],
   "source": [
    "# a quick visual\n",
    "plt.scatter(y_test, y_preds['model7'])"
   ]
  },
  {
   "cell_type": "code",
   "execution_count": null,
   "id": "4e5253fc",
   "metadata": {
    "scrolled": true
   },
   "outputs": [],
   "source": [
    "#check highest residuals\n",
    "y_dif = np.abs(y_test-y_preds['model7'] )\n",
    "y_dif.sort_values(ascending=False)[:10]"
   ]
  },
  {
   "cell_type": "markdown",
   "id": "e7a3b2f2",
   "metadata": {},
   "source": [
    "Clearly some high redisuals for the higher priced houses. Lets see the model on the train scores."
   ]
  },
  {
   "cell_type": "code",
   "execution_count": null,
   "id": "f446be3f",
   "metadata": {
    "scrolled": true
   },
   "outputs": [],
   "source": [
    "model7_train = params_used['model7']\n",
    "\n",
    "model7_train.fit(X_train, y_train)\n",
    "y_pred_train = model7_train.predict(X_train)\n",
    "\n",
    "print('cv_score:', np.mean(cross_val_score(model7_train, X_train, y_train, cv=5)),\n",
    "      'MAE:', mean_absolute_error(y_train, y_pred_train),\n",
    "      'MSE:', mean_squared_error(y_train, y_pred_train),\n",
    "      'RMSE:', mean_squared_error(y_train, y_pred_train, squared=False),\n",
    "      'R2 score:', r2_score(y_train, y_pred_train))"
   ]
  },
  {
   "cell_type": "markdown",
   "id": "6c311371",
   "metadata": {},
   "source": [
    "The Gradient booster model is a little over fit on the train set. \n",
    "Lets see if we can fine tune the paramiters further and also try more gradient boosting options."
   ]
  },
  {
   "cell_type": "code",
   "execution_count": null,
   "id": "d47b1cc3",
   "metadata": {
    "scrolled": true
   },
   "outputs": [],
   "source": [
    "from sklearn.model_selection import GridSearchCV\n",
    "import xgboost as XGB\n",
    "from catboost import CatBoostRegressor\n",
    "import lightgbm as LGB"
   ]
  },
  {
   "cell_type": "code",
   "execution_count": null,
   "id": "4411e51d",
   "metadata": {
    "scrolled": true
   },
   "outputs": [],
   "source": [
    "params_used['model7']"
   ]
  },
  {
   "cell_type": "code",
   "execution_count": null,
   "id": "a1af948b",
   "metadata": {},
   "outputs": [],
   "source": [
    "#gridsearch area picked by randomsearch\n",
    "param_grid = {'learning_rate': [0.03, 0.04, 0.05, 0.06, 0.07],\n",
    "              'max_depth': np.arange(3, 7),\n",
    "              'max_features': ['log2'],\n",
    "              'min_samples_leaf': np.arange(17, 23),\n",
    "              'n_estimators': [ 650, 700, 750, 800, 850]}\n",
    "\n",
    "model7_gs = GradientBoostingRegressor()\n",
    "model7_gscv = GridSearchCV(model7_gs, param_grid, cv=5)\n",
    "model7_gscv.fit(X_train, y_train)\n",
    "\n",
    "model7_gscv.best_estimator_"
   ]
  },
  {
   "cell_type": "code",
   "execution_count": null,
   "id": "24094234",
   "metadata": {},
   "outputs": [],
   "source": [
    "model9 = model7_gscv.best_estimator_\n",
    "model9.fit(X_train, y_train)\n",
    "\n",
    "y_pred = model9.predict(X_test)\n",
    "\n",
    "y_preds[model9] = y_pred\n",
    "    \n",
    "model_scores[model9] = {'model used': GradientBoostingRegressor(),\n",
    "                            'cv_score': np.mean(cross_val_score(model9, X_train, y_train, cv=5)),\n",
    "                            'MAE': mean_absolute_error(y_test, y_pred),\n",
    "                            'MSE': mean_squared_error(y_test, y_pred),\n",
    "                            'RMSE': mean_squared_error(y_test, y_pred, squared=False),\n",
    "                            'R2 score': r2_score(y_test, y_pred)\n",
    "                            }\n",
    "model_scores[model9]"
   ]
  },
  {
   "cell_type": "code",
   "execution_count": null,
   "id": "2f82ca17",
   "metadata": {},
   "outputs": [],
   "source": []
  },
  {
   "cell_type": "code",
   "execution_count": null,
   "id": "49f61e6a",
   "metadata": {
    "scrolled": false
   },
   "outputs": [],
   "source": [
    "# define params and test xgboost\n",
    "\n",
    "XG_params = {\n",
    "    'max_depth': range(3,15),\n",
    "    'min_child_weight': range(1,12),\n",
    "    'eta':[.3, .2, .1, .05, .01, .005],\n",
    "    'subsample': range(1,15),\n",
    "    'colsample_bytree': range(1,15),\n",
    "    'objective':['reg:linear'],\n",
    "    }\n",
    "\n",
    "#scoring('model10', XGB.XGBRegressor(), XG_params)\n",
    "\n",
    "model10 = XGB.XGBRegressor()\n",
    "#model10.fit(X_train, y_train)\n",
    "#y_pred = model11.predict(X_test)\n",
    "#mean_squared_error(y_test, y_pred, squared=False)"
   ]
  },
  {
   "cell_type": "code",
   "execution_count": null,
   "id": "aa93c639",
   "metadata": {},
   "outputs": [],
   "source": [
    "# try LGBM\n",
    "\n",
    "#scoring('model11', LGB.LGBMRegressor(), XG_params)\n",
    "\n",
    "model11_gs = LGB.LGBMRegressor()\n",
    "#model11_gscv = RandomizedSearchCV(model11_gs, XG_params, cv=5)\n",
    "#model11_gscv.fit(X_train, y_train)\n"
   ]
  },
  {
   "cell_type": "code",
   "execution_count": null,
   "id": "8cb6d960",
   "metadata": {},
   "outputs": [],
   "source": [
    "model11 = model11_gscv.best_estimator_\n",
    "model11.fit(X_train, y_train)\n",
    "y_pred = model11.predict(X_test)\n",
    "mean_squared_error(y_test, y_pred, squared=False)"
   ]
  },
  {
   "cell_type": "code",
   "execution_count": null,
   "id": "a454f09e",
   "metadata": {},
   "outputs": [],
   "source": [
    " # try CatBoostRegressor\n",
    "cat_params = {'iterations': [1, 2, 3, 4, 5],\n",
    "              'learning_rate': [0.01, 0.1, 0.5, 1],\n",
    "              'depth':[2, 5, 10]}\n",
    "    \n",
    "#scoring('model12', CatBoostRegressor(), cat_params)"
   ]
  },
  {
   "cell_type": "code",
   "execution_count": null,
   "id": "84b3cc14",
   "metadata": {},
   "outputs": [],
   "source": [
    "model9_pred = model9.predict(df_test)\n",
    "\n",
    "pred = pd.DataFrame()\n",
    "submission = pd.concat([Id, pred], axis=1)\n",
    "submission.columns = ['Id','SalePrice']\n",
    "submission"
   ]
  }
 ],
 "metadata": {
  "kernelspec": {
   "display_name": "Python 3",
   "language": "python",
   "name": "python3"
  },
  "language_info": {
   "codemirror_mode": {
    "name": "ipython",
    "version": 3
   },
   "file_extension": ".py",
   "mimetype": "text/x-python",
   "name": "python",
   "nbconvert_exporter": "python",
   "pygments_lexer": "ipython3",
   "version": "3.8.8"
  }
 },
 "nbformat": 4,
 "nbformat_minor": 5
}
