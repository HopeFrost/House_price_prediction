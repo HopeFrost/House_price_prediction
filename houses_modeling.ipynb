{
 "cells": [
  {
   "cell_type": "code",
   "execution_count": 1,
   "id": "fcb0bdf3",
   "metadata": {},
   "outputs": [],
   "source": [
    "import pandas as pd\n",
    "import numpy as np\n",
    "import seaborn as sns\n",
    "import matplotlib.pyplot as plt\n",
    "from sklearn.linear_model import LinearRegression\n",
    "from sklearn.model_selection import train_test_split, cross_val_score\n",
    "from sklearn.metrics import mean_squared_error, mean_absolute_error, r2_score"
   ]
  },
  {
   "cell_type": "code",
   "execution_count": 2,
   "id": "4898e14e",
   "metadata": {},
   "outputs": [],
   "source": [
    "# import data from previous wrangle and EDA notebooks\n",
    "df_houses = pd.read_csv('houses.csv')\n",
    "test = pd.read_csv('houses_test.csv')"
   ]
  },
  {
   "cell_type": "code",
   "execution_count": 3,
   "id": "5b3eaed6",
   "metadata": {
    "scrolled": true
   },
   "outputs": [
    {
     "data": {
      "text/html": [
       "<div>\n",
       "<style scoped>\n",
       "    .dataframe tbody tr th:only-of-type {\n",
       "        vertical-align: middle;\n",
       "    }\n",
       "\n",
       "    .dataframe tbody tr th {\n",
       "        vertical-align: top;\n",
       "    }\n",
       "\n",
       "    .dataframe thead th {\n",
       "        text-align: right;\n",
       "    }\n",
       "</style>\n",
       "<table border=\"1\" class=\"dataframe\">\n",
       "  <thead>\n",
       "    <tr style=\"text-align: right;\">\n",
       "      <th></th>\n",
       "      <th>Unnamed: 0</th>\n",
       "      <th>Id</th>\n",
       "      <th>MSSubClass</th>\n",
       "      <th>MSZoning</th>\n",
       "      <th>LotFrontage</th>\n",
       "      <th>LotArea</th>\n",
       "      <th>Street</th>\n",
       "      <th>Alley</th>\n",
       "      <th>LotShape</th>\n",
       "      <th>LandContour</th>\n",
       "      <th>...</th>\n",
       "      <th>PoolArea</th>\n",
       "      <th>PoolQC</th>\n",
       "      <th>Fence</th>\n",
       "      <th>MiscFeature</th>\n",
       "      <th>MiscVal</th>\n",
       "      <th>MoSold</th>\n",
       "      <th>YrSold</th>\n",
       "      <th>SaleType</th>\n",
       "      <th>SaleCondition</th>\n",
       "      <th>SalePrice</th>\n",
       "    </tr>\n",
       "  </thead>\n",
       "  <tbody>\n",
       "    <tr>\n",
       "      <th>0</th>\n",
       "      <td>0</td>\n",
       "      <td>1</td>\n",
       "      <td>60</td>\n",
       "      <td>RL</td>\n",
       "      <td>65.0</td>\n",
       "      <td>8450</td>\n",
       "      <td>Pave</td>\n",
       "      <td>NaN</td>\n",
       "      <td>Reg</td>\n",
       "      <td>Lvl</td>\n",
       "      <td>...</td>\n",
       "      <td>0</td>\n",
       "      <td>0</td>\n",
       "      <td>0</td>\n",
       "      <td>NaN</td>\n",
       "      <td>0</td>\n",
       "      <td>2</td>\n",
       "      <td>2008</td>\n",
       "      <td>WD</td>\n",
       "      <td>Normal</td>\n",
       "      <td>208500</td>\n",
       "    </tr>\n",
       "    <tr>\n",
       "      <th>1</th>\n",
       "      <td>1</td>\n",
       "      <td>2</td>\n",
       "      <td>20</td>\n",
       "      <td>RL</td>\n",
       "      <td>80.0</td>\n",
       "      <td>9600</td>\n",
       "      <td>Pave</td>\n",
       "      <td>NaN</td>\n",
       "      <td>Reg</td>\n",
       "      <td>Lvl</td>\n",
       "      <td>...</td>\n",
       "      <td>0</td>\n",
       "      <td>0</td>\n",
       "      <td>0</td>\n",
       "      <td>NaN</td>\n",
       "      <td>0</td>\n",
       "      <td>5</td>\n",
       "      <td>2007</td>\n",
       "      <td>WD</td>\n",
       "      <td>Normal</td>\n",
       "      <td>181500</td>\n",
       "    </tr>\n",
       "    <tr>\n",
       "      <th>2</th>\n",
       "      <td>2</td>\n",
       "      <td>3</td>\n",
       "      <td>60</td>\n",
       "      <td>RL</td>\n",
       "      <td>68.0</td>\n",
       "      <td>11250</td>\n",
       "      <td>Pave</td>\n",
       "      <td>NaN</td>\n",
       "      <td>IR1</td>\n",
       "      <td>Lvl</td>\n",
       "      <td>...</td>\n",
       "      <td>0</td>\n",
       "      <td>0</td>\n",
       "      <td>0</td>\n",
       "      <td>NaN</td>\n",
       "      <td>0</td>\n",
       "      <td>9</td>\n",
       "      <td>2008</td>\n",
       "      <td>WD</td>\n",
       "      <td>Normal</td>\n",
       "      <td>223500</td>\n",
       "    </tr>\n",
       "    <tr>\n",
       "      <th>3</th>\n",
       "      <td>3</td>\n",
       "      <td>4</td>\n",
       "      <td>70</td>\n",
       "      <td>RL</td>\n",
       "      <td>60.0</td>\n",
       "      <td>9550</td>\n",
       "      <td>Pave</td>\n",
       "      <td>NaN</td>\n",
       "      <td>IR1</td>\n",
       "      <td>Lvl</td>\n",
       "      <td>...</td>\n",
       "      <td>0</td>\n",
       "      <td>0</td>\n",
       "      <td>0</td>\n",
       "      <td>NaN</td>\n",
       "      <td>0</td>\n",
       "      <td>2</td>\n",
       "      <td>2006</td>\n",
       "      <td>WD</td>\n",
       "      <td>Abnorml</td>\n",
       "      <td>140000</td>\n",
       "    </tr>\n",
       "    <tr>\n",
       "      <th>4</th>\n",
       "      <td>4</td>\n",
       "      <td>5</td>\n",
       "      <td>60</td>\n",
       "      <td>RL</td>\n",
       "      <td>84.0</td>\n",
       "      <td>14260</td>\n",
       "      <td>Pave</td>\n",
       "      <td>NaN</td>\n",
       "      <td>IR1</td>\n",
       "      <td>Lvl</td>\n",
       "      <td>...</td>\n",
       "      <td>0</td>\n",
       "      <td>0</td>\n",
       "      <td>0</td>\n",
       "      <td>NaN</td>\n",
       "      <td>0</td>\n",
       "      <td>12</td>\n",
       "      <td>2008</td>\n",
       "      <td>WD</td>\n",
       "      <td>Normal</td>\n",
       "      <td>250000</td>\n",
       "    </tr>\n",
       "    <tr>\n",
       "      <th>...</th>\n",
       "      <td>...</td>\n",
       "      <td>...</td>\n",
       "      <td>...</td>\n",
       "      <td>...</td>\n",
       "      <td>...</td>\n",
       "      <td>...</td>\n",
       "      <td>...</td>\n",
       "      <td>...</td>\n",
       "      <td>...</td>\n",
       "      <td>...</td>\n",
       "      <td>...</td>\n",
       "      <td>...</td>\n",
       "      <td>...</td>\n",
       "      <td>...</td>\n",
       "      <td>...</td>\n",
       "      <td>...</td>\n",
       "      <td>...</td>\n",
       "      <td>...</td>\n",
       "      <td>...</td>\n",
       "      <td>...</td>\n",
       "      <td>...</td>\n",
       "    </tr>\n",
       "    <tr>\n",
       "      <th>1454</th>\n",
       "      <td>1455</td>\n",
       "      <td>1456</td>\n",
       "      <td>60</td>\n",
       "      <td>RL</td>\n",
       "      <td>62.0</td>\n",
       "      <td>7917</td>\n",
       "      <td>Pave</td>\n",
       "      <td>NaN</td>\n",
       "      <td>Reg</td>\n",
       "      <td>Lvl</td>\n",
       "      <td>...</td>\n",
       "      <td>0</td>\n",
       "      <td>0</td>\n",
       "      <td>0</td>\n",
       "      <td>NaN</td>\n",
       "      <td>0</td>\n",
       "      <td>8</td>\n",
       "      <td>2007</td>\n",
       "      <td>WD</td>\n",
       "      <td>Normal</td>\n",
       "      <td>175000</td>\n",
       "    </tr>\n",
       "    <tr>\n",
       "      <th>1455</th>\n",
       "      <td>1456</td>\n",
       "      <td>1457</td>\n",
       "      <td>20</td>\n",
       "      <td>RL</td>\n",
       "      <td>85.0</td>\n",
       "      <td>13175</td>\n",
       "      <td>Pave</td>\n",
       "      <td>NaN</td>\n",
       "      <td>Reg</td>\n",
       "      <td>Lvl</td>\n",
       "      <td>...</td>\n",
       "      <td>0</td>\n",
       "      <td>0</td>\n",
       "      <td>4</td>\n",
       "      <td>NaN</td>\n",
       "      <td>0</td>\n",
       "      <td>2</td>\n",
       "      <td>2010</td>\n",
       "      <td>WD</td>\n",
       "      <td>Normal</td>\n",
       "      <td>210000</td>\n",
       "    </tr>\n",
       "    <tr>\n",
       "      <th>1456</th>\n",
       "      <td>1457</td>\n",
       "      <td>1458</td>\n",
       "      <td>70</td>\n",
       "      <td>RL</td>\n",
       "      <td>66.0</td>\n",
       "      <td>9042</td>\n",
       "      <td>Pave</td>\n",
       "      <td>NaN</td>\n",
       "      <td>Reg</td>\n",
       "      <td>Lvl</td>\n",
       "      <td>...</td>\n",
       "      <td>0</td>\n",
       "      <td>0</td>\n",
       "      <td>5</td>\n",
       "      <td>Shed</td>\n",
       "      <td>2500</td>\n",
       "      <td>5</td>\n",
       "      <td>2010</td>\n",
       "      <td>WD</td>\n",
       "      <td>Normal</td>\n",
       "      <td>266500</td>\n",
       "    </tr>\n",
       "    <tr>\n",
       "      <th>1457</th>\n",
       "      <td>1458</td>\n",
       "      <td>1459</td>\n",
       "      <td>20</td>\n",
       "      <td>RL</td>\n",
       "      <td>68.0</td>\n",
       "      <td>9717</td>\n",
       "      <td>Pave</td>\n",
       "      <td>NaN</td>\n",
       "      <td>Reg</td>\n",
       "      <td>Lvl</td>\n",
       "      <td>...</td>\n",
       "      <td>0</td>\n",
       "      <td>0</td>\n",
       "      <td>0</td>\n",
       "      <td>NaN</td>\n",
       "      <td>0</td>\n",
       "      <td>4</td>\n",
       "      <td>2010</td>\n",
       "      <td>WD</td>\n",
       "      <td>Normal</td>\n",
       "      <td>142125</td>\n",
       "    </tr>\n",
       "    <tr>\n",
       "      <th>1458</th>\n",
       "      <td>1459</td>\n",
       "      <td>1460</td>\n",
       "      <td>20</td>\n",
       "      <td>RL</td>\n",
       "      <td>75.0</td>\n",
       "      <td>9937</td>\n",
       "      <td>Pave</td>\n",
       "      <td>NaN</td>\n",
       "      <td>Reg</td>\n",
       "      <td>Lvl</td>\n",
       "      <td>...</td>\n",
       "      <td>0</td>\n",
       "      <td>0</td>\n",
       "      <td>0</td>\n",
       "      <td>NaN</td>\n",
       "      <td>0</td>\n",
       "      <td>6</td>\n",
       "      <td>2008</td>\n",
       "      <td>WD</td>\n",
       "      <td>Normal</td>\n",
       "      <td>147500</td>\n",
       "    </tr>\n",
       "  </tbody>\n",
       "</table>\n",
       "<p>1459 rows × 82 columns</p>\n",
       "</div>"
      ],
      "text/plain": [
       "      Unnamed: 0    Id  MSSubClass MSZoning  LotFrontage  LotArea Street  \\\n",
       "0              0     1          60       RL         65.0     8450   Pave   \n",
       "1              1     2          20       RL         80.0     9600   Pave   \n",
       "2              2     3          60       RL         68.0    11250   Pave   \n",
       "3              3     4          70       RL         60.0     9550   Pave   \n",
       "4              4     5          60       RL         84.0    14260   Pave   \n",
       "...          ...   ...         ...      ...          ...      ...    ...   \n",
       "1454        1455  1456          60       RL         62.0     7917   Pave   \n",
       "1455        1456  1457          20       RL         85.0    13175   Pave   \n",
       "1456        1457  1458          70       RL         66.0     9042   Pave   \n",
       "1457        1458  1459          20       RL         68.0     9717   Pave   \n",
       "1458        1459  1460          20       RL         75.0     9937   Pave   \n",
       "\n",
       "     Alley LotShape LandContour  ... PoolArea PoolQC Fence MiscFeature  \\\n",
       "0      NaN      Reg         Lvl  ...        0      0     0         NaN   \n",
       "1      NaN      Reg         Lvl  ...        0      0     0         NaN   \n",
       "2      NaN      IR1         Lvl  ...        0      0     0         NaN   \n",
       "3      NaN      IR1         Lvl  ...        0      0     0         NaN   \n",
       "4      NaN      IR1         Lvl  ...        0      0     0         NaN   \n",
       "...    ...      ...         ...  ...      ...    ...   ...         ...   \n",
       "1454   NaN      Reg         Lvl  ...        0      0     0         NaN   \n",
       "1455   NaN      Reg         Lvl  ...        0      0     4         NaN   \n",
       "1456   NaN      Reg         Lvl  ...        0      0     5        Shed   \n",
       "1457   NaN      Reg         Lvl  ...        0      0     0         NaN   \n",
       "1458   NaN      Reg         Lvl  ...        0      0     0         NaN   \n",
       "\n",
       "     MiscVal MoSold YrSold SaleType  SaleCondition  SalePrice  \n",
       "0          0      2   2008       WD         Normal     208500  \n",
       "1          0      5   2007       WD         Normal     181500  \n",
       "2          0      9   2008       WD         Normal     223500  \n",
       "3          0      2   2006       WD        Abnorml     140000  \n",
       "4          0     12   2008       WD         Normal     250000  \n",
       "...      ...    ...    ...      ...            ...        ...  \n",
       "1454       0      8   2007       WD         Normal     175000  \n",
       "1455       0      2   2010       WD         Normal     210000  \n",
       "1456    2500      5   2010       WD         Normal     266500  \n",
       "1457       0      4   2010       WD         Normal     142125  \n",
       "1458       0      6   2008       WD         Normal     147500  \n",
       "\n",
       "[1459 rows x 82 columns]"
      ]
     },
     "execution_count": 3,
     "metadata": {},
     "output_type": "execute_result"
    }
   ],
   "source": [
    "df_houses"
   ]
  },
  {
   "cell_type": "code",
   "execution_count": 4,
   "id": "13e54d6e",
   "metadata": {},
   "outputs": [],
   "source": [
    "df_houses.drop(columns =['Unnamed: 0','Id'], inplace=True)\n",
    "Id = test['Id']\n",
    "test.drop(columns =['Unnamed: 0', 'Id'], inplace=True)"
   ]
  },
  {
   "cell_type": "code",
   "execution_count": 5,
   "id": "48654145",
   "metadata": {},
   "outputs": [],
   "source": [
    "#split numeric features\n",
    "df_houses_numeric = df_houses.select_dtypes([np.number])\n",
    "df_test_numeric = test.select_dtypes([np.number])\n",
    "df_houses_numeric = df_houses_numeric.drop(columns=['SalePrice'])\n",
    "houses_num_col = df_houses_numeric.columns"
   ]
  },
  {
   "cell_type": "code",
   "execution_count": 6,
   "id": "31d1d5e9",
   "metadata": {},
   "outputs": [
    {
     "data": {
      "text/plain": [
       "(1459, 51)"
      ]
     },
     "execution_count": 6,
     "metadata": {},
     "output_type": "execute_result"
    }
   ],
   "source": [
    "df_houses_numeric.shape"
   ]
  },
  {
   "cell_type": "code",
   "execution_count": 7,
   "id": "5df7057d",
   "metadata": {
    "scrolled": true
   },
   "outputs": [
    {
     "data": {
      "text/plain": [
       "MSSubClass       0\n",
       "LotFrontage      0\n",
       "LotArea          0\n",
       "OverallQual      0\n",
       "OverallCond      0\n",
       "YearBuilt        0\n",
       "YearRemodAdd     0\n",
       "MasVnrArea       0\n",
       "ExterQual        0\n",
       "ExterCond        0\n",
       "BsmtQual         0\n",
       "BsmtCond         0\n",
       "BsmtExposure     0\n",
       "BsmtFinType1     0\n",
       "BsmtFinSF1       0\n",
       "BsmtFinType2     0\n",
       "BsmtFinSF2       0\n",
       "BsmtUnfSF        0\n",
       "TotalBsmtSF      0\n",
       "HeatingQC        0\n",
       "1stFlrSF         0\n",
       "2ndFlrSF         0\n",
       "LowQualFinSF     0\n",
       "GrLivArea        0\n",
       "BsmtFullBath     0\n",
       "BsmtHalfBath     0\n",
       "FullBath         0\n",
       "HalfBath         0\n",
       "BedroomAbvGr     0\n",
       "KitchenAbvGr     0\n",
       "KitchenQual      0\n",
       "TotRmsAbvGrd     0\n",
       "Fireplaces       0\n",
       "FireplaceQu      0\n",
       "GarageYrBlt      0\n",
       "GarageFinish     0\n",
       "GarageCars       0\n",
       "GarageArea       0\n",
       "GarageQual       0\n",
       "GarageCond       0\n",
       "WoodDeckSF       0\n",
       "OpenPorchSF      0\n",
       "EnclosedPorch    0\n",
       "3SsnPorch        0\n",
       "ScreenPorch      0\n",
       "PoolArea         0\n",
       "PoolQC           0\n",
       "Fence            0\n",
       "MiscVal          0\n",
       "MoSold           0\n",
       "YrSold           0\n",
       "dtype: int64"
      ]
     },
     "execution_count": 7,
     "metadata": {},
     "output_type": "execute_result"
    }
   ],
   "source": [
    "df_houses_numeric.isna().sum()"
   ]
  },
  {
   "cell_type": "code",
   "execution_count": 8,
   "id": "9833ef5e",
   "metadata": {},
   "outputs": [],
   "source": [
    "# examin outliers\n",
    "\n",
    "q5, q95 = df_houses_numeric.quantile(.005, axis=0), df_houses_numeric.quantile(.995, axis=0)\n",
    "iqr = q95 - q5\n"
   ]
  },
  {
   "cell_type": "code",
   "execution_count": 9,
   "id": "190f6919",
   "metadata": {
    "scrolled": true
   },
   "outputs": [
    {
     "data": {
      "text/plain": [
       "(12, 51)"
      ]
     },
     "execution_count": 9,
     "metadata": {},
     "output_type": "execute_result"
    }
   ],
   "source": [
    "# save outliers to be removed later\n",
    "drop_out = df_houses_numeric[(df_houses_numeric > (q95 + iqr * 1.5)).any(axis=1)]\n",
    "\n",
    "drop_out.shape\n"
   ]
  },
  {
   "cell_type": "code",
   "execution_count": 10,
   "id": "e663e13a",
   "metadata": {},
   "outputs": [],
   "source": [
    "# scale numeric features\n",
    "\n",
    "from sklearn.preprocessing import RobustScaler  \n",
    "scaler = RobustScaler ()\n",
    "\n",
    "df_houses_numeric = scaler.fit_transform(df_houses_numeric)\n",
    "\n",
    "# test is transform only\n",
    "df_test_numeric = scaler.transform(df_test_numeric)"
   ]
  },
  {
   "cell_type": "code",
   "execution_count": 11,
   "id": "a79939ce",
   "metadata": {},
   "outputs": [],
   "source": [
    "#replacing numeric features with scaled versions\n",
    "\n",
    "df_houses_numeric = pd.DataFrame(df_houses_numeric, columns=houses_num_col)\n",
    "df_houses[houses_num_col] = df_houses_numeric"
   ]
  },
  {
   "cell_type": "code",
   "execution_count": 12,
   "id": "81a36d6e",
   "metadata": {},
   "outputs": [],
   "source": [
    "#drop outliers from train only\n",
    "\n",
    "df_houses.drop(drop_out.index, inplace=True)"
   ]
  },
  {
   "cell_type": "code",
   "execution_count": 13,
   "id": "566bbca5",
   "metadata": {},
   "outputs": [],
   "source": [
    "#replacing numeric features in test with scaled versions\n",
    "\n",
    "df_test_numeric = pd.DataFrame(df_test_numeric, columns=houses_num_col)\n",
    "test[houses_num_col] = df_test_numeric"
   ]
  },
  {
   "cell_type": "code",
   "execution_count": 14,
   "id": "214e77a9",
   "metadata": {},
   "outputs": [],
   "source": [
    "# make dummies for catagorical features\n",
    "df_train = pd.get_dummies(df_houses)\n",
    "df_test = pd.get_dummies(test)"
   ]
  },
  {
   "cell_type": "code",
   "execution_count": 15,
   "id": "d0aae3e3",
   "metadata": {
    "scrolled": true
   },
   "outputs": [],
   "source": [
    "\n",
    "dif_test = df_train.columns.difference(df_test.columns).values\n",
    "\n",
    "# not all dummie features in both sets. We'll fill with 0s to match shapes\n",
    "df_test[dif_test] = 0"
   ]
  },
  {
   "cell_type": "code",
   "execution_count": 16,
   "id": "53b75189",
   "metadata": {},
   "outputs": [],
   "source": [
    "dif_train = df_test.columns.difference(df_train.columns).values\n",
    "df_train[dif_train] = 0"
   ]
  },
  {
   "cell_type": "code",
   "execution_count": 17,
   "id": "10c72778",
   "metadata": {},
   "outputs": [],
   "source": [
    "#remove sales price column from test it got added on with the numeric values\n",
    "df_test= df_test.drop(columns=['SalePrice'])"
   ]
  },
  {
   "cell_type": "code",
   "execution_count": 18,
   "id": "925d5ee6",
   "metadata": {
    "scrolled": true
   },
   "outputs": [
    {
     "data": {
      "text/plain": [
       "MSSubClass       0\n",
       "MSZoning         0\n",
       "LotFrontage      0\n",
       "LotArea          0\n",
       "Street           0\n",
       "                ..\n",
       "MoSold           0\n",
       "YrSold           0\n",
       "SaleType         0\n",
       "SaleCondition    0\n",
       "SalePrice        0\n",
       "Length: 80, dtype: int64"
      ]
     },
     "execution_count": 18,
     "metadata": {},
     "output_type": "execute_result"
    }
   ],
   "source": [
    "#double check the dataframe\n",
    "df_houses.isna().sum()"
   ]
  },
  {
   "cell_type": "code",
   "execution_count": 19,
   "id": "5c84d12b",
   "metadata": {
    "scrolled": true
   },
   "outputs": [
    {
     "data": {
      "text/plain": [
       "(1447, 234)"
      ]
     },
     "execution_count": 19,
     "metadata": {},
     "output_type": "execute_result"
    }
   ],
   "source": [
    "df_train.shape"
   ]
  },
  {
   "cell_type": "code",
   "execution_count": 20,
   "id": "92cfcc94",
   "metadata": {},
   "outputs": [
    {
     "data": {
      "text/html": [
       "<div>\n",
       "<style scoped>\n",
       "    .dataframe tbody tr th:only-of-type {\n",
       "        vertical-align: middle;\n",
       "    }\n",
       "\n",
       "    .dataframe tbody tr th {\n",
       "        vertical-align: top;\n",
       "    }\n",
       "\n",
       "    .dataframe thead th {\n",
       "        text-align: right;\n",
       "    }\n",
       "</style>\n",
       "<table border=\"1\" class=\"dataframe\">\n",
       "  <thead>\n",
       "    <tr style=\"text-align: right;\">\n",
       "      <th></th>\n",
       "      <th>MSSubClass</th>\n",
       "      <th>LotFrontage</th>\n",
       "      <th>LotArea</th>\n",
       "      <th>OverallQual</th>\n",
       "      <th>OverallCond</th>\n",
       "      <th>YearBuilt</th>\n",
       "      <th>YearRemodAdd</th>\n",
       "      <th>MasVnrArea</th>\n",
       "      <th>ExterQual</th>\n",
       "      <th>ExterCond</th>\n",
       "      <th>...</th>\n",
       "      <th>SaleType_New</th>\n",
       "      <th>SaleType_Oth</th>\n",
       "      <th>SaleType_WD</th>\n",
       "      <th>SaleCondition_Abnorml</th>\n",
       "      <th>SaleCondition_AdjLand</th>\n",
       "      <th>SaleCondition_Alloca</th>\n",
       "      <th>SaleCondition_Family</th>\n",
       "      <th>SaleCondition_Normal</th>\n",
       "      <th>SaleCondition_Partial</th>\n",
       "      <th>MiscFeature_Gar2</th>\n",
       "    </tr>\n",
       "  </thead>\n",
       "  <tbody>\n",
       "    <tr>\n",
       "      <th>count</th>\n",
       "      <td>1447.000000</td>\n",
       "      <td>1447.000000</td>\n",
       "      <td>1447.000000</td>\n",
       "      <td>1447.000000</td>\n",
       "      <td>1447.000000</td>\n",
       "      <td>1447.000000</td>\n",
       "      <td>1447.000000</td>\n",
       "      <td>1447.000000</td>\n",
       "      <td>1447.000000</td>\n",
       "      <td>1447.000000</td>\n",
       "      <td>...</td>\n",
       "      <td>1447.000000</td>\n",
       "      <td>1447.000000</td>\n",
       "      <td>1447.000000</td>\n",
       "      <td>1447.000000</td>\n",
       "      <td>1447.000000</td>\n",
       "      <td>1447.000000</td>\n",
       "      <td>1447.000000</td>\n",
       "      <td>1447.000000</td>\n",
       "      <td>1447.000000</td>\n",
       "      <td>1447.0</td>\n",
       "    </tr>\n",
       "    <tr>\n",
       "      <th>mean</th>\n",
       "      <td>0.135936</td>\n",
       "      <td>0.258429</td>\n",
       "      <td>0.153375</td>\n",
       "      <td>0.046994</td>\n",
       "      <td>0.574292</td>\n",
       "      <td>-0.037980</td>\n",
       "      <td>-0.247408</td>\n",
       "      <td>0.625963</td>\n",
       "      <td>0.395301</td>\n",
       "      <td>0.082239</td>\n",
       "      <td>...</td>\n",
       "      <td>0.083621</td>\n",
       "      <td>0.002073</td>\n",
       "      <td>0.867312</td>\n",
       "      <td>0.068417</td>\n",
       "      <td>0.002764</td>\n",
       "      <td>0.007602</td>\n",
       "      <td>0.013822</td>\n",
       "      <td>0.821700</td>\n",
       "      <td>0.085695</td>\n",
       "      <td>0.0</td>\n",
       "    </tr>\n",
       "    <tr>\n",
       "      <th>std</th>\n",
       "      <td>0.845741</td>\n",
       "      <td>1.109175</td>\n",
       "      <td>1.508585</td>\n",
       "      <td>0.689681</td>\n",
       "      <td>1.113156</td>\n",
       "      <td>0.657909</td>\n",
       "      <td>0.558992</td>\n",
       "      <td>1.095251</td>\n",
       "      <td>0.573678</td>\n",
       "      <td>0.350078</td>\n",
       "      <td>...</td>\n",
       "      <td>0.276915</td>\n",
       "      <td>0.045502</td>\n",
       "      <td>0.339355</td>\n",
       "      <td>0.252548</td>\n",
       "      <td>0.052522</td>\n",
       "      <td>0.086887</td>\n",
       "      <td>0.116791</td>\n",
       "      <td>0.382897</td>\n",
       "      <td>0.280009</td>\n",
       "      <td>0.0</td>\n",
       "    </tr>\n",
       "    <tr>\n",
       "      <th>min</th>\n",
       "      <td>-0.600000</td>\n",
       "      <td>-2.210526</td>\n",
       "      <td>-2.017020</td>\n",
       "      <td>-2.500000</td>\n",
       "      <td>-4.000000</td>\n",
       "      <td>-2.195652</td>\n",
       "      <td>-1.189189</td>\n",
       "      <td>0.000000</td>\n",
       "      <td>-1.000000</td>\n",
       "      <td>-2.000000</td>\n",
       "      <td>...</td>\n",
       "      <td>0.000000</td>\n",
       "      <td>0.000000</td>\n",
       "      <td>0.000000</td>\n",
       "      <td>0.000000</td>\n",
       "      <td>0.000000</td>\n",
       "      <td>0.000000</td>\n",
       "      <td>0.000000</td>\n",
       "      <td>0.000000</td>\n",
       "      <td>0.000000</td>\n",
       "      <td>0.0</td>\n",
       "    </tr>\n",
       "    <tr>\n",
       "      <th>25%</th>\n",
       "      <td>-0.600000</td>\n",
       "      <td>-0.157895</td>\n",
       "      <td>-0.487667</td>\n",
       "      <td>-0.500000</td>\n",
       "      <td>0.000000</td>\n",
       "      <td>-0.413043</td>\n",
       "      <td>-0.729730</td>\n",
       "      <td>0.000000</td>\n",
       "      <td>0.000000</td>\n",
       "      <td>0.000000</td>\n",
       "      <td>...</td>\n",
       "      <td>0.000000</td>\n",
       "      <td>0.000000</td>\n",
       "      <td>1.000000</td>\n",
       "      <td>0.000000</td>\n",
       "      <td>0.000000</td>\n",
       "      <td>0.000000</td>\n",
       "      <td>0.000000</td>\n",
       "      <td>1.000000</td>\n",
       "      <td>0.000000</td>\n",
       "      <td>0.0</td>\n",
       "    </tr>\n",
       "    <tr>\n",
       "      <th>50%</th>\n",
       "      <td>0.000000</td>\n",
       "      <td>0.000000</td>\n",
       "      <td>-0.009373</td>\n",
       "      <td>0.000000</td>\n",
       "      <td>0.000000</td>\n",
       "      <td>0.000000</td>\n",
       "      <td>0.000000</td>\n",
       "      <td>0.000000</td>\n",
       "      <td>0.000000</td>\n",
       "      <td>0.000000</td>\n",
       "      <td>...</td>\n",
       "      <td>0.000000</td>\n",
       "      <td>0.000000</td>\n",
       "      <td>1.000000</td>\n",
       "      <td>0.000000</td>\n",
       "      <td>0.000000</td>\n",
       "      <td>0.000000</td>\n",
       "      <td>0.000000</td>\n",
       "      <td>1.000000</td>\n",
       "      <td>0.000000</td>\n",
       "      <td>0.0</td>\n",
       "    </tr>\n",
       "    <tr>\n",
       "      <th>75%</th>\n",
       "      <td>0.400000</td>\n",
       "      <td>0.842105</td>\n",
       "      <td>0.500493</td>\n",
       "      <td>0.500000</td>\n",
       "      <td>1.000000</td>\n",
       "      <td>0.597826</td>\n",
       "      <td>0.270270</td>\n",
       "      <td>1.000000</td>\n",
       "      <td>1.000000</td>\n",
       "      <td>0.000000</td>\n",
       "      <td>...</td>\n",
       "      <td>0.000000</td>\n",
       "      <td>0.000000</td>\n",
       "      <td>1.000000</td>\n",
       "      <td>0.000000</td>\n",
       "      <td>0.000000</td>\n",
       "      <td>0.000000</td>\n",
       "      <td>0.000000</td>\n",
       "      <td>1.000000</td>\n",
       "      <td>0.000000</td>\n",
       "      <td>0.0</td>\n",
       "    </tr>\n",
       "    <tr>\n",
       "      <th>max</th>\n",
       "      <td>2.800000</td>\n",
       "      <td>13.157895</td>\n",
       "      <td>26.066108</td>\n",
       "      <td>2.000000</td>\n",
       "      <td>4.000000</td>\n",
       "      <td>0.804348</td>\n",
       "      <td>0.432432</td>\n",
       "      <td>9.726444</td>\n",
       "      <td>2.000000</td>\n",
       "      <td>2.000000</td>\n",
       "      <td>...</td>\n",
       "      <td>1.000000</td>\n",
       "      <td>1.000000</td>\n",
       "      <td>1.000000</td>\n",
       "      <td>1.000000</td>\n",
       "      <td>1.000000</td>\n",
       "      <td>1.000000</td>\n",
       "      <td>1.000000</td>\n",
       "      <td>1.000000</td>\n",
       "      <td>1.000000</td>\n",
       "      <td>0.0</td>\n",
       "    </tr>\n",
       "  </tbody>\n",
       "</table>\n",
       "<p>8 rows × 234 columns</p>\n",
       "</div>"
      ],
      "text/plain": [
       "        MSSubClass  LotFrontage      LotArea  OverallQual  OverallCond  \\\n",
       "count  1447.000000  1447.000000  1447.000000  1447.000000  1447.000000   \n",
       "mean      0.135936     0.258429     0.153375     0.046994     0.574292   \n",
       "std       0.845741     1.109175     1.508585     0.689681     1.113156   \n",
       "min      -0.600000    -2.210526    -2.017020    -2.500000    -4.000000   \n",
       "25%      -0.600000    -0.157895    -0.487667    -0.500000     0.000000   \n",
       "50%       0.000000     0.000000    -0.009373     0.000000     0.000000   \n",
       "75%       0.400000     0.842105     0.500493     0.500000     1.000000   \n",
       "max       2.800000    13.157895    26.066108     2.000000     4.000000   \n",
       "\n",
       "         YearBuilt  YearRemodAdd   MasVnrArea    ExterQual    ExterCond  ...  \\\n",
       "count  1447.000000   1447.000000  1447.000000  1447.000000  1447.000000  ...   \n",
       "mean     -0.037980     -0.247408     0.625963     0.395301     0.082239  ...   \n",
       "std       0.657909      0.558992     1.095251     0.573678     0.350078  ...   \n",
       "min      -2.195652     -1.189189     0.000000    -1.000000    -2.000000  ...   \n",
       "25%      -0.413043     -0.729730     0.000000     0.000000     0.000000  ...   \n",
       "50%       0.000000      0.000000     0.000000     0.000000     0.000000  ...   \n",
       "75%       0.597826      0.270270     1.000000     1.000000     0.000000  ...   \n",
       "max       0.804348      0.432432     9.726444     2.000000     2.000000  ...   \n",
       "\n",
       "       SaleType_New  SaleType_Oth  SaleType_WD  SaleCondition_Abnorml  \\\n",
       "count   1447.000000   1447.000000  1447.000000            1447.000000   \n",
       "mean       0.083621      0.002073     0.867312               0.068417   \n",
       "std        0.276915      0.045502     0.339355               0.252548   \n",
       "min        0.000000      0.000000     0.000000               0.000000   \n",
       "25%        0.000000      0.000000     1.000000               0.000000   \n",
       "50%        0.000000      0.000000     1.000000               0.000000   \n",
       "75%        0.000000      0.000000     1.000000               0.000000   \n",
       "max        1.000000      1.000000     1.000000               1.000000   \n",
       "\n",
       "       SaleCondition_AdjLand  SaleCondition_Alloca  SaleCondition_Family  \\\n",
       "count            1447.000000           1447.000000           1447.000000   \n",
       "mean                0.002764              0.007602              0.013822   \n",
       "std                 0.052522              0.086887              0.116791   \n",
       "min                 0.000000              0.000000              0.000000   \n",
       "25%                 0.000000              0.000000              0.000000   \n",
       "50%                 0.000000              0.000000              0.000000   \n",
       "75%                 0.000000              0.000000              0.000000   \n",
       "max                 1.000000              1.000000              1.000000   \n",
       "\n",
       "       SaleCondition_Normal  SaleCondition_Partial  MiscFeature_Gar2  \n",
       "count           1447.000000            1447.000000            1447.0  \n",
       "mean               0.821700               0.085695               0.0  \n",
       "std                0.382897               0.280009               0.0  \n",
       "min                0.000000               0.000000               0.0  \n",
       "25%                1.000000               0.000000               0.0  \n",
       "50%                1.000000               0.000000               0.0  \n",
       "75%                1.000000               0.000000               0.0  \n",
       "max                1.000000               1.000000               0.0  \n",
       "\n",
       "[8 rows x 234 columns]"
      ]
     },
     "execution_count": 20,
     "metadata": {},
     "output_type": "execute_result"
    }
   ],
   "source": [
    "df_train.describe()"
   ]
  },
  {
   "cell_type": "code",
   "execution_count": 21,
   "id": "5173347b",
   "metadata": {},
   "outputs": [
    {
     "data": {
      "text/plain": [
       "(1459, 233)"
      ]
     },
     "execution_count": 21,
     "metadata": {},
     "output_type": "execute_result"
    }
   ],
   "source": [
    "df_test.shape"
   ]
  },
  {
   "cell_type": "code",
   "execution_count": 22,
   "id": "816e3c9b",
   "metadata": {},
   "outputs": [],
   "source": [
    "# split into train and test\n",
    "X = df_train.drop(\"SalePrice\", axis = 1)\n",
    "y = df_train['SalePrice']\n",
    "X_train, X_test, y_train, y_test = train_test_split(X, y, test_size=.25, random_state=648)"
   ]
  },
  {
   "cell_type": "code",
   "execution_count": 23,
   "id": "bcbb6509",
   "metadata": {},
   "outputs": [
    {
     "name": "stdout",
     "output_type": "stream",
     "text": [
      "cv_score -236589349952396.34\n",
      "MAE: 196540503358.67316\n",
      "MSE: 2.920348278254232e+24\n",
      "RMSE: 1708902653241.03\n",
      "R2 score: -532549051070065.5\n"
     ]
    }
   ],
   "source": [
    "#start with a basic regression\n",
    "\n",
    "\n",
    "model1 = LinearRegression()\n",
    "\n",
    "model1.fit(X_train, y_train)\n",
    "\n",
    "print('cv_score', np.mean(cross_val_score(model1, X_train, y_train, cv=5)))\n",
    "\n",
    "y_pred = model1.predict(X_test)\n",
    "print('MAE:', mean_absolute_error(y_test, y_pred))\n",
    "print('MSE:', mean_squared_error(y_test, y_pred))\n",
    "print('RMSE:', mean_squared_error(y_test, y_pred, squared=False))\n",
    "print('R2 score:', r2_score(y_test, y_pred))"
   ]
  },
  {
   "cell_type": "code",
   "execution_count": 24,
   "id": "4493b5dd",
   "metadata": {
    "scrolled": false
   },
   "outputs": [
    {
     "data": {
      "text/plain": [
       "<matplotlib.collections.PathCollection at 0x7f9bc3c11c70>"
      ]
     },
     "execution_count": 24,
     "metadata": {},
     "output_type": "execute_result"
    },
    {
     "data": {
      "image/png": "[encoded data removed]",
      "text/plain": [
       "<Figure size 432x288 with 1 Axes>"
      ]
     },
     "metadata": {
      "needs_background": "light"
     },
     "output_type": "display_data"
    }
   ],
   "source": [
    "#check out the odd results\n",
    "plt.scatter(y_test, y_pred)"
   ]
  },
  {
   "cell_type": "markdown",
   "id": "66965862",
   "metadata": {},
   "source": [
    "The regular model is predicting a negative price throwing the whole model off. We'll try a veriety of other models."
   ]
  },
  {
   "cell_type": "code",
   "execution_count": 25,
   "id": "5e006c47",
   "metadata": {},
   "outputs": [
    {
     "data": {
      "text/plain": [
       "1187    2.166245e+13\n",
       "398     2.027613e+13\n",
       "271     7.200002e+12\n",
       "1275    7.199997e+12\n",
       "1186    4.936546e+12\n",
       "9       4.936546e+12\n",
       "583     4.935985e+12\n",
       "1324    1.571498e+05\n",
       "681     8.334197e+04\n",
       "1000    8.194300e+04\n",
       "Name: SalePrice, dtype: float64"
      ]
     },
     "execution_count": 25,
     "metadata": {},
     "output_type": "execute_result"
    }
   ],
   "source": [
    "y_dif = np.abs(y_test-y_pred )\n",
    "y_dif.sort_values(ascending=False)[0:10]"
   ]
  },
  {
   "cell_type": "code",
   "execution_count": 26,
   "id": "84e392ae",
   "metadata": {},
   "outputs": [],
   "source": [
    "#import models we'd like to try\n",
    "\n",
    "from sklearn.linear_model import Ridge, Lasso, ElasticNet\n",
    "from sklearn.ensemble import RandomForestRegressor, GradientBoostingRegressor\n",
    "from sklearn.tree import DecisionTreeRegressor\n",
    "from sklearn.svm import SVR\n",
    "\n",
    "\n",
    "import warnings\n",
    "#warnings.filterwarnings(\"ignore\", category=[ConvergenceWarning, RuntimeWarning])\n",
    "warnings.filterwarnings(\"ignore\")\n",
    "\n",
    "from sklearn.exceptions import ConvergenceWarning"
   ]
  },
  {
   "cell_type": "code",
   "execution_count": 27,
   "id": "7f532158",
   "metadata": {},
   "outputs": [],
   "source": [
    "#define a function to use random search to find best paramiters\n",
    "\n",
    "from sklearn.model_selection import RandomizedSearchCV\n",
    "\n",
    "def find_best_param(model, param_grid):\n",
    "        model_cv = RandomizedSearchCV(model, param_grid, cv=5, random_state=648)\n",
    "        model_cv.fit(X_train, y_train)\n",
    "        return model_cv.best_estimator_\n",
    "\n"
   ]
  },
  {
   "cell_type": "code",
   "execution_count": 28,
   "id": "887a5771",
   "metadata": {},
   "outputs": [],
   "source": [
    "\n",
    "\n",
    "\n",
    "#define empty dicts for what we might want to access later\n",
    "\n",
    "model_scores ={}\n",
    "y_preds = {}\n",
    "params_used ={}\n",
    "\n",
    "# define funtion that calls our find_best_params function to initiate new model \n",
    "# and save our model_scores, y_preds, and params_used for each model that we try\n",
    "\n",
    "#@ignore_warnings(category=[ConvergenceWarning, RuntimeWarning])\n",
    "def scoring(model_name, model, param_grid):\n",
    "    \n",
    "    \n",
    "    \n",
    "    new_model = find_best_param(model, param_grid)\n",
    "    new_model.fit(X_train, y_train)\n",
    "\n",
    "    y_pred = new_model.predict(X_test)\n",
    "    \n",
    "   \n",
    "    params_used[model_name] = new_model\n",
    "    y_preds[model_name] = y_pred\n",
    "    \n",
    "    model_scores[model_name] = {'model used': model,\n",
    "                                'cv_score': np.round(np.mean(cross_val_score(new_model, X_train, y_train, cv=5)), 2),\n",
    "                                'MAE': np.round(mean_absolute_error(y_test, y_pred), 2),\n",
    "                                'MSE': np.round(mean_squared_error(y_test, y_pred), 2),\n",
    "                                'RMSE': np.round(mean_squared_error(y_test, y_pred, squared=False), 2),\n",
    "                                'R2 score': np.round(r2_score(y_test, y_pred), 2)\n",
    "                               }\n",
    "    model_scores, y_preds, params_used"
   ]
  },
  {
   "cell_type": "code",
   "execution_count": 29,
   "id": "64a5aa41",
   "metadata": {
    "scrolled": true
   },
   "outputs": [
    {
     "data": {
      "text/plain": [
       "Ridge(alpha=23.000999999999998)"
      ]
     },
     "execution_count": 29,
     "metadata": {},
     "output_type": "execute_result"
    }
   ],
   "source": [
    "#test the find_best_params function\n",
    "\n",
    "find_best_param(Ridge(), {'alpha': np.arange(0.001, 300)})"
   ]
  },
  {
   "cell_type": "code",
   "execution_count": 30,
   "id": "e6006d15",
   "metadata": {
    "scrolled": false
   },
   "outputs": [],
   "source": [
    "#define params and run Ridge model\n",
    "\n",
    "alpha_params = {'alpha': np.arange(0.001, 200)}\n",
    "\n",
    "scoring('model2', Ridge(random_state=648), alpha_params)"
   ]
  },
  {
   "cell_type": "code",
   "execution_count": 31,
   "id": "568368fd",
   "metadata": {
    "scrolled": true
   },
   "outputs": [],
   "source": [
    "# useing same params run Lasso\n",
    "\n",
    "scoring('model3', Lasso(random_state=648), alpha_params);"
   ]
  },
  {
   "cell_type": "code",
   "execution_count": 32,
   "id": "2890870f",
   "metadata": {},
   "outputs": [],
   "source": [
    "# useing same params run ElasticNet\n",
    "\n",
    "scoring('model4', ElasticNet(random_state=648), alpha_params)"
   ]
  },
  {
   "cell_type": "code",
   "execution_count": 33,
   "id": "a31f6c48",
   "metadata": {},
   "outputs": [],
   "source": [
    "RFR_params = {'n_estimators': [300, 500, 800, 1000],\n",
    "              'max_features': ['auto', 'log2'],\n",
    "              'max_depth': [10, 20, 30, 40, 50, None],\n",
    "              'min_samples_split': [2, 5, 10, 15, 20],\n",
    "              'min_samples_leaf': [1, 2, 5, 10, 15]\n",
    "             }\n",
    "\n",
    "scoring('model5', RandomForestRegressor(random_state=648), RFR_params)"
   ]
  },
  {
   "cell_type": "code",
   "execution_count": 34,
   "id": "fcc81125",
   "metadata": {},
   "outputs": [],
   "source": [
    "# define params and run DecisionTree\n",
    "\n",
    "DTR_params = {'max_depth': np.arange(1, 20),\n",
    "              'min_samples_split': range(10, 60)}\n",
    "\n",
    "\n",
    "scoring('model6', DecisionTreeRegressor(random_state=648), DTR_params)"
   ]
  },
  {
   "cell_type": "code",
   "execution_count": 35,
   "id": "76c685a5",
   "metadata": {
    "scrolled": true
   },
   "outputs": [],
   "source": [
    "# define params and run GradientBoost\n",
    "\n",
    "GBR_params = {'learning_rate': [0.01, 0.05, 0.1, 0.5, 1, 5, 10, 100],\n",
    "              'n_estimators': [ 50, 250, 500, 750, 1000],\n",
    "              'max_features': ['auto', 'log2'],\n",
    "              'max_depth': [1, 3, 5, 7, 10, 25, 50],\n",
    "              'min_samples_split': [2, 5, 10, 15, 20, 25, 30],\n",
    "              'min_samples_leaf': [1, 2, 5, 10, 15, 20, 25]\n",
    "             }\n",
    "\n",
    "\n",
    "scoring('model7', GradientBoostingRegressor(random_state=648), GBR_params);"
   ]
  },
  {
   "cell_type": "code",
   "execution_count": 36,
   "id": "5d5ff99b",
   "metadata": {},
   "outputs": [],
   "source": [
    "# define params and run SVR\n",
    "\n",
    "SVR_params = {'C': [0.1, 1, 10, 100, 1000], \n",
    "              'gamma': [1, 0.1, 0.01, 0.001, 0.0001],\n",
    "              }\n",
    "\n",
    "scoring('model8', SVR(), SVR_params)"
   ]
  },
  {
   "cell_type": "code",
   "execution_count": 37,
   "id": "8742e42b",
   "metadata": {
    "scrolled": false
   },
   "outputs": [
    {
     "data": {
      "text/html": [
       "<div>\n",
       "<style scoped>\n",
       "    .dataframe tbody tr th:only-of-type {\n",
       "        vertical-align: middle;\n",
       "    }\n",
       "\n",
       "    .dataframe tbody tr th {\n",
       "        vertical-align: top;\n",
       "    }\n",
       "\n",
       "    .dataframe thead th {\n",
       "        text-align: right;\n",
       "    }\n",
       "</style>\n",
       "<table border=\"1\" class=\"dataframe\">\n",
       "  <thead>\n",
       "    <tr style=\"text-align: right;\">\n",
       "      <th></th>\n",
       "      <th>model used</th>\n",
       "      <th>cv_score</th>\n",
       "      <th>MAE</th>\n",
       "      <th>MSE</th>\n",
       "      <th>RMSE</th>\n",
       "      <th>R2 score</th>\n",
       "    </tr>\n",
       "  </thead>\n",
       "  <tbody>\n",
       "    <tr>\n",
       "      <th>model2</th>\n",
       "      <td>Ridge(random_state=648)</td>\n",
       "      <td>0.85</td>\n",
       "      <td>17032.66</td>\n",
       "      <td>534966574.19</td>\n",
       "      <td>23129.34</td>\n",
       "      <td>0.9</td>\n",
       "    </tr>\n",
       "    <tr>\n",
       "      <th>model3</th>\n",
       "      <td>Lasso(random_state=648)</td>\n",
       "      <td>0.85</td>\n",
       "      <td>16647.16</td>\n",
       "      <td>504281429.22</td>\n",
       "      <td>22456.21</td>\n",
       "      <td>0.91</td>\n",
       "    </tr>\n",
       "    <tr>\n",
       "      <th>model4</th>\n",
       "      <td>ElasticNet(random_state=648)</td>\n",
       "      <td>0.56</td>\n",
       "      <td>35602.97</td>\n",
       "      <td>2352584195.91</td>\n",
       "      <td>48503.45</td>\n",
       "      <td>0.57</td>\n",
       "    </tr>\n",
       "    <tr>\n",
       "      <th>model5</th>\n",
       "      <td>RandomForestRegressor(random_state=648)</td>\n",
       "      <td>0.86</td>\n",
       "      <td>16180.45</td>\n",
       "      <td>561752316.55</td>\n",
       "      <td>23701.31</td>\n",
       "      <td>0.9</td>\n",
       "    </tr>\n",
       "    <tr>\n",
       "      <th>model6</th>\n",
       "      <td>DecisionTreeRegressor(random_state=648)</td>\n",
       "      <td>0.76</td>\n",
       "      <td>24056.88</td>\n",
       "      <td>1074308871.56</td>\n",
       "      <td>32776.65</td>\n",
       "      <td>0.8</td>\n",
       "    </tr>\n",
       "    <tr>\n",
       "      <th>model7</th>\n",
       "      <td>GradientBoostingRegressor(random_state=648)</td>\n",
       "      <td>0.87</td>\n",
       "      <td>15320.07</td>\n",
       "      <td>542655456.02</td>\n",
       "      <td>23294.97</td>\n",
       "      <td>0.9</td>\n",
       "    </tr>\n",
       "    <tr>\n",
       "      <th>model8</th>\n",
       "      <td>SVR()</td>\n",
       "      <td>-0.01</td>\n",
       "      <td>52191.87</td>\n",
       "      <td>5301076305.15</td>\n",
       "      <td>72808.49</td>\n",
       "      <td>0.03</td>\n",
       "    </tr>\n",
       "  </tbody>\n",
       "</table>\n",
       "</div>"
      ],
      "text/plain": [
       "                                         model used cv_score       MAE  \\\n",
       "model2                      Ridge(random_state=648)     0.85  17032.66   \n",
       "model3                      Lasso(random_state=648)     0.85  16647.16   \n",
       "model4                 ElasticNet(random_state=648)     0.56  35602.97   \n",
       "model5      RandomForestRegressor(random_state=648)     0.86  16180.45   \n",
       "model6      DecisionTreeRegressor(random_state=648)     0.76  24056.88   \n",
       "model7  GradientBoostingRegressor(random_state=648)     0.87  15320.07   \n",
       "model8                                        SVR()    -0.01  52191.87   \n",
       "\n",
       "                  MSE      RMSE R2 score  \n",
       "model2   534966574.19  23129.34      0.9  \n",
       "model3   504281429.22  22456.21     0.91  \n",
       "model4  2352584195.91  48503.45     0.57  \n",
       "model5   561752316.55  23701.31      0.9  \n",
       "model6  1074308871.56  32776.65      0.8  \n",
       "model7   542655456.02  23294.97      0.9  \n",
       "model8  5301076305.15  72808.49     0.03  "
      ]
     },
     "execution_count": 37,
     "metadata": {},
     "output_type": "execute_result"
    }
   ],
   "source": [
    "# time to check out some scores\n",
    "\n",
    "scores = pd.DataFrame(model_scores).T\n",
    "\n",
    "scores"
   ]
  },
  {
   "cell_type": "markdown",
   "id": "2f5914d1",
   "metadata": {},
   "source": [
    "Model 7 GradientBoost is slightly better then Lasso. Lets see if we can explore what is going on"
   ]
  },
  {
   "cell_type": "code",
   "execution_count": null,
   "id": "1b516faf",
   "metadata": {
    "scrolled": false
   },
   "outputs": [],
   "source": [
    "#what values paramiters did we end up with?\n",
    "#params_used"
   ]
  },
  {
   "cell_type": "markdown",
   "id": "9ba9e7ed",
   "metadata": {},
   "source": [
    "The GradientBoost is not predicting the extreams of the test set. The STD is off by about 7500 and our mean is off by almost 1500"
   ]
  },
  {
   "cell_type": "code",
   "execution_count": null,
   "id": "dcf363dd",
   "metadata": {},
   "outputs": [],
   "source": [
    "# a quick visual\n",
    "plt.scatter(y_test, y_preds['model7'])"
   ]
  },
  {
   "cell_type": "code",
   "execution_count": null,
   "id": "4e5253fc",
   "metadata": {
    "scrolled": true
   },
   "outputs": [],
   "source": [
    "#check highest residuals\n",
    "y_dif = np.abs(y_test-y_preds['model7'] )\n",
    "y_dif.sort_values(ascending=False)[:10]"
   ]
  },
  {
   "cell_type": "code",
   "execution_count": null,
   "id": "af31a79c",
   "metadata": {
    "scrolled": true
   },
   "outputs": [],
   "source": [
    "y_dif.describe()"
   ]
  },
  {
   "cell_type": "markdown",
   "id": "e7a3b2f2",
   "metadata": {},
   "source": [
    "Clearly some high redisuals for the higher priced houses. The mean residual is almost 1,500 and std is close to 19,000 Lets see the model on the train scores."
   ]
  },
  {
   "cell_type": "code",
   "execution_count": null,
   "id": "f446be3f",
   "metadata": {
    "scrolled": true
   },
   "outputs": [],
   "source": [
    "model7_train = params_used['model7']\n",
    "\n",
    "model7_train.fit(X_train, y_train)\n",
    "y_pred_train = model7_train.predict(X_train)\n",
    "\n",
    "print('cv_score:', np.mean(cross_val_score(model7_train, X_train, y_train, cv=5)),\n",
    "      'MAE:', mean_absolute_error(y_train, y_pred_train),\n",
    "      'MSE:', mean_squared_error(y_train, y_pred_train),\n",
    "      'RMSE:', mean_squared_error(y_train, y_pred_train, squared=False),\n",
    "      'R2 score:', r2_score(y_train, y_pred_train))"
   ]
  },
  {
   "cell_type": "markdown",
   "id": "6c311371",
   "metadata": {},
   "source": [
    "The Gradient booster model is a little over fit on the train set. \n",
    "Lets see if we can fine tune the paramiters further and also try more gradient boosting options."
   ]
  },
  {
   "cell_type": "code",
   "execution_count": null,
   "id": "d47b1cc3",
   "metadata": {
    "scrolled": true
   },
   "outputs": [],
   "source": [
    "from sklearn.model_selection import GridSearchCV\n",
    "import xgboost as XGB\n",
    "from catboost import CatBoostRegressor\n",
    "import lightgbm as LGB"
   ]
  },
  {
   "cell_type": "code",
   "execution_count": null,
   "id": "4411e51d",
   "metadata": {
    "scrolled": true
   },
   "outputs": [],
   "source": [
    "params_used['model7']"
   ]
  },
  {
   "cell_type": "code",
   "execution_count": null,
   "id": "a1af948b",
   "metadata": {},
   "outputs": [],
   "source": [
    "#gridsearch area picked by randomsearch\n",
    "param_grid = {'learning_rate': [0.03, 0.04, 0.05, 0.06, 0.07],\n",
    "              'max_depth': np.arange(7, 13),\n",
    "              'max_features': ['log2'],\n",
    "              'min_samples_leaf': np.arange(17, 23),\n",
    "              'min_samples_split':np.arange(17, 23),\n",
    "              'n_estimators': [ 650, 700, 750, 800, 850]}\n",
    "\n",
    "model7_gs = GradientBoostingRegressor(random_state=35)\n",
    "model7_gscv = GridSearchCV(model7_gs, param_grid, cv=5)\n",
    "model7_gscv.fit(X_train, y_train)\n",
    "\n",
    "model7_gscv.best_estimator_"
   ]
  },
  {
   "cell_type": "code",
   "execution_count": null,
   "id": "24094234",
   "metadata": {},
   "outputs": [],
   "source": [
    "model9 = model7_gscv.best_estimator_\n",
    "model9.fit(X_train, y_train)\n",
    "\n",
    "y_pred = model9.predict(X_test)\n",
    "\n",
    "y_preds[model9] = y_pred\n",
    "    \n",
    "model_scores[model9] = {'model used': GradientBoostingRegressor(),\n",
    "                            'cv_score': np.mean(cross_val_score(model9, X_train, y_train, cv=5)),\n",
    "                            'MAE': mean_absolute_error(y_test, y_pred),\n",
    "                            'MSE': mean_squared_error(y_test, y_pred),\n",
    "                            'RMSE': mean_squared_error(y_test, y_pred, squared=False),\n",
    "                            'R2 score': r2_score(y_test, y_pred)\n",
    "                            }\n",
    "model_scores[model9]"
   ]
  },
  {
   "cell_type": "code",
   "execution_count": null,
   "id": "2f82ca17",
   "metadata": {
    "scrolled": false
   },
   "outputs": [],
   "source": [
    "model9_pred = model9.predict(df_test)\n",
    "\n",
    "pred = pd.DataFrame(model9_pred)\n",
    "submission1 = pd.concat([Id, pred], axis=1)\n",
    "submission1.columns = ['Id','SalePrice']\n",
    "submission1"
   ]
  },
  {
   "cell_type": "code",
   "execution_count": null,
   "id": "64f80ed6",
   "metadata": {},
   "outputs": [],
   "source": [
    "#submission1.to_csv('submission1.csv', index =False)\n",
    "# kaggle competition recieves a score of 0.16373\n",
    "# number 9133 on the leaderboard at time of submition"
   ]
  },
  {
   "cell_type": "code",
   "execution_count": null,
   "id": "fd39a355",
   "metadata": {},
   "outputs": [],
   "source": [
    "model10 = XGB.XGBRegressor(random_state=35)\n",
    "model10.fit(X_train, y_train)"
   ]
  },
  {
   "cell_type": "code",
   "execution_count": null,
   "id": "49f61e6a",
   "metadata": {
    "scrolled": false
   },
   "outputs": [],
   "source": [
    "# define params and test xgboost\n",
    "\n",
    "#XG_params = {\n",
    "#    'max_depth': range(3,15),\n",
    "#    'min_child_weight': range(1,12),\n",
    "#    'learning_rate': [0.01, 0.05, 0.1, 0.3],\n",
    "#    'subsample': range(1,15),\n",
    "#    'colsample_bytree': range(1,15),\n",
    "#    'objective':['reg:linear'],\n",
    "#    }\n",
    "\n",
    "from scipy.stats import uniform, randint\n",
    "XB_params = {\n",
    "    \"colsample_bytree\": uniform(0.3, 0.7),\n",
    "    \"gamma\": uniform(0, 0.5),\n",
    "    \"learning_rate\": uniform(0.03, 0.3), # default 0.1 \n",
    "    \"max_depth\": randint(2, 6), # default 3\n",
    "    \"subsample\": uniform(0.4, 0.6)\n",
    "}\n",
    "\n",
    "#scoring('model10', XGB.XGBRegressor(), XG_params)\n",
    "\n",
    "model10 = XGB.XGBRegressor(random_state=35)\n",
    "model10_gscv = RandomizedSearchCV(model10, XG_params, n_iter=100, n_jobs=1, cv=3)\n",
    "#model10_gscv.fit(X_train, y_train)\n",
    "#y_pred = model11.predict(X_test)\n",
    "#mean_squared_error(y_test, y_pred, squared=False)"
   ]
  },
  {
   "cell_type": "code",
   "execution_count": null,
   "id": "4625503c",
   "metadata": {
    "scrolled": true
   },
   "outputs": [],
   "source": [
    "model11_lbg = LGB.LGBMRegressor(random_state=35)\n",
    "model11_lbg.fit(X_train, y_train)\n",
    "y_pred = model11_lbg.predict(X_test)\n",
    "mean_squared_error(y_test, y_pred, squared=False)"
   ]
  },
  {
   "cell_type": "code",
   "execution_count": null,
   "id": "6992de83",
   "metadata": {},
   "outputs": [],
   "source": [
    "model11_lbg"
   ]
  },
  {
   "cell_type": "code",
   "execution_count": null,
   "id": "aa93c639",
   "metadata": {},
   "outputs": [],
   "source": [
    "# try LGBM\n",
    "\n",
    "\n",
    "LBG_params = {\n",
    "    'num_leaves': [5, 10, 25, 40, 55, 70, 85],\n",
    "    'min_child_samples': [50, 75, 100, 125],\n",
    "    'min_split_gain': [0.0, 0.001, 0.01],\n",
    "    'num_iterations': [50, 75, 100],\n",
    "    'learning_rate': [0.01, 0.05, 0.1, 0.5, 1]\n",
    "}\n",
    "\n",
    "#model11_gs = LGB.LGBMRegressor()\n",
    "#model11_gscv = RandomizedSearchCV(model11_gs, LBG_params, cv=3)\n",
    "#model11_gscv.fit(X_train, y_train)\n",
    "\n",
    "scoring('model11', LGB.LGBMRegressor(random_state=35), LBG_params)"
   ]
  },
  {
   "cell_type": "code",
   "execution_count": null,
   "id": "b33ed5c5",
   "metadata": {},
   "outputs": [],
   "source": [
    "model_scores['model11']"
   ]
  },
  {
   "cell_type": "code",
   "execution_count": null,
   "id": "a454f09e",
   "metadata": {
    "scrolled": false
   },
   "outputs": [],
   "source": [
    " # try CatBoostRegressor\n",
    "cat_params = {'iterations': [10, 25, 50],\n",
    "              'learning_rate': [0.01, 0.1, 0.5, 1],\n",
    "              'depth':[ 10, 20, 30]}\n",
    "    \n",
    "scoring('model12', CatBoostRegressor(random_state=35), cat_params)"
   ]
  },
  {
   "cell_type": "code",
   "execution_count": null,
   "id": "4ca5c27a",
   "metadata": {},
   "outputs": [],
   "source": [
    "model_scores['model12']"
   ]
  },
  {
   "cell_type": "code",
   "execution_count": null,
   "id": "69c890c8",
   "metadata": {},
   "outputs": [],
   "source": [
    "scores = pd.DataFrame(model_scores).T\n",
    "scores"
   ]
  },
  {
   "cell_type": "code",
   "execution_count": null,
   "id": "c71160f9",
   "metadata": {},
   "outputs": [],
   "source": []
  },
  {
   "cell_type": "code",
   "execution_count": null,
   "id": "84b3cc14",
   "metadata": {},
   "outputs": [],
   "source": [
    "model-_pred = model-.predict(df_test)\n",
    "\n",
    "pred = pd.DataFrame(model-_pred)\n",
    "submission = pd.concat([Id, pred], axis=1)\n",
    "submission.columns = ['Id','SalePrice']\n",
    "submission"
   ]
  }
 ],
 "metadata": {
  "kernelspec": {
   "display_name": "Python 3",
   "language": "python",
   "name": "python3"
  },
  "language_info": {
   "codemirror_mode": {
    "name": "ipython",
    "version": 3
   },
   "file_extension": ".py",
   "mimetype": "text/x-python",
   "name": "python",
   "nbconvert_exporter": "python",
   "pygments_lexer": "ipython3",
   "version": "3.8.8"
  }
 },
 "nbformat": 4,
 "nbformat_minor": 5
}
